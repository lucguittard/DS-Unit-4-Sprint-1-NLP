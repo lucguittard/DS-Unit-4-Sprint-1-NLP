{
 "cells": [
  {
   "cell_type": "markdown",
   "metadata": {},
   "source": [
    "<img align=\"left\" src=\"https://lever-client-logos.s3.amazonaws.com/864372b1-534c-480e-acd5-9711f850815c-1524247202159.png\" width=200>\n",
    "<br></br>\n",
    "<br></br>\n",
    "\n",
    "# Topic Modeling\n",
    "## *Data Science Unit 4 Sprint 1 Assignment 4*\n",
    "\n",
    "Analyze a corpus of Amazon reviews from Unit 4 Sprint 1 Module 1's lecture using topic modeling: \n",
    "\n",
    "- Fit a Gensim LDA topic model on Amazon Reviews\n",
    "- Select appropriate number of topics\n",
    "- Create some dope visualization of the topics\n",
    "- Write a few bullets on your findings in markdown at the end\n",
    "- **Note**: You don't *have* to use generators for this assignment"
   ]
  },
  {
   "cell_type": "code",
   "execution_count": 1,
   "metadata": {},
   "outputs": [
    {
     "name": "stdout",
     "output_type": "stream",
     "text": [
      "Requirement already up-to-date: gensim in /Users/Person/anaconda3/envs/NLP/lib/python3.7/site-packages (3.8.1)\n",
      "Requirement already satisfied, skipping upgrade: scipy>=0.18.1 in /Users/Person/anaconda3/envs/NLP/lib/python3.7/site-packages (from gensim) (1.1.0)\n",
      "Requirement already satisfied, skipping upgrade: smart-open>=1.8.1 in /Users/Person/anaconda3/envs/NLP/lib/python3.7/site-packages (from gensim) (1.8.4)\n",
      "Requirement already satisfied, skipping upgrade: six>=1.5.0 in /Users/Person/anaconda3/envs/NLP/lib/python3.7/site-packages (from gensim) (1.12.0)\n",
      "Requirement already satisfied, skipping upgrade: numpy>=1.11.3 in /Users/Person/anaconda3/envs/NLP/lib/python3.7/site-packages (from gensim) (1.15.4)\n",
      "Requirement already satisfied, skipping upgrade: boto>=2.32 in /Users/Person/anaconda3/envs/NLP/lib/python3.7/site-packages (from smart-open>=1.8.1->gensim) (2.49.0)\n",
      "Requirement already satisfied, skipping upgrade: requests in /Users/Person/anaconda3/envs/NLP/lib/python3.7/site-packages (from smart-open>=1.8.1->gensim) (2.22.0)\n",
      "Requirement already satisfied, skipping upgrade: boto3 in /Users/Person/anaconda3/envs/NLP/lib/python3.7/site-packages (from smart-open>=1.8.1->gensim) (1.10.2)\n",
      "Requirement already satisfied, skipping upgrade: urllib3!=1.25.0,!=1.25.1,<1.26,>=1.21.1 in /Users/Person/anaconda3/envs/NLP/lib/python3.7/site-packages (from requests->smart-open>=1.8.1->gensim) (1.25.6)\n",
      "Requirement already satisfied, skipping upgrade: certifi>=2017.4.17 in /Users/Person/anaconda3/envs/NLP/lib/python3.7/site-packages (from requests->smart-open>=1.8.1->gensim) (2019.9.11)\n",
      "Requirement already satisfied, skipping upgrade: chardet<3.1.0,>=3.0.2 in /Users/Person/anaconda3/envs/NLP/lib/python3.7/site-packages (from requests->smart-open>=1.8.1->gensim) (3.0.4)\n",
      "Requirement already satisfied, skipping upgrade: idna<2.9,>=2.5 in /Users/Person/anaconda3/envs/NLP/lib/python3.7/site-packages (from requests->smart-open>=1.8.1->gensim) (2.8)\n",
      "Requirement already satisfied, skipping upgrade: jmespath<1.0.0,>=0.7.1 in /Users/Person/anaconda3/envs/NLP/lib/python3.7/site-packages (from boto3->smart-open>=1.8.1->gensim) (0.9.4)\n",
      "Requirement already satisfied, skipping upgrade: botocore<1.14.0,>=1.13.2 in /Users/Person/anaconda3/envs/NLP/lib/python3.7/site-packages (from boto3->smart-open>=1.8.1->gensim) (1.13.2)\n",
      "Requirement already satisfied, skipping upgrade: s3transfer<0.3.0,>=0.2.0 in /Users/Person/anaconda3/envs/NLP/lib/python3.7/site-packages (from boto3->smart-open>=1.8.1->gensim) (0.2.1)\n",
      "Requirement already satisfied, skipping upgrade: docutils<0.16,>=0.10 in /Users/Person/anaconda3/envs/NLP/lib/python3.7/site-packages (from botocore<1.14.0,>=1.13.2->boto3->smart-open>=1.8.1->gensim) (0.15.2)\n",
      "Requirement already satisfied, skipping upgrade: python-dateutil<3.0.0,>=2.1; python_version >= \"2.7\" in /Users/Person/anaconda3/envs/NLP/lib/python3.7/site-packages (from botocore<1.14.0,>=1.13.2->boto3->smart-open>=1.8.1->gensim) (2.8.0)\n",
      "Note: you may need to restart the kernel to use updated packages.\n"
     ]
    }
   ],
   "source": [
    "pip install -U gensim"
   ]
  },
  {
   "cell_type": "code",
   "execution_count": 23,
   "metadata": {},
   "outputs": [],
   "source": [
    "import re\n",
    "import numpy as np\n",
    "import pandas as pd\n",
    "from pprint import pprint\n",
    "\n",
    "# Gensim\n",
    "import gensim\n",
    "import gensim.corpora as corpora\n",
    "from gensim.parsing.preprocessing import STOPWORDS\n",
    "from gensim.utils import simple_preprocess\n",
    "from gensim.models import CoherenceModel\n",
    "from gensim.models.ldamulticore import LdaMulticore\n",
    "\n",
    "# spacy for lemmatization\n",
    "import spacy\n",
    "\n",
    "# Plotting tools\n",
    "import pyLDAvis\n",
    "import pyLDAvis.gensim  # don't skip this\n",
    "import matplotlib.pyplot as plt\n",
    "%matplotlib inline"
   ]
  },
  {
   "cell_type": "markdown",
   "metadata": {},
   "source": [
    "### When working with dataframes: https://www.machinelearningplus.com/nlp/topic-modeling-gensim-python/"
   ]
  },
  {
   "cell_type": "code",
   "execution_count": 5,
   "metadata": {},
   "outputs": [],
   "source": [
    "# get stopwords\n",
    "STOPWORDS = set(STOPWORDS).union(set(['batteries','I', 'amazon', 'i', 'Amazon', 'it', \"it's\", 'it.', 'the', 'this', ' ']))"
   ]
  },
  {
   "cell_type": "code",
   "execution_count": 6,
   "metadata": {},
   "outputs": [
    {
     "data": {
      "text/html": [
       "<div>\n",
       "<style scoped>\n",
       "    .dataframe tbody tr th:only-of-type {\n",
       "        vertical-align: middle;\n",
       "    }\n",
       "\n",
       "    .dataframe tbody tr th {\n",
       "        vertical-align: top;\n",
       "    }\n",
       "\n",
       "    .dataframe thead th {\n",
       "        text-align: right;\n",
       "    }\n",
       "</style>\n",
       "<table border=\"1\" class=\"dataframe\">\n",
       "  <thead>\n",
       "    <tr style=\"text-align: right;\">\n",
       "      <th></th>\n",
       "      <th>coffee_shop_name</th>\n",
       "      <th>full_review_text</th>\n",
       "      <th>star_rating</th>\n",
       "    </tr>\n",
       "  </thead>\n",
       "  <tbody>\n",
       "    <tr>\n",
       "      <th>0</th>\n",
       "      <td>The Factory - Cafe With a Soul</td>\n",
       "      <td>11/25/2016 1 check-in Love love loved the atm...</td>\n",
       "      <td>5.0 star rating</td>\n",
       "    </tr>\n",
       "    <tr>\n",
       "      <th>1</th>\n",
       "      <td>The Factory - Cafe With a Soul</td>\n",
       "      <td>12/2/2016 Listed in Date Night: Austin, Ambia...</td>\n",
       "      <td>4.0 star rating</td>\n",
       "    </tr>\n",
       "    <tr>\n",
       "      <th>2</th>\n",
       "      <td>The Factory - Cafe With a Soul</td>\n",
       "      <td>11/30/2016 1 check-in Listed in Brunch Spots ...</td>\n",
       "      <td>4.0 star rating</td>\n",
       "    </tr>\n",
       "    <tr>\n",
       "      <th>3</th>\n",
       "      <td>The Factory - Cafe With a Soul</td>\n",
       "      <td>11/25/2016 Very cool decor! Good drinks Nice ...</td>\n",
       "      <td>2.0 star rating</td>\n",
       "    </tr>\n",
       "    <tr>\n",
       "      <th>4</th>\n",
       "      <td>The Factory - Cafe With a Soul</td>\n",
       "      <td>12/3/2016 1 check-in They are located within ...</td>\n",
       "      <td>4.0 star rating</td>\n",
       "    </tr>\n",
       "  </tbody>\n",
       "</table>\n",
       "</div>"
      ],
      "text/plain": [
       "                  coffee_shop_name  \\\n",
       "0  The Factory - Cafe With a Soul    \n",
       "1  The Factory - Cafe With a Soul    \n",
       "2  The Factory - Cafe With a Soul    \n",
       "3  The Factory - Cafe With a Soul    \n",
       "4  The Factory - Cafe With a Soul    \n",
       "\n",
       "                                    full_review_text        star_rating  \n",
       "0   11/25/2016 1 check-in Love love loved the atm...   5.0 star rating   \n",
       "1   12/2/2016 Listed in Date Night: Austin, Ambia...   4.0 star rating   \n",
       "2   11/30/2016 1 check-in Listed in Brunch Spots ...   4.0 star rating   \n",
       "3   11/25/2016 Very cool decor! Good drinks Nice ...   2.0 star rating   \n",
       "4   12/3/2016 1 check-in They are located within ...   4.0 star rating   "
      ]
     },
     "execution_count": 6,
     "metadata": {},
     "output_type": "execute_result"
    }
   ],
   "source": [
    "# grab data and dataframe it\n",
    "url = \"https://raw.githubusercontent.com/LambdaSchool/DS-Unit-4-Sprint-1-NLP/master/module1-text-data/data/yelp_coffeeshop_review_data.csv\"\n",
    "\n",
    "df = pd.read_csv(url)\n",
    "df.head()"
   ]
  },
  {
   "cell_type": "code",
   "execution_count": 7,
   "metadata": {},
   "outputs": [
    {
     "name": "stderr",
     "output_type": "stream",
     "text": [
      "<>:6: DeprecationWarning: invalid escape sequence \\S\n",
      "<>:9: DeprecationWarning: invalid escape sequence \\s\n",
      "<>:6: DeprecationWarning: invalid escape sequence \\S\n",
      "<>:9: DeprecationWarning: invalid escape sequence \\s\n",
      "<>:6: DeprecationWarning: invalid escape sequence \\S\n",
      "<>:9: DeprecationWarning: invalid escape sequence \\s\n",
      "<ipython-input-7-60024a6c435c>:6: DeprecationWarning: invalid escape sequence \\S\n",
      "  data = [re.sub('\\S*@\\S*\\s?', '', sent) for sent in data]\n",
      "<ipython-input-7-60024a6c435c>:9: DeprecationWarning: invalid escape sequence \\s\n",
      "  data = [re.sub('\\s+', ' ', sent) for sent in data]\n"
     ]
    },
    {
     "name": "stdout",
     "output_type": "stream",
     "text": [
      "[' 11/25/2016 1 check-in Love love loved the atmosphere! Every corner of the coffee shop had its own style, and there were swings!!! I ordered the matcha latte, and it was muy fantastico! Ordering and getting my drink were pretty streamlined. I ordered on an iPad, which included all beverage selections that ranged from coffee to wine, desired level of sweetness, and a checkout system. I got my latte within minutes! I was hoping for a typical heart or feather on my latte, but found myself listing out all the possibilities of what the art may be. Any ideas? ']\n"
     ]
    }
   ],
   "source": [
    "# To remove emails and newline characters: \n",
    "# Convert to list\n",
    "data = df.full_review_text.values.tolist()\n",
    "\n",
    "# Remove Emails\n",
    "data = [re.sub('\\S*@\\S*\\s?', '', sent) for sent in data]\n",
    "\n",
    "# Remove new line characters\n",
    "data = [re.sub('\\s+', ' ', sent) for sent in data]\n",
    "\n",
    "# Remove distracting single quotes\n",
    "data = [re.sub(\"\\'\", \"\", sent) for sent in data]\n",
    "\n",
    "print(data[:1])"
   ]
  },
  {
   "cell_type": "code",
   "execution_count": 8,
   "metadata": {},
   "outputs": [
    {
     "name": "stdout",
     "output_type": "stream",
     "text": [
      "[['check', 'in', 'love', 'love', 'loved', 'the', 'atmosphere', 'every', 'corner', 'of', 'the', 'coffee', 'shop', 'had', 'its', 'own', 'style', 'and', 'there', 'were', 'swings', 'ordered', 'the', 'matcha', 'latte', 'and', 'it', 'was', 'muy', 'fantastico', 'ordering', 'and', 'getting', 'my', 'drink', 'were', 'pretty', 'streamlined', 'ordered', 'on', 'an', 'ipad', 'which', 'included', 'all', 'beverage', 'selections', 'that', 'ranged', 'from', 'coffee', 'to', 'wine', 'desired', 'level', 'of', 'sweetness', 'and', 'checkout', 'system', 'got', 'my', 'latte', 'within', 'minutes', 'was', 'hoping', 'for', 'typical', 'heart', 'or', 'feather', 'on', 'my', 'latte', 'but', 'found', 'myself', 'listing', 'out', 'all', 'the', 'possibilities', 'of', 'what', 'the', 'art', 'may', 'be', 'any', 'ideas']]\n"
     ]
    }
   ],
   "source": [
    "# tokenize and clean the text\n",
    "def sent_to_words(doc):\n",
    "    for sentence in doc:\n",
    "        yield(gensim.utils.simple_preprocess(str(sentence), deacc=True))  # deacc=True removes punctuations\n",
    "\n",
    "data_words = list(sent_to_words(data))\n",
    "\n",
    "print(data_words[:1])"
   ]
  },
  {
   "cell_type": "code",
   "execution_count": 9,
   "metadata": {},
   "outputs": [
    {
     "name": "stdout",
     "output_type": "stream",
     "text": [
      "['check', 'in', 'love', 'love', 'loved', 'the', 'atmosphere', 'every', 'corner', 'of', 'the', 'coffee', 'shop', 'had', 'its', 'own', 'style', 'and', 'there', 'were', 'swings', 'ordered', 'the', 'matcha', 'latte', 'and', 'it', 'was', 'muy', 'fantastico', 'ordering', 'and', 'getting', 'my', 'drink', 'were', 'pretty', 'streamlined', 'ordered', 'on', 'an', 'ipad', 'which', 'included', 'all', 'beverage', 'selections', 'that', 'ranged', 'from', 'coffee', 'to', 'wine', 'desired', 'level', 'of', 'sweetness', 'and', 'checkout', 'system', 'got', 'my', 'latte', 'within', 'minutes', 'was', 'hoping', 'for', 'typical', 'heart', 'or', 'feather', 'on', 'my', 'latte', 'but', 'found', 'myself', 'listing', 'out', 'all', 'the', 'possibilities', 'of', 'what', 'the', 'art', 'may', 'be', 'any', 'ideas']\n"
     ]
    }
   ],
   "source": [
    "# To create bigram and trigram models:\n",
    "# Build the bigram and trigram models\n",
    "bigram = gensim.models.Phrases(data_words, min_count=5, threshold=100) # higher threshold fewer phrases.\n",
    "trigram = gensim.models.Phrases(bigram[data_words], threshold=100)  \n",
    "\n",
    "# Faster way to get a sentence clubbed as a trigram/bigram\n",
    "bigram_mod = gensim.models.phrases.Phraser(bigram)\n",
    "trigram_mod = gensim.models.phrases.Phraser(trigram)\n",
    "\n",
    "# See trigram example\n",
    "print(trigram_mod[bigram_mod[data_words[0]]])"
   ]
  },
  {
   "cell_type": "code",
   "execution_count": 10,
   "metadata": {},
   "outputs": [],
   "source": [
    "# To remove stopwords, make bigrams and lemmatize:\n",
    "# Define functions for stopwords, bigrams, trigrams and lemmatization\n",
    "def remove_stopwords(texts):\n",
    "    return [[word for word in simple_preprocess(str(doc)) if word not in STOPWORDS] for doc in texts]\n",
    "\n",
    "def make_bigrams(texts):\n",
    "    return [bigram_mod[doc] for doc in texts]\n",
    "\n",
    "def make_trigrams(texts):\n",
    "    return [trigram_mod[bigram_mod[doc]] for doc in texts]\n",
    "\n",
    "def lemmatization(texts, allowed_postags=['NOUN', 'ADJ', 'VERB', 'ADV']):\n",
    "    \"\"\"https://spacy.io/api/annotation\"\"\"\n",
    "    texts_out = []\n",
    "    for sent in texts:\n",
    "        doc = nlp(\" \".join(sent)) \n",
    "        texts_out.append([token.lemma_ for token in doc if token.pos_ in allowed_postags])\n",
    "    return texts_out"
   ]
  },
  {
   "cell_type": "code",
   "execution_count": 11,
   "metadata": {},
   "outputs": [
    {
     "name": "stdout",
     "output_type": "stream",
     "text": [
      "[['check', 'love', 'love', 'love', 'atmosphere', 'corner', 'coffee', 'shop', 'style', 'swing', 'order', 'matcha', 'latte', 'order', 'get', 'drink', 'pretty', 'streamlined', 'order', 'ipad', 'include', 'beverage', 'selection', 'range', 'coffee', 'wine', 'desire', 'level', 'sweetness', 'checkout', 'get', 'latte', 'minute', 'hope', 'typical', 'heart', 'feather', 'latte', 'listing', 'possibility', 'art', 'idea']]\n"
     ]
    }
   ],
   "source": [
    "# Remove Stop Words\n",
    "data_words_nostops = remove_stopwords(data_words)\n",
    "\n",
    "# Form Bigrams\n",
    "data_words_bigrams = make_bigrams(data_words_nostops)\n",
    "\n",
    "# Initialize spacy 'en' model, keeping only tagger component (for efficiency)\n",
    "# python3 -m spacy download en\n",
    "nlp = spacy.load('en_core_web_lg', disable=['parser', 'ner'])\n",
    "\n",
    "# Do lemmatization keeping only noun, adj, vb, adv\n",
    "data_lemmatized = lemmatization(data_words_bigrams, allowed_postags=['NOUN', 'ADJ', 'VERB', 'ADV'])\n",
    "\n",
    "print(data_lemmatized[:1])"
   ]
  },
  {
   "cell_type": "code",
   "execution_count": 12,
   "metadata": {},
   "outputs": [
    {
     "name": "stdout",
     "output_type": "stream",
     "text": [
      "[[(0, 1), (1, 1), (2, 1), (3, 1), (4, 1), (5, 2), (6, 1), (7, 1), (8, 1), (9, 1), (10, 2), (11, 1), (12, 1), (13, 1), (14, 1), (15, 1), (16, 3), (17, 1), (18, 1), (19, 3), (20, 1), (21, 1), (22, 3), (23, 1), (24, 1), (25, 1), (26, 1), (27, 1), (28, 1), (29, 1), (30, 1), (31, 1), (32, 1), (33, 1)]]\n"
     ]
    }
   ],
   "source": [
    "# To create the dictionary and corpus needed for topic modeling\n",
    "# Create Dictionary\n",
    "id2word = corpora.Dictionary(data_lemmatized)\n",
    "\n",
    "# Create Corpus\n",
    "texts = data_lemmatized\n",
    "\n",
    "# Term Document Frequency\n",
    "corpus = [id2word.doc2bow(text) for text in texts]\n",
    "\n",
    "# View\n",
    "print(corpus[:1])"
   ]
  },
  {
   "cell_type": "markdown",
   "metadata": {},
   "source": [
    "\"Gensim creates a unique id for each word in the document. The produced corpus shown above is a mapping of (word_id, word_frequency).\n",
    "\n",
    "For example, (0, 1) above implies, word id 0 occurs once in the first document.\n",
    "\n",
    "This is used as the input by the LDA model.\n",
    "\n",
    "If you want to see what word a given id corresponds to, pass the id as a key to the dictionary.\" (source-link provided above)"
   ]
  },
  {
   "cell_type": "code",
   "execution_count": 17,
   "metadata": {},
   "outputs": [
    {
     "data": {
      "text/plain": [
       "[[('art', 1),\n",
       "  ('atmosphere', 1),\n",
       "  ('beverage', 1),\n",
       "  ('check', 1),\n",
       "  ('checkout', 1),\n",
       "  ('coffee', 2),\n",
       "  ('corner', 1),\n",
       "  ('desire', 1),\n",
       "  ('drink', 1),\n",
       "  ('feather', 1),\n",
       "  ('get', 2),\n",
       "  ('heart', 1),\n",
       "  ('hope', 1),\n",
       "  ('idea', 1),\n",
       "  ('include', 1),\n",
       "  ('ipad', 1),\n",
       "  ('latte', 3),\n",
       "  ('level', 1),\n",
       "  ('listing', 1),\n",
       "  ('love', 3),\n",
       "  ('matcha', 1),\n",
       "  ('minute', 1),\n",
       "  ('order', 3),\n",
       "  ('possibility', 1),\n",
       "  ('pretty', 1),\n",
       "  ('range', 1),\n",
       "  ('selection', 1),\n",
       "  ('shop', 1),\n",
       "  ('streamlined', 1),\n",
       "  ('style', 1),\n",
       "  ('sweetness', 1),\n",
       "  ('swing', 1),\n",
       "  ('typical', 1),\n",
       "  ('wine', 1)]]"
      ]
     },
     "execution_count": 17,
     "metadata": {},
     "output_type": "execute_result"
    }
   ],
   "source": [
    "# Human readable format of corpus (term-frequency)\n",
    "[[(id2word[id], freq) for id, freq in cp] for cp in corpus[:1]]"
   ]
  },
  {
   "cell_type": "code",
   "execution_count": 18,
   "metadata": {},
   "outputs": [],
   "source": [
    "# To build the topic model:\n",
    "# Build an LDA model\n",
    "lda_model = gensim.models.ldamodel.LdaModel(corpus=corpus,\n",
    "                                           id2word=id2word,\n",
    "                                           num_topics=20, \n",
    "                                           random_state=100,\n",
    "                                           update_every=1,\n",
    "                                           chunksize=100,\n",
    "                                           passes=10,\n",
    "                                           alpha='auto',\n",
    "                                           per_word_topics=True)"
   ]
  },
  {
   "cell_type": "code",
   "execution_count": 19,
   "metadata": {},
   "outputs": [
    {
     "name": "stdout",
     "output_type": "stream",
     "text": [
      "[(0, '0.236*\"vegan\" + 0.109*\"customer_service\" + 0.069*\"environment\" + 0.044*\"slightly\" + 0.042*\"frequent\" + 0.035*\"pro\" + 0.033*\"notch\" + 0.029*\"con\" + 0.017*\"hair\" + 0.009*\"remotely\"'), (1, '0.209*\"espresso\" + 0.135*\"brew\" + 0.089*\"updated_review\" + 0.051*\"establishment\" + 0.044*\"refreshing\" + 0.035*\"double\" + 0.028*\"overcook\" + 0.019*\"normally\" + 0.017*\"stumptown\" + 0.016*\"scratch\"'), (2, '0.125*\"vanilla\" + 0.112*\"mocha\" + 0.076*\"lavender\" + 0.052*\"venue\" + 0.052*\"almond_milk\" + 0.051*\"soy\" + 0.047*\"homemade\" + 0.044*\"efficient\" + 0.042*\"syrup\" + 0.026*\"rosemary\"'), (3, '0.213*\"night\" + 0.175*\"dessert\" + 0.131*\"today\" + 0.061*\"prepare\" + 0.054*\"delish\" + 0.040*\"cost\" + 0.020*\"rave\" + 0.007*\"penny\" + 0.000*\"sandwich\" + 0.000*\"salad\"'), (4, '0.060*\"price\" + 0.051*\"ask\" + 0.046*\"kind\" + 0.034*\"give\" + 0.028*\"leave\" + 0.027*\"choice\" + 0.022*\"pay\" + 0.022*\"high\" + 0.022*\"pick\" + 0.021*\"hear\"'), (5, '0.174*\"dish\" + 0.114*\"arrive\" + 0.105*\"face\" + 0.075*\"smile\" + 0.061*\"almond\" + 0.039*\"red\" + 0.026*\"total\" + 0.023*\"furniture\" + 0.016*\"story\" + 0.013*\"blast\"'), (6, '0.062*\"not\" + 0.054*\"be\" + 0.037*\"do\" + 0.036*\"time\" + 0.034*\"order\" + 0.032*\"have\" + 0.030*\"come\" + 0.023*\"go\" + 0.017*\"want\" + 0.016*\"look\"'), (7, '0.096*\"thank\" + 0.061*\"sell\" + 0.056*\"able\" + 0.050*\"party\" + 0.035*\"downtown\" + 0.033*\"weekday\" + 0.027*\"greet\" + 0.027*\"card\" + 0.027*\"birthday\" + 0.023*\"invite\"'), (8, '0.106*\"chicken\" + 0.068*\"grab\" + 0.067*\"choose\" + 0.061*\"plate\" + 0.052*\"stuff\" + 0.050*\"neighborhood\" + 0.041*\"group\" + 0.041*\"strawberry\" + 0.035*\"fairly\" + 0.032*\"ready\"'), (9, '0.140*\"scone\" + 0.118*\"buy\" + 0.107*\"guy\" + 0.080*\"fun\" + 0.066*\"gluten_free\" + 0.034*\"piece\" + 0.025*\"imagine\" + 0.024*\"italian\" + 0.021*\"crazy\" + 0.020*\"sip\"'), (10, '0.128*\"tip\" + 0.104*\"lay\" + 0.064*\"restroom\" + 0.000*\"sandwich\" + 0.000*\"salad\" + 0.000*\"patio\" + 0.000*\"breakfast\" + 0.000*\"clean\" + 0.000*\"woman\" + 0.000*\"easily\"'), (11, '0.054*\"coffee\" + 0.050*\"place\" + 0.045*\"good\" + 0.040*\"great\" + 0.028*\"check\" + 0.026*\"tea\" + 0.023*\"love\" + 0.021*\"food\" + 0.018*\"try\" + 0.016*\"nice\"'), (12, '0.193*\"beer\" + 0.164*\"s\" + 0.089*\"there\" + 0.079*\"wine\" + 0.058*\"croissant\" + 0.050*\"outdoor\" + 0.048*\"turkey\" + 0.036*\"spend\" + 0.024*\"conversation\" + 0.019*\"limit\"'), (13, '0.273*\"vibe\" + 0.134*\"organic\" + 0.041*\"phone\" + 0.027*\"band\" + 0.020*\"epic\" + 0.016*\"tricky\" + 0.015*\"brand\" + 0.007*\"rustic\" + 0.002*\"obnoxiously_loud\" + 0.000*\"sandwich\"'), (14, '0.209*\"excellent\" + 0.117*\"bread\" + 0.077*\"quack\" + 0.058*\"drop\" + 0.057*\"attentive\" + 0.038*\"folk\" + 0.029*\"mood\" + 0.019*\"pair\" + 0.019*\"dozen\" + 0.015*\"olive\"'), (15, '0.062*\"table\" + 0.049*\"work\" + 0.048*\"game\" + 0.047*\"lot\" + 0.035*\"sit\" + 0.032*\"parking\" + 0.030*\"area\" + 0.029*\"play\" + 0.025*\"hour\" + 0.024*\"seating\"'), (16, '0.136*\"quick\" + 0.092*\"average\" + 0.085*\"care\" + 0.059*\"cinnamon\" + 0.049*\"cashier\" + 0.043*\"shot\" + 0.039*\"top\" + 0.030*\"self\" + 0.027*\"comment\" + 0.023*\"decision\"'), (17, '0.000*\"skylight\" + 0.000*\"scandinavian\" + 0.000*\"internship\" + 0.000*\"footage\" + 0.000*\"envelop\" + 0.000*\"steeply\" + 0.000*\"wield\" + 0.000*\"dojo\" + 0.000*\"subside\" + 0.000*\"outsource\"'), (18, '0.356*\"chocolate\" + 0.076*\"portion\" + 0.056*\"weather\" + 0.047*\"appreciate\" + 0.039*\"incredible\" + 0.037*\"recommendation\" + 0.036*\"standard\" + 0.030*\"nutella\" + 0.029*\"banana\" + 0.021*\"modern\"'), (19, '0.205*\"restaurant\" + 0.113*\"mean\" + 0.061*\"write\" + 0.055*\"boyfriend\" + 0.051*\"deal\" + 0.044*\"assume\" + 0.033*\"exactly\" + 0.031*\"suggest\" + 0.027*\"odd\" + 0.025*\"master\"')]\n"
     ]
    }
   ],
   "source": [
    "# To view the topics in the LDA model:\n",
    "# Print the top 10 keywords in the 20 topics\n",
    "print(lda_model.print_topics())\n",
    "doc_lda = lda_model[corpus]\n",
    "\n",
    "# output includes weights of each [key]word, \n",
    "#  reflecting their relative importance for each listed topic"
   ]
  },
  {
   "cell_type": "code",
   "execution_count": 16,
   "metadata": {},
   "outputs": [
    {
     "name": "stdout",
     "output_type": "stream",
     "text": [
      "\n",
      "Perplexity:  -12.302974308541332\n",
      "\n",
      "Coherence Score:  0.37006197575747346\n"
     ]
    }
   ],
   "source": [
    "# To compute model perplexity and coherence scores:\n",
    "# Compute Perplexity\n",
    "print('\\nPerplexity: ', lda_model.log_perplexity(corpus))  # a measure of how good the model is. lower the better.\n",
    "\n",
    "# Compute Coherence-Score\n",
    "coherence_model_lda = CoherenceModel(model=lda_model,\n",
    "                                     texts=data_lemmatized,\n",
    "                                     dictionary=id2word, \n",
    "                                     coherence='c_v')\n",
    "coherence_lda = coherence_model_lda.get_coherence()\n",
    "print('\\nCoherence Score: ', coherence_lda)\n",
    "\n",
    "# they are measures of how good a topic model is; focus on coherence"
   ]
  },
  {
   "cell_type": "code",
   "execution_count": null,
   "metadata": {},
   "outputs": [],
   "source": [
    "# To visualize the keywords of topics:\n",
    "pyLDAvis.enable_notebook()\n",
    "vis = pyLDAvis.gensim.prepare(lda_model, corpus, id2word)\n",
    "vis\n",
    "\n",
    "# Each bubble represents a topic, with its size related to \n",
    "#  the topic's prevalence. Good topic models should have distinct, \n",
    "#  large, unclustered  bubbles"
   ]
  },
  {
   "cell_type": "code",
   "execution_count": 29,
   "metadata": {},
   "outputs": [],
   "source": [
    "# To find optimal number of topics (for LDA):\n",
    "def compute_coherence_values(dictionary, corpus, texts, limit, start=2, step=3):\n",
    "    \"\"\"\n",
    "    Compute c_v coherence for various number of topics\n",
    "\n",
    "    Parameters:\n",
    "    ----------\n",
    "    dictionary : Gensim dictionary\n",
    "    corpus : Gensim corpus\n",
    "    texts : List of input texts\n",
    "    limit : Max num of topics\n",
    "\n",
    "    Returns:\n",
    "    -------\n",
    "    model_list : List of LDA topic models\n",
    "    coherence_values : Coherence values corresponding to the LDA model with respective number of topics\n",
    "    \"\"\"\n",
    "    coherence_values = []\n",
    "    model_list = []\n",
    "    \n",
    "    for num_topics in range(start, limit, step):\n",
    "        model = LdaMulticore(corpus=corpus, num_topics=num_topics, id2word=dictionary, workers=4)\n",
    "        model_list.append(model)\n",
    "        coherencemodel = CoherenceModel(model=model,\n",
    "                                        texts=texts,\n",
    "                                        dictionary=dictionary,\n",
    "                                        coherence='c_v')\n",
    "        coherence_values.append(coherencemodel.get_coherence())\n",
    "\n",
    "    return model_list, coherence_values"
   ]
  },
  {
   "cell_type": "code",
   "execution_count": 30,
   "metadata": {},
   "outputs": [],
   "source": [
    "# Can take a long time to run.\n",
    "model_list, coherence_values = compute_coherence_values(dictionary=id2word,\n",
    "                                            corpus=corpus, \n",
    "                                            texts=data_lemmatized, \n",
    "                                            start=2, limit=40, step=6)"
   ]
  },
  {
   "cell_type": "code",
   "execution_count": 31,
   "metadata": {},
   "outputs": [
    {
     "data": {
      "image/png": "[encoded data removed]",
      "text/plain": [
       "<Figure size 432x288 with 1 Axes>"
      ]
     },
     "metadata": {
      "needs_background": "light"
     },
     "output_type": "display_data"
    }
   ],
   "source": [
    "# Show graph\n",
    "limit=40; start=2; step=6;\n",
    "x = range(start, limit, step)\n",
    "plt.plot(x, coherence_values)\n",
    "plt.xlabel(\"Num Topics\")\n",
    "plt.ylabel(\"Coherence score\")\n",
    "plt.legend((\"coherence_values\"), loc='best')\n",
    "plt.show()"
   ]
  },
  {
   "cell_type": "code",
   "execution_count": 33,
   "metadata": {},
   "outputs": [
    {
     "name": "stdout",
     "output_type": "stream",
     "text": [
      "Num Topics = 2  has Coherence Value of 0.3508\n",
      "Num Topics = 8  has Coherence Value of 0.3484\n",
      "Num Topics = 14  has Coherence Value of 0.3371\n",
      "Num Topics = 20  has Coherence Value of 0.3464\n",
      "Num Topics = 26  has Coherence Value of 0.3409\n",
      "Num Topics = 32  has Coherence Value of 0.3352\n",
      "Num Topics = 38  has Coherence Value of 0.3429\n"
     ]
    }
   ],
   "source": [
    "# Print coherence scores \n",
    "for m, cv in zip(x, coherence_values):\n",
    "    print(\"Num Topics =\", m, \" has Coherence Value of\", round(cv, 4))"
   ]
  },
  {
   "cell_type": "code",
   "execution_count": 37,
   "metadata": {},
   "outputs": [
    {
     "name": "stdout",
     "output_type": "stream",
     "text": [
      "[(0,\n",
      "  '0.027*\"coffee\" + 0.024*\"place\" + 0.015*\"not\" + 0.014*\"good\" + 0.012*\"be\" + '\n",
      "  '0.009*\"check\" + 0.009*\"great\" + 0.009*\"do\" + 0.008*\"have\" + 0.008*\"order\"'),\n",
      " (1,\n",
      "  '0.034*\"coffee\" + 0.015*\"good\" + 0.013*\"great\" + 0.011*\"place\" + 0.011*\"be\" '\n",
      "  '+ 0.010*\"check\" + 0.010*\"not\" + 0.008*\"love\" + 0.008*\"come\" + 0.008*\"shop\"')]\n"
     ]
    }
   ],
   "source": [
    "# Select best model from listing (here, it's the first model, with 2 topics)\n",
    "optimal_model = model_list[0]\n",
    "model_topics = optimal_model.show_topics(formatted=False)\n",
    "\n",
    "# output the topics of the selected LDA model\n",
    "pprint(optimal_model.print_topics(num_words=10))"
   ]
  },
  {
   "cell_type": "code",
   "execution_count": 39,
   "metadata": {},
   "outputs": [
    {
     "data": {
      "text/html": [
       "<div>\n",
       "<style scoped>\n",
       "    .dataframe tbody tr th:only-of-type {\n",
       "        vertical-align: middle;\n",
       "    }\n",
       "\n",
       "    .dataframe tbody tr th {\n",
       "        vertical-align: top;\n",
       "    }\n",
       "\n",
       "    .dataframe thead th {\n",
       "        text-align: right;\n",
       "    }\n",
       "</style>\n",
       "<table border=\"1\" class=\"dataframe\">\n",
       "  <thead>\n",
       "    <tr style=\"text-align: right;\">\n",
       "      <th></th>\n",
       "      <th>Document_No</th>\n",
       "      <th>Dominant_Topic</th>\n",
       "      <th>Topic_Perc_Contrib</th>\n",
       "      <th>Keywords</th>\n",
       "      <th>Text</th>\n",
       "    </tr>\n",
       "  </thead>\n",
       "  <tbody>\n",
       "    <tr>\n",
       "      <th>0</th>\n",
       "      <td>0</td>\n",
       "      <td>1.0</td>\n",
       "      <td>0.9802</td>\n",
       "      <td>coffee, good, great, place, be, check, not, lo...</td>\n",
       "      <td>11/25/2016 1 check-in Love love loved the atm...</td>\n",
       "    </tr>\n",
       "    <tr>\n",
       "      <th>1</th>\n",
       "      <td>1</td>\n",
       "      <td>0.0</td>\n",
       "      <td>0.5608</td>\n",
       "      <td>coffee, place, not, good, be, check, great, do...</td>\n",
       "      <td>12/2/2016 Listed in Date Night: Austin, Ambia...</td>\n",
       "    </tr>\n",
       "    <tr>\n",
       "      <th>2</th>\n",
       "      <td>2</td>\n",
       "      <td>1.0</td>\n",
       "      <td>0.8901</td>\n",
       "      <td>coffee, good, great, place, be, check, not, lo...</td>\n",
       "      <td>11/30/2016 1 check-in Listed in Brunch Spots ...</td>\n",
       "    </tr>\n",
       "    <tr>\n",
       "      <th>3</th>\n",
       "      <td>3</td>\n",
       "      <td>1.0</td>\n",
       "      <td>0.9608</td>\n",
       "      <td>coffee, good, great, place, be, check, not, lo...</td>\n",
       "      <td>11/25/2016 Very cool decor! Good drinks Nice ...</td>\n",
       "    </tr>\n",
       "    <tr>\n",
       "      <th>4</th>\n",
       "      <td>4</td>\n",
       "      <td>1.0</td>\n",
       "      <td>0.9387</td>\n",
       "      <td>coffee, good, great, place, be, check, not, lo...</td>\n",
       "      <td>12/3/2016 1 check-in They are located within ...</td>\n",
       "    </tr>\n",
       "  </tbody>\n",
       "</table>\n",
       "</div>"
      ],
      "text/plain": [
       "   Document_No  Dominant_Topic  Topic_Perc_Contrib  \\\n",
       "0            0             1.0              0.9802   \n",
       "1            1             0.0              0.5608   \n",
       "2            2             1.0              0.8901   \n",
       "3            3             1.0              0.9608   \n",
       "4            4             1.0              0.9387   \n",
       "\n",
       "                                            Keywords  \\\n",
       "0  coffee, good, great, place, be, check, not, lo...   \n",
       "1  coffee, place, not, good, be, check, great, do...   \n",
       "2  coffee, good, great, place, be, check, not, lo...   \n",
       "3  coffee, good, great, place, be, check, not, lo...   \n",
       "4  coffee, good, great, place, be, check, not, lo...   \n",
       "\n",
       "                                                Text  \n",
       "0   11/25/2016 1 check-in Love love loved the atm...  \n",
       "1   12/2/2016 Listed in Date Night: Austin, Ambia...  \n",
       "2   11/30/2016 1 check-in Listed in Brunch Spots ...  \n",
       "3   11/25/2016 Very cool decor! Good drinks Nice ...  \n",
       "4   12/3/2016 1 check-in They are located within ...  "
      ]
     },
     "execution_count": 39,
     "metadata": {},
     "output_type": "execute_result"
    }
   ],
   "source": [
    "# To find dominant topic in each doc:\n",
    "def format_topics_sentences(ldamodel=lda_model, corpus=corpus, texts=data):\n",
    "    # Init output\n",
    "    sent_topics_df = pd.DataFrame()\n",
    "\n",
    "    # Get main topic in each document\n",
    "    for i, row in enumerate(ldamodel[corpus]):\n",
    "        row = sorted(row, key=lambda x: (x[1]), reverse=True)\n",
    "        # Get the Dominant topic, Perc Contribution and Keywords for each document\n",
    "        for j, (topic_num, prop_topic) in enumerate(row):\n",
    "            if j == 0:  # => dominant topic\n",
    "                wp = ldamodel.show_topic(topic_num)\n",
    "                topic_keywords = \", \".join([word for word, prop in wp])\n",
    "                sent_topics_df = sent_topics_df.append(pd.Series([int(topic_num), round(prop_topic,4), topic_keywords]), ignore_index=True)\n",
    "            else:\n",
    "                break\n",
    "    sent_topics_df.columns = ['Dominant_Topic', 'Perc_Contribution', 'Topic_Keywords']\n",
    "\n",
    "    # Add original text to the end of the output\n",
    "    contents = pd.Series(texts)\n",
    "    sent_topics_df = pd.concat([sent_topics_df, contents], axis=1)\n",
    "    return(sent_topics_df)\n",
    "\n",
    "\n",
    "df_topic_sents_keywords = format_topics_sentences(ldamodel=optimal_model, corpus=corpus, texts=data)\n",
    "\n",
    "# Format\n",
    "df_dominant_topic = df_topic_sents_keywords.reset_index()\n",
    "df_dominant_topic.columns = ['Document_No', 'Dominant_Topic', 'Topic_Perc_Contrib', 'Keywords', 'Text']\n",
    "\n",
    "# Show\n",
    "df_dominant_topic.head()\n",
    "\n",
    "# Feature Dominant_Topic tells which of the topics is most dominant\n",
    "#  for a given document. In this case, as there are only two topics,\n",
    "#  1.0 and 0.0 are the only listed values"
   ]
  },
  {
   "cell_type": "code",
   "execution_count": 41,
   "metadata": {},
   "outputs": [
    {
     "data": {
      "text/html": [
       "<div>\n",
       "<style scoped>\n",
       "    .dataframe tbody tr th:only-of-type {\n",
       "        vertical-align: middle;\n",
       "    }\n",
       "\n",
       "    .dataframe tbody tr th {\n",
       "        vertical-align: top;\n",
       "    }\n",
       "\n",
       "    .dataframe thead th {\n",
       "        text-align: right;\n",
       "    }\n",
       "</style>\n",
       "<table border=\"1\" class=\"dataframe\">\n",
       "  <thead>\n",
       "    <tr style=\"text-align: right;\">\n",
       "      <th></th>\n",
       "      <th>Topic_Num</th>\n",
       "      <th>Topic_Perc_Contrib</th>\n",
       "      <th>Keywords</th>\n",
       "      <th>Text</th>\n",
       "    </tr>\n",
       "  </thead>\n",
       "  <tbody>\n",
       "    <tr>\n",
       "      <th>0</th>\n",
       "      <td>0.0</td>\n",
       "      <td>0.9946</td>\n",
       "      <td>coffee, place, not, good, be, check, great, do...</td>\n",
       "      <td>12/11/2014 DONT GO HERE! Please, for your own...</td>\n",
       "    </tr>\n",
       "    <tr>\n",
       "      <th>1</th>\n",
       "      <td>1.0</td>\n",
       "      <td>0.9945</td>\n",
       "      <td>coffee, good, great, place, be, check, not, lo...</td>\n",
       "      <td>6/6/2015 1 check-in Listed in Vegan in Austin...</td>\n",
       "    </tr>\n",
       "  </tbody>\n",
       "</table>\n",
       "</div>"
      ],
      "text/plain": [
       "   Topic_Num  Topic_Perc_Contrib  \\\n",
       "0        0.0              0.9946   \n",
       "1        1.0              0.9945   \n",
       "\n",
       "                                            Keywords  \\\n",
       "0  coffee, place, not, good, be, check, great, do...   \n",
       "1  coffee, good, great, place, be, check, not, lo...   \n",
       "\n",
       "                                                Text  \n",
       "0   12/11/2014 DONT GO HERE! Please, for your own...  \n",
       "1   6/6/2015 1 check-in Listed in Vegan in Austin...  "
      ]
     },
     "execution_count": 41,
     "metadata": {},
     "output_type": "execute_result"
    }
   ],
   "source": [
    "# To find the most representative document for each topic:\n",
    "#  can be used to get a better idea of what a topic is \n",
    "\n",
    "# Group top 5 sentences under each topic\n",
    "sent_topics_sorteddf = pd.DataFrame()\n",
    "\n",
    "sent_topics_outdf_grpd = df_topic_sents_keywords.groupby('Dominant_Topic')\n",
    "\n",
    "for i, grp in sent_topics_outdf_grpd:\n",
    "    sent_topics_sorteddf = pd.concat([sent_topics_sorteddf, \n",
    "                                             grp.sort_values(['Perc_Contribution'], ascending=[0]).head(1)], \n",
    "                                            axis=0)\n",
    "\n",
    "# Reset Index    \n",
    "sent_topics_sorteddf.reset_index(drop=True, inplace=True)\n",
    "\n",
    "# Format\n",
    "sent_topics_sorteddf.columns = ['Topic_Num', \"Topic_Perc_Contrib\", \"Keywords\", \"Text\"]\n",
    "\n",
    "# Show\n",
    "sent_topics_sorteddf.head()"
   ]
  },
  {
   "cell_type": "code",
   "execution_count": 43,
   "metadata": {},
   "outputs": [
    {
     "data": {
      "text/plain": [
       "' 6/6/2015 1 check-in Listed in Vegan in Austin Vacation One thing I love about Austin is the friendly people. The friendliness of the servers at The Steeping Room definitely stood out! Not only was the service excellent, but the food and tea were also very delicious. It was a memorable experience and Im glad we got the chance to try it out before heading back to Cali. Luckily a couple of my friends in my group were tea connoisseurs so I let them choose the teas. My friend selected the Yame Gyokuro green tea and also the \"Milk\" Oolong. Both teas smelled heavenly and I really enjoyed the feeling of awareness I felt when sipped on them. I even brought some of lovely Yame Gyokuro home with me. As far as food, we decided to share everything. I love sharing with friends so we can try several dishes. Below is what we ordered: - Zen Tea Service - napa rolls with tofu/ walnut cucumber, edamame, matcha dusted vegan chocolate cupcake (subbed a vegan cupcake with the brownie). Loved the fresh rolls and the cupcake was to die for! - Moroccan Spiced Carrot Hummus Tea Sandwich with shaved fennel and scallion with Tao of Green Salad - this was delicious. Enjoyed the hummus! - Vegan BAT - tempeh bacon, arugula and tomato with basil veganaise with cashew caesar. This was super tasty with locally made tempeh. I loved it all and the cashew caesar was so good! - Buddha Bowl - grain of the day (rice), beans, sauteed greens, sweet potato medallions, with added tempeh. We selected the peanut sauce and sesame tamari vinaigrette. Healthy and delicious! I highly recommend The Steeping Room and will be sure to come back the next time Im in Austin. Zen tea service subbed brownie for vegan chocolate cupcake dusted with matcha Vegan BAT tea sandwich with Tao salad Buddha bowl See all photos from Rosanne P. for The Steeping Room '"
      ]
     },
     "execution_count": 43,
     "metadata": {},
     "output_type": "execute_result"
    }
   ],
   "source": [
    "sent_topics_sorteddf.Text[1] \n",
    "# Reading these two topics, one can make out that one is representative \n",
    "# of negative reviews while the other is representative of positive reviews"
   ]
  },
  {
   "cell_type": "code",
   "execution_count": 45,
   "metadata": {},
   "outputs": [
    {
     "data": {
      "text/html": [
       "<div>\n",
       "<style scoped>\n",
       "    .dataframe tbody tr th:only-of-type {\n",
       "        vertical-align: middle;\n",
       "    }\n",
       "\n",
       "    .dataframe tbody tr th {\n",
       "        vertical-align: top;\n",
       "    }\n",
       "\n",
       "    .dataframe thead th {\n",
       "        text-align: right;\n",
       "    }\n",
       "</style>\n",
       "<table border=\"1\" class=\"dataframe\">\n",
       "  <thead>\n",
       "    <tr style=\"text-align: right;\">\n",
       "      <th></th>\n",
       "      <th>Dominant_Topic</th>\n",
       "      <th>Topic_Keywords</th>\n",
       "      <th>Num_Documents</th>\n",
       "      <th>Perc_Documents</th>\n",
       "    </tr>\n",
       "  </thead>\n",
       "  <tbody>\n",
       "    <tr>\n",
       "      <th>0</th>\n",
       "      <td>0.0</td>\n",
       "      <td>coffee, place, not, good, be, check, great, do...</td>\n",
       "      <td>2995</td>\n",
       "      <td>0.3933</td>\n",
       "    </tr>\n",
       "    <tr>\n",
       "      <th>1</th>\n",
       "      <td>1.0</td>\n",
       "      <td>coffee, good, great, place, be, check, not, lo...</td>\n",
       "      <td>4621</td>\n",
       "      <td>0.6067</td>\n",
       "    </tr>\n",
       "  </tbody>\n",
       "</table>\n",
       "</div>"
      ],
      "text/plain": [
       "   Dominant_Topic                                     Topic_Keywords  \\\n",
       "0             0.0  coffee, place, not, good, be, check, great, do...   \n",
       "1             1.0  coffee, good, great, place, be, check, not, lo...   \n",
       "\n",
       "   Num_Documents  Perc_Documents  \n",
       "0           2995          0.3933  \n",
       "1           4621          0.6067  "
      ]
     },
     "execution_count": 45,
     "metadata": {},
     "output_type": "execute_result"
    }
   ],
   "source": [
    "# To get the distribution of topics across documents:\n",
    "# Number of Documents for Each Topic\n",
    "topic_counts = df_topic_sents_keywords['Dominant_Topic'].value_counts()\n",
    "\n",
    "# Percentage of Documents for Each Topic\n",
    "topic_contribution = round(topic_counts/topic_counts.sum(), 4)\n",
    "\n",
    "# Topic Number and Keywords\n",
    "topic_num_keywords = sent_topics_sorteddf_mallet[['Topic_Num', 'Keywords']]\n",
    "\n",
    "# Concatenate Column wise\n",
    "df_dominant_topics = pd.concat([topic_num_keywords, topic_counts.sort_index(), topic_contribution.sort_index()], axis=1)\n",
    "\n",
    "# Change Column names\n",
    "df_dominant_topics.columns = ['Dominant_Topic', 'Topic_Keywords', 'Num_Documents', 'Perc_Documents']\n",
    "\n",
    "# Show\n",
    "df_dominant_topics"
   ]
  },
  {
   "cell_type": "markdown",
   "metadata": {},
   "source": [
    "## Stretch Goals\n",
    "\n",
    "* Incorporate Named Entity Recognition in your analysis\n",
    "* Incorporate some custom pre-processing from our previous lessons (like spacy lemmatization)\n",
    "* Analyze a dataset of interest to you with topic modeling"
   ]
  }
 ],
 "metadata": {
  "kernelspec": {
   "display_name": "NLP",
   "language": "python",
   "name": "nlp"
  },
  "language_info": {
   "codemirror_mode": {
    "name": "ipython",
    "version": 3
   },
   "file_extension": ".py",
   "mimetype": "text/x-python",
   "name": "python",
   "nbconvert_exporter": "python",
   "pygments_lexer": "ipython3",
   "version": "3.7.0"
  }
 },
 "nbformat": 4,
 "nbformat_minor": 4
}
