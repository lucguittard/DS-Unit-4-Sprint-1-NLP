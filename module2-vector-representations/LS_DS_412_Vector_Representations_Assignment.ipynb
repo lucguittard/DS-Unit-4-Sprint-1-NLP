{
 "cells": [
  {
   "cell_type": "markdown",
   "metadata": {},
   "source": [
    "<img align=\"left\" src=\"https://lever-client-logos.s3.amazonaws.com/864372b1-534c-480e-acd5-9711f850815c-1524247202159.png\" width=200>\n",
    "<br></br>\n",
    "\n",
    "# Vector Representations\n",
    "## *Data Science Unit 4 Sprint 2 Assignment 2*"
   ]
  },
  {
   "cell_type": "code",
   "execution_count": 1,
   "metadata": {
    "colab": {
     "base_uri": "https://localhost:8080/",
     "height": 159
    },
    "colab_type": "code",
    "id": "hyj-f9FDcVFp",
    "outputId": "5dd045fe-6e4c-458c-e2fc-253c3da9c805"
   },
   "outputs": [],
   "source": [
    "import re\n",
    "import string\n",
    "\n",
    "from sklearn.feature_extraction.text import CountVectorizer, TfidfVectorizer\n",
    "import matplotlib.pyplot as plt\n",
    "import pandas as pd\n",
    "import numpy as np\n",
    "import spacy\n",
    "nlp = spacy.load(\"en_core_web_lg\")"
   ]
  },
  {
   "cell_type": "code",
   "execution_count": 2,
   "metadata": {},
   "outputs": [],
   "source": [
    "from sklearn.metrics.pairwise import cosine_similarity\n",
    "from sklearn.neighbors import NearestNeighbors\n",
    "from sklearn.decomposition import PCA"
   ]
  },
  {
   "cell_type": "markdown",
   "metadata": {
    "colab_type": "text",
    "id": "M7bcmqfGXrFG"
   },
   "source": [
    "## 1) *Optional:* Scrape 100 Job Listings that contain the title \"Data Scientist\" from indeed.com\n",
    "\n",
    "At a minimum your final dataframe of job listings should contain\n",
    "- Job Title\n",
    "- Job Description\n",
    "\n",
    "If you choose to not to scrape the data, there is a CSV with outdated data in the directory. Remeber, if you scrape Indeed, you're helping yourself find a job. ;)"
   ]
  },
  {
   "cell_type": "code",
   "execution_count": 3,
   "metadata": {
    "colab": {},
    "colab_type": "code",
    "id": "KcYlc1URXhlC"
   },
   "outputs": [],
   "source": [
    "##### Your Code Here #####\n",
    "df = pd.read_csv('./data/job_listings.csv')"
   ]
  },
  {
   "cell_type": "code",
   "execution_count": 4,
   "metadata": {},
   "outputs": [
    {
     "data": {
      "text/html": [
       "<div>\n",
       "<style scoped>\n",
       "    .dataframe tbody tr th:only-of-type {\n",
       "        vertical-align: middle;\n",
       "    }\n",
       "\n",
       "    .dataframe tbody tr th {\n",
       "        vertical-align: top;\n",
       "    }\n",
       "\n",
       "    .dataframe thead th {\n",
       "        text-align: right;\n",
       "    }\n",
       "</style>\n",
       "<table border=\"1\" class=\"dataframe\">\n",
       "  <thead>\n",
       "    <tr style=\"text-align: right;\">\n",
       "      <th></th>\n",
       "      <th>Unnamed: 0</th>\n",
       "      <th>description</th>\n",
       "      <th>title</th>\n",
       "    </tr>\n",
       "  </thead>\n",
       "  <tbody>\n",
       "    <tr>\n",
       "      <th>0</th>\n",
       "      <td>0</td>\n",
       "      <td>b\"&lt;div&gt;&lt;div&gt;Job Requirements:&lt;/div&gt;&lt;ul&gt;&lt;li&gt;&lt;p&gt;...</td>\n",
       "      <td>Data scientist</td>\n",
       "    </tr>\n",
       "    <tr>\n",
       "      <th>1</th>\n",
       "      <td>1</td>\n",
       "      <td>b'&lt;div&gt;Job Description&lt;br/&gt;\\n&lt;br/&gt;\\n&lt;p&gt;As a Da...</td>\n",
       "      <td>Data Scientist I</td>\n",
       "    </tr>\n",
       "    <tr>\n",
       "      <th>2</th>\n",
       "      <td>2</td>\n",
       "      <td>b'&lt;div&gt;&lt;p&gt;As a Data Scientist you will be work...</td>\n",
       "      <td>Data Scientist - Entry Level</td>\n",
       "    </tr>\n",
       "    <tr>\n",
       "      <th>3</th>\n",
       "      <td>3</td>\n",
       "      <td>b'&lt;div class=\"jobsearch-JobMetadataHeader icl-...</td>\n",
       "      <td>Data Scientist</td>\n",
       "    </tr>\n",
       "    <tr>\n",
       "      <th>4</th>\n",
       "      <td>4</td>\n",
       "      <td>b'&lt;ul&gt;&lt;li&gt;Location: USA \\xe2\\x80\\x93 multiple ...</td>\n",
       "      <td>Data Scientist</td>\n",
       "    </tr>\n",
       "  </tbody>\n",
       "</table>\n",
       "</div>"
      ],
      "text/plain": [
       "   Unnamed: 0                                        description  \\\n",
       "0           0  b\"<div><div>Job Requirements:</div><ul><li><p>...   \n",
       "1           1  b'<div>Job Description<br/>\\n<br/>\\n<p>As a Da...   \n",
       "2           2  b'<div><p>As a Data Scientist you will be work...   \n",
       "3           3  b'<div class=\"jobsearch-JobMetadataHeader icl-...   \n",
       "4           4  b'<ul><li>Location: USA \\xe2\\x80\\x93 multiple ...   \n",
       "\n",
       "                          title  \n",
       "0               Data scientist   \n",
       "1              Data Scientist I  \n",
       "2  Data Scientist - Entry Level  \n",
       "3                Data Scientist  \n",
       "4                Data Scientist  "
      ]
     },
     "execution_count": 4,
     "metadata": {},
     "output_type": "execute_result"
    }
   ],
   "source": [
    "df.head()"
   ]
  },
  {
   "cell_type": "markdown",
   "metadata": {
    "colab_type": "text",
    "id": "5C4xFZNtX1m2"
   },
   "source": [
    "## 2) Use Spacy to tokenize / clean the listings "
   ]
  },
  {
   "cell_type": "code",
   "execution_count": 5,
   "metadata": {
    "colab": {},
    "colab_type": "code",
    "id": "dhUHuMr-X-II"
   },
   "outputs": [
    {
     "data": {
      "text/plain": [
       "['bdivdivjob',\n",
       " 'requirementsdivullipnconceptual',\n",
       " 'understanding',\n",
       " 'in',\n",
       " 'machine',\n",
       " 'learning',\n",
       " 'models',\n",
       " 'like',\n",
       " 'naixc2xa8ve',\n",
       " 'bayes',\n",
       " 'kmeans',\n",
       " 'svm',\n",
       " 'apriori',\n",
       " 'linear',\n",
       " 'logistic',\n",
       " 'regression',\n",
       " 'neural',\n",
       " 'random',\n",
       " 'forests',\n",
       " 'decision']"
      ]
     },
     "execution_count": 5,
     "metadata": {},
     "output_type": "execute_result"
    }
   ],
   "source": [
    "##### Your Code Here #####\n",
    "\n",
    "# not using spacy\n",
    "import re\n",
    "def tokenize(x):\n",
    "    text = x.lower()\n",
    "    text = re.sub(r'[^a-zA-Z ^0-9]', '', text)\n",
    "    return text.split()\n",
    "\n",
    "df['tokens'] = df['description'].apply(lambda x: tokenize(x))\n",
    "df['tokens'][0][:20]"
   ]
  },
  {
   "cell_type": "code",
   "execution_count": 35,
   "metadata": {},
   "outputs": [],
   "source": [
    "# python -m spacy download en_core_web_lg\n",
    "nlp = spacy.load(\"en_core_web_lg\")\n",
    "\n",
    "STOP_WORDS = nlp.Defaults.stop_words.union('and','or','of','to','a','for','with','be','in','you','we','on','our',' ','<>')\n",
    "\n",
    "def spacy_lemmatize(x):\n",
    "    doc = nlp.tokenizer(x)\n",
    "    return [token.lemma_ for token in doc if token.text.lower() not in STOP_WORDS]\n",
    "\n",
    "df['lemmas'] = df['tokens'].apply(lambda x: spacy_lemmatize(' '.join(x)))"
   ]
  },
  {
   "cell_type": "code",
   "execution_count": 42,
   "metadata": {
    "collapsed": true,
    "jupyter": {
     "outputs_hidden": true
    }
   },
   "outputs": [
    {
     "data": {
      "text/plain": [
       "0      [bdivdivjob, requirementsdivullipnconceptual, ...\n",
       "1      [bdivjob, descriptionbrnbrnpas, a, data, scien...\n",
       "2      [bdivpas, a, data, scientist, you, will, be, w...\n",
       "3      [bdiv, classjobsearchjobmetadataheader, icluxs...\n",
       "4      [bullilocation, usa, xe2x80x93, multiple, loca...\n",
       "5      [bdivcreate, various, business, intelligence, ...\n",
       "6      [bdivpas, spotify, premium, swells, to, over, ...\n",
       "7      [beverytown, for, gun, safety, the, nations, l...\n",
       "8      [bullims, in, a, quantitative, discipline, suc...\n",
       "9      [bdivpslack, is, hiring, experienced, data, sc...\n",
       "10     [bdivpbwho, we, arebppnblackthorn, therapeutic...\n",
       "11     [bdiv, classjobsearchjobmetadataheader, icluxs...\n",
       "12     [bnfosysxe2x80x93, data, amp, analytics, xe2x8...\n",
       "13     [bdivpas, spotify, premium, swells, to, over, ...\n",
       "14     [bdivulliexperience, with, guiding, rampd, str...\n",
       "15     [bdivpthe, atlantic, is, seeking, a, data, sci...\n",
       "16     [bdivpbthe, challengebppneventbrite, is, big, ...\n",
       "17     [bdiv, classjobsearchjobmetadataheader, icluxs...\n",
       "18     [beverytown, for, gun, safety, the, nations, l...\n",
       "19     [bdiv, classjobsearchjobmetadataheader, icluxs...\n",
       "20     [bdiv, classjobsearchjobmetadataheader, icluxs...\n",
       "21     [bbthe, challengebbrnare, you, excited, at, th...\n",
       "22     [bdivpwe, are, seeking, a, data, scientist, to...\n",
       "23     [bdivdivdivmotiion, is, a, technology, and, da...\n",
       "24     [bdivdivdivpthe, scientist, is, responsible, f...\n",
       "25     [bas, a, data, scientist, for, ads, measuremen...\n",
       "26     [bdivdivdivdivpsummarypdivdivnposted, bmar, 6,...\n",
       "27     [bdivpslack, is, looking, for, experienced, da...\n",
       "28     [bnfosysxe2x80x93, data, amp, analytics, xe2x8...\n",
       "29     [bdiv, classjobsearchjobmetadataheader, icluxs...\n",
       "                             ...                        \n",
       "396    [babout, usnbrlark, is, the, worlds, largest, ...\n",
       "397    [bdivpzenreach, solves, a, major, problem, for...\n",
       "398    [bdivpbposition, descriptionbpbrnas, the, walm...\n",
       "399    [bby, trade, we, are, a, technology, company, ...\n",
       "400    [bdivbpurpose, amp, overall, relevance, for, t...\n",
       "401    [bdivpbabout, dscoutbpnpwe, are, dscout, at, o...\n",
       "402    [bdivdivbjunior, data, scientist, big, data, e...\n",
       "403    [babout, usnbrinterested, in, working, for, a,...\n",
       "404    [bdivair, products, inc, a, fortune, 500, manu...\n",
       "405    [bdivdata, scientist, brndo, you, want, the, o...\n",
       "406    [bdivbjob, descriptionbbrnpbdata, scientistbpp...\n",
       "407    [bdivdivdivdivdivthe, data, scientist, i, mine...\n",
       "408    [bdivpfinlocker, is, a, leading, financial, da...\n",
       "409    [bdivpwith, annual, sales, of, 15, billion, ec...\n",
       "410    [bdivjob, descriptionbrnbrnthe, enterprise, da...\n",
       "411    [bdivdescriptionnpchicago, il, il150sw, 150, s...\n",
       "412    [bdivnike, supply, chain, experts, ensure, tha...\n",
       "413    [bdivdivthe, principal, data, scientist, is, r...\n",
       "414    [bdivpwe, are, looking, for, a, senior, data, ...\n",
       "415    [bdiv, classjobsearchjobmetadataheader, icluxs...\n",
       "416    [bdivdivdivdivdivdivdivdivlos, gatos, californ...\n",
       "417    [bdivbiabout, the, roleibbrnbrnblogic2020b, is...\n",
       "418    [bdiv, classjobsearchjobmetadataheader, icluxs...\n",
       "419    [bdivullibachelorxe2x80x99s, or, masterxe2x80x...\n",
       "420    [bdivdivat, uber, we, ignite, opportunity, by,...\n",
       "421    [bbabout, usbbrnwant, to, be, part, of, a, fan...\n",
       "422    [bdiv, classjobsearchjobmetadataheader, icluxs...\n",
       "423    [bdiv, classjobsearchjobmetadataheader, icluxs...\n",
       "424    [bppdivpsenior, data, scientistppnjob, descrip...\n",
       "425    [bdivdivdivdivdivdivpcerner, intelligence, is,...\n",
       "Name: tokens, Length: 426, dtype: object"
      ]
     },
     "execution_count": 42,
     "metadata": {},
     "output_type": "execute_result"
    }
   ],
   "source": [
    "#nlp.tokenizer(str(df.tokens))"
   ]
  },
  {
   "cell_type": "code",
   "execution_count": 36,
   "metadata": {},
   "outputs": [
    {
     "data": {
      "text/plain": [
       "['bdivdivjob',\n",
       " 'requirementsdivullipnconceptual',\n",
       " 'understand',\n",
       " 'machine',\n",
       " 'learn']"
      ]
     },
     "execution_count": 36,
     "metadata": {},
     "output_type": "execute_result"
    }
   ],
   "source": [
    "df['lemmas'][0][:5]"
   ]
  },
  {
   "cell_type": "code",
   "execution_count": 8,
   "metadata": {},
   "outputs": [
    {
     "data": {
      "text/plain": [
       "0    [bdivdivjob, requirementsdivullipnconceptual, ...\n",
       "1    [bdivjob, descriptionbrnbrnpas, datum, scienti...\n",
       "2    [bdivpas, datum, scientist, work, consult, bus...\n",
       "3    [bdiv, classjobsearchjobmetadataheader, icluxs...\n",
       "4    [bullilocation, usa, xe2x80x93, multiple, loca...\n",
       "Name: lemmas, dtype: object"
      ]
     },
     "execution_count": 8,
     "metadata": {},
     "output_type": "execute_result"
    }
   ],
   "source": [
    "df['lemmas'].head()"
   ]
  },
  {
   "cell_type": "code",
   "execution_count": 9,
   "metadata": {},
   "outputs": [
    {
     "data": {
      "text/plain": [
       "0    [bdivdivjob, requirementsdivullipnconceptual, ...\n",
       "1    [bdivjob, descriptionbrnbrnpas, datum, scienti...\n",
       "2    [bdivpas, datum, scientist, work, consult, bus...\n",
       "3    [bdiv, classjobsearchjobmetadataheader, icluxs...\n",
       "4    [bullilocation, usa, xe2x80x93, multiple, loca...\n",
       "Name: lemmas, dtype: object"
      ]
     },
     "execution_count": 9,
     "metadata": {},
     "output_type": "execute_result"
    }
   ],
   "source": [
    "df['lemmas'].head()"
   ]
  },
  {
   "cell_type": "markdown",
   "metadata": {
    "colab_type": "text",
    "id": "-lgCZNL_YycP"
   },
   "source": [
    "## 3) Use Scikit-Learn's CountVectorizer to get word counts for each listing."
   ]
  },
  {
   "cell_type": "code",
   "execution_count": 10,
   "metadata": {},
   "outputs": [
    {
     "data": {
      "text/plain": [
       "0    [bdivdivjob, requirementsdivullipnconceptual, ...\n",
       "1    [bdivjob, descriptionbrnbrnpas, datum, scienti...\n",
       "2    [bdivpas, datum, scientist, work, consult, bus...\n",
       "3    [bdiv, classjobsearchjobmetadataheader, icluxs...\n",
       "4    [bullilocation, usa, xe2x80x93, multiple, loca...\n",
       "Name: lemmas, dtype: object"
      ]
     },
     "execution_count": 10,
     "metadata": {},
     "output_type": "execute_result"
    }
   ],
   "source": [
    "df.lemmas.head()"
   ]
  },
  {
   "cell_type": "code",
   "execution_count": 11,
   "metadata": {
    "colab": {},
    "colab_type": "code",
    "id": "X2PZ8Pj_YxcF"
   },
   "outputs": [
    {
     "name": "stderr",
     "output_type": "stream",
     "text": [
      "/Users/Person/anaconda3/envs/NLP/lib/python3.7/site-packages/sklearn/feature_extraction/text.py:300: UserWarning: Your stop_words may be inconsistent with your preprocessing. Tokenizing the stop words generated tokens ['ll', 've'] not in stop_words.\n",
      "  'stop_words.' % sorted(inconsistent))\n"
     ]
    }
   ],
   "source": [
    "##### Your Code Here #####\n",
    "from sklearn.feature_extraction.text import CountVectorizer\n",
    "from spacy.tokenizer import Tokenizer\n",
    "\n",
    "vect = CountVectorizer(stop_words=STOP_WORDS)\n",
    "\n",
    "vect.fit(df['description'])\n",
    "dtm = vect.transform(df['description'])\n",
    "\n",
    "dtm = pd.DataFrame(dtm.todense(), columns=vect.get_feature_names())"
   ]
  },
  {
   "cell_type": "code",
   "execution_count": 12,
   "metadata": {},
   "outputs": [
    {
     "data": {
      "text/html": [
       "<div>\n",
       "<style scoped>\n",
       "    .dataframe tbody tr th:only-of-type {\n",
       "        vertical-align: middle;\n",
       "    }\n",
       "\n",
       "    .dataframe tbody tr th {\n",
       "        vertical-align: top;\n",
       "    }\n",
       "\n",
       "    .dataframe thead th {\n",
       "        text-align: right;\n",
       "    }\n",
       "</style>\n",
       "<table border=\"1\" class=\"dataframe\">\n",
       "  <thead>\n",
       "    <tr style=\"text-align: right;\">\n",
       "      <th></th>\n",
       "      <th>00</th>\n",
       "      <th>000</th>\n",
       "      <th>02115</th>\n",
       "      <th>03</th>\n",
       "      <th>0356</th>\n",
       "      <th>04</th>\n",
       "      <th>057</th>\n",
       "      <th>062</th>\n",
       "      <th>06366</th>\n",
       "      <th>08</th>\n",
       "      <th>...</th>\n",
       "      <th>zero</th>\n",
       "      <th>zeus</th>\n",
       "      <th>zf</th>\n",
       "      <th>zheng</th>\n",
       "      <th>zillow</th>\n",
       "      <th>zogsports</th>\n",
       "      <th>zones</th>\n",
       "      <th>zoom</th>\n",
       "      <th>zuckerberg</th>\n",
       "      <th>zurich</th>\n",
       "    </tr>\n",
       "  </thead>\n",
       "  <tbody>\n",
       "    <tr>\n",
       "      <th>0</th>\n",
       "      <td>0</td>\n",
       "      <td>0</td>\n",
       "      <td>0</td>\n",
       "      <td>0</td>\n",
       "      <td>0</td>\n",
       "      <td>0</td>\n",
       "      <td>0</td>\n",
       "      <td>0</td>\n",
       "      <td>0</td>\n",
       "      <td>0</td>\n",
       "      <td>...</td>\n",
       "      <td>0</td>\n",
       "      <td>0</td>\n",
       "      <td>0</td>\n",
       "      <td>0</td>\n",
       "      <td>0</td>\n",
       "      <td>0</td>\n",
       "      <td>0</td>\n",
       "      <td>0</td>\n",
       "      <td>0</td>\n",
       "      <td>0</td>\n",
       "    </tr>\n",
       "    <tr>\n",
       "      <th>1</th>\n",
       "      <td>0</td>\n",
       "      <td>0</td>\n",
       "      <td>0</td>\n",
       "      <td>0</td>\n",
       "      <td>0</td>\n",
       "      <td>0</td>\n",
       "      <td>0</td>\n",
       "      <td>0</td>\n",
       "      <td>0</td>\n",
       "      <td>0</td>\n",
       "      <td>...</td>\n",
       "      <td>0</td>\n",
       "      <td>0</td>\n",
       "      <td>0</td>\n",
       "      <td>0</td>\n",
       "      <td>0</td>\n",
       "      <td>0</td>\n",
       "      <td>0</td>\n",
       "      <td>0</td>\n",
       "      <td>0</td>\n",
       "      <td>0</td>\n",
       "    </tr>\n",
       "    <tr>\n",
       "      <th>2</th>\n",
       "      <td>0</td>\n",
       "      <td>0</td>\n",
       "      <td>0</td>\n",
       "      <td>0</td>\n",
       "      <td>0</td>\n",
       "      <td>0</td>\n",
       "      <td>0</td>\n",
       "      <td>0</td>\n",
       "      <td>0</td>\n",
       "      <td>0</td>\n",
       "      <td>...</td>\n",
       "      <td>0</td>\n",
       "      <td>0</td>\n",
       "      <td>0</td>\n",
       "      <td>0</td>\n",
       "      <td>0</td>\n",
       "      <td>0</td>\n",
       "      <td>0</td>\n",
       "      <td>0</td>\n",
       "      <td>0</td>\n",
       "      <td>0</td>\n",
       "    </tr>\n",
       "    <tr>\n",
       "      <th>3</th>\n",
       "      <td>0</td>\n",
       "      <td>0</td>\n",
       "      <td>0</td>\n",
       "      <td>0</td>\n",
       "      <td>0</td>\n",
       "      <td>0</td>\n",
       "      <td>0</td>\n",
       "      <td>0</td>\n",
       "      <td>0</td>\n",
       "      <td>0</td>\n",
       "      <td>...</td>\n",
       "      <td>0</td>\n",
       "      <td>0</td>\n",
       "      <td>0</td>\n",
       "      <td>1</td>\n",
       "      <td>0</td>\n",
       "      <td>0</td>\n",
       "      <td>0</td>\n",
       "      <td>0</td>\n",
       "      <td>0</td>\n",
       "      <td>0</td>\n",
       "    </tr>\n",
       "    <tr>\n",
       "      <th>4</th>\n",
       "      <td>0</td>\n",
       "      <td>0</td>\n",
       "      <td>0</td>\n",
       "      <td>0</td>\n",
       "      <td>0</td>\n",
       "      <td>0</td>\n",
       "      <td>0</td>\n",
       "      <td>0</td>\n",
       "      <td>0</td>\n",
       "      <td>0</td>\n",
       "      <td>...</td>\n",
       "      <td>0</td>\n",
       "      <td>0</td>\n",
       "      <td>0</td>\n",
       "      <td>0</td>\n",
       "      <td>0</td>\n",
       "      <td>0</td>\n",
       "      <td>0</td>\n",
       "      <td>0</td>\n",
       "      <td>0</td>\n",
       "      <td>0</td>\n",
       "    </tr>\n",
       "    <tr>\n",
       "      <th>5</th>\n",
       "      <td>0</td>\n",
       "      <td>0</td>\n",
       "      <td>0</td>\n",
       "      <td>0</td>\n",
       "      <td>0</td>\n",
       "      <td>0</td>\n",
       "      <td>0</td>\n",
       "      <td>0</td>\n",
       "      <td>0</td>\n",
       "      <td>0</td>\n",
       "      <td>...</td>\n",
       "      <td>0</td>\n",
       "      <td>0</td>\n",
       "      <td>0</td>\n",
       "      <td>0</td>\n",
       "      <td>0</td>\n",
       "      <td>0</td>\n",
       "      <td>0</td>\n",
       "      <td>0</td>\n",
       "      <td>0</td>\n",
       "      <td>0</td>\n",
       "    </tr>\n",
       "    <tr>\n",
       "      <th>6</th>\n",
       "      <td>0</td>\n",
       "      <td>0</td>\n",
       "      <td>0</td>\n",
       "      <td>0</td>\n",
       "      <td>0</td>\n",
       "      <td>0</td>\n",
       "      <td>0</td>\n",
       "      <td>0</td>\n",
       "      <td>0</td>\n",
       "      <td>0</td>\n",
       "      <td>...</td>\n",
       "      <td>0</td>\n",
       "      <td>0</td>\n",
       "      <td>0</td>\n",
       "      <td>0</td>\n",
       "      <td>0</td>\n",
       "      <td>0</td>\n",
       "      <td>0</td>\n",
       "      <td>0</td>\n",
       "      <td>0</td>\n",
       "      <td>0</td>\n",
       "    </tr>\n",
       "    <tr>\n",
       "      <th>7</th>\n",
       "      <td>0</td>\n",
       "      <td>0</td>\n",
       "      <td>0</td>\n",
       "      <td>0</td>\n",
       "      <td>0</td>\n",
       "      <td>0</td>\n",
       "      <td>0</td>\n",
       "      <td>0</td>\n",
       "      <td>0</td>\n",
       "      <td>0</td>\n",
       "      <td>...</td>\n",
       "      <td>0</td>\n",
       "      <td>0</td>\n",
       "      <td>0</td>\n",
       "      <td>0</td>\n",
       "      <td>0</td>\n",
       "      <td>0</td>\n",
       "      <td>0</td>\n",
       "      <td>0</td>\n",
       "      <td>0</td>\n",
       "      <td>0</td>\n",
       "    </tr>\n",
       "    <tr>\n",
       "      <th>8</th>\n",
       "      <td>0</td>\n",
       "      <td>0</td>\n",
       "      <td>0</td>\n",
       "      <td>0</td>\n",
       "      <td>0</td>\n",
       "      <td>0</td>\n",
       "      <td>0</td>\n",
       "      <td>0</td>\n",
       "      <td>0</td>\n",
       "      <td>0</td>\n",
       "      <td>...</td>\n",
       "      <td>0</td>\n",
       "      <td>0</td>\n",
       "      <td>0</td>\n",
       "      <td>0</td>\n",
       "      <td>0</td>\n",
       "      <td>0</td>\n",
       "      <td>0</td>\n",
       "      <td>0</td>\n",
       "      <td>0</td>\n",
       "      <td>0</td>\n",
       "    </tr>\n",
       "    <tr>\n",
       "      <th>9</th>\n",
       "      <td>0</td>\n",
       "      <td>0</td>\n",
       "      <td>0</td>\n",
       "      <td>0</td>\n",
       "      <td>0</td>\n",
       "      <td>0</td>\n",
       "      <td>0</td>\n",
       "      <td>0</td>\n",
       "      <td>0</td>\n",
       "      <td>0</td>\n",
       "      <td>...</td>\n",
       "      <td>0</td>\n",
       "      <td>0</td>\n",
       "      <td>0</td>\n",
       "      <td>0</td>\n",
       "      <td>0</td>\n",
       "      <td>0</td>\n",
       "      <td>0</td>\n",
       "      <td>0</td>\n",
       "      <td>0</td>\n",
       "      <td>0</td>\n",
       "    </tr>\n",
       "  </tbody>\n",
       "</table>\n",
       "<p>10 rows × 9206 columns</p>\n",
       "</div>"
      ],
      "text/plain": [
       "   00  000  02115  03  0356  04  057  062  06366  08  ...  zero  zeus  zf  \\\n",
       "0   0    0      0   0     0   0    0    0      0   0  ...     0     0   0   \n",
       "1   0    0      0   0     0   0    0    0      0   0  ...     0     0   0   \n",
       "2   0    0      0   0     0   0    0    0      0   0  ...     0     0   0   \n",
       "3   0    0      0   0     0   0    0    0      0   0  ...     0     0   0   \n",
       "4   0    0      0   0     0   0    0    0      0   0  ...     0     0   0   \n",
       "5   0    0      0   0     0   0    0    0      0   0  ...     0     0   0   \n",
       "6   0    0      0   0     0   0    0    0      0   0  ...     0     0   0   \n",
       "7   0    0      0   0     0   0    0    0      0   0  ...     0     0   0   \n",
       "8   0    0      0   0     0   0    0    0      0   0  ...     0     0   0   \n",
       "9   0    0      0   0     0   0    0    0      0   0  ...     0     0   0   \n",
       "\n",
       "   zheng  zillow  zogsports  zones  zoom  zuckerberg  zurich  \n",
       "0      0       0          0      0     0           0       0  \n",
       "1      0       0          0      0     0           0       0  \n",
       "2      0       0          0      0     0           0       0  \n",
       "3      1       0          0      0     0           0       0  \n",
       "4      0       0          0      0     0           0       0  \n",
       "5      0       0          0      0     0           0       0  \n",
       "6      0       0          0      0     0           0       0  \n",
       "7      0       0          0      0     0           0       0  \n",
       "8      0       0          0      0     0           0       0  \n",
       "9      0       0          0      0     0           0       0  \n",
       "\n",
       "[10 rows x 9206 columns]"
      ]
     },
     "execution_count": 12,
     "metadata": {},
     "output_type": "execute_result"
    }
   ],
   "source": [
    "dtm.head(10)"
   ]
  },
  {
   "cell_type": "markdown",
   "metadata": {
    "colab_type": "text",
    "id": "Zo1iH_UeY7_n"
   },
   "source": [
    "## 4) Visualize the most common word counts"
   ]
  },
  {
   "cell_type": "code",
   "execution_count": 13,
   "metadata": {},
   "outputs": [],
   "source": [
    "from collections import Counter\n",
    "word_counts = Counter()"
   ]
  },
  {
   "cell_type": "code",
   "execution_count": 14,
   "metadata": {},
   "outputs": [],
   "source": [
    "def count(docs):\n",
    "        word_counts = Counter()\n",
    "        appears_in = Counter()\n",
    "        \n",
    "        total_docs = len(docs)\n",
    "\n",
    "        for doc in docs:\n",
    "            word_counts.update(doc)\n",
    "            appears_in.update(set(doc))\n",
    "\n",
    "        temp = zip(word_counts.keys(), word_counts.values())\n",
    "        \n",
    "        wc = pd.DataFrame(temp, columns = ['word', 'count'])\n",
    "\n",
    "        wc['rank'] = wc['count'].rank(method='first', ascending=False)\n",
    "        total = wc['count'].sum()\n",
    "\n",
    "        wc['pct_total'] = wc['count'].apply(lambda x: x / total)\n",
    "        \n",
    "        wc = wc.sort_values(by='rank')\n",
    "        wc['cul_pct_total'] = wc['pct_total'].cumsum()\n",
    "\n",
    "        t2 = zip(appears_in.keys(), appears_in.values())\n",
    "        ac = pd.DataFrame(t2, columns=['word', 'appears_in'])\n",
    "        wc = ac.merge(wc, on='word')\n",
    "\n",
    "        wc['appears_in_pct'] = wc['appears_in'].apply(lambda x: x / total_docs)\n",
    "        \n",
    "        return wc.sort_values(by='rank')"
   ]
  },
  {
   "cell_type": "code",
   "execution_count": 15,
   "metadata": {
    "colab": {},
    "colab_type": "code",
    "id": "M5LB00uyZKV5"
   },
   "outputs": [],
   "source": [
    "counts = count(df['lemmas'])\n",
    "counts_top20 = counts[counts['rank'] <= 20]"
   ]
  },
  {
   "cell_type": "code",
   "execution_count": 16,
   "metadata": {},
   "outputs": [
    {
     "data": {
      "image/png": "[encoded data removed]",
      "text/plain": [
       "<Figure size 432x288 with 1 Axes>"
      ]
     },
     "metadata": {
      "needs_background": "light"
     },
     "output_type": "display_data"
    }
   ],
   "source": [
    "import squarify\n",
    "squarify.plot(sizes=counts_top20['pct_total'], label=counts_top20['word'], alpha=.8)\n",
    "\n",
    "plt.axis('off')\n",
    "plt.show();"
   ]
  },
  {
   "cell_type": "markdown",
   "metadata": {
    "colab_type": "text",
    "id": "bwFsTqrVZMYi"
   },
   "source": [
    "## 5) Use Scikit-Learn's tfidfVectorizer to get a TF-IDF feature matrix"
   ]
  },
  {
   "cell_type": "code",
   "execution_count": 17,
   "metadata": {
    "colab": {},
    "colab_type": "code",
    "id": "-gx2gZCbl5Np"
   },
   "outputs": [
    {
     "name": "stderr",
     "output_type": "stream",
     "text": [
      "/Users/Person/anaconda3/envs/NLP/lib/python3.7/site-packages/sklearn/feature_extraction/text.py:300: UserWarning: Your stop_words may be inconsistent with your preprocessing. Tokenizing the stop words generated tokens ['ll', 've'] not in stop_words.\n",
      "  'stop_words.' % sorted(inconsistent))\n"
     ]
    },
    {
     "data": {
      "text/html": [
       "<div>\n",
       "<style scoped>\n",
       "    .dataframe tbody tr th:only-of-type {\n",
       "        vertical-align: middle;\n",
       "    }\n",
       "\n",
       "    .dataframe tbody tr th {\n",
       "        vertical-align: top;\n",
       "    }\n",
       "\n",
       "    .dataframe thead th {\n",
       "        text-align: right;\n",
       "    }\n",
       "</style>\n",
       "<table border=\"1\" class=\"dataframe\">\n",
       "  <thead>\n",
       "    <tr style=\"text-align: right;\">\n",
       "      <th></th>\n",
       "      <th>000</th>\n",
       "      <th>03</th>\n",
       "      <th>04</th>\n",
       "      <th>06366</th>\n",
       "      <th>10</th>\n",
       "      <th>100</th>\n",
       "      <th>1000</th>\n",
       "      <th>1001</th>\n",
       "      <th>105</th>\n",
       "      <th>1079302</th>\n",
       "      <th>...</th>\n",
       "      <th>york</th>\n",
       "      <th>young</th>\n",
       "      <th>yrs</th>\n",
       "      <th>zenreach</th>\n",
       "      <th>zero</th>\n",
       "      <th>zeus</th>\n",
       "      <th>zf</th>\n",
       "      <th>zillow</th>\n",
       "      <th>zogsports</th>\n",
       "      <th>zurich</th>\n",
       "    </tr>\n",
       "  </thead>\n",
       "  <tbody>\n",
       "    <tr>\n",
       "      <th>0</th>\n",
       "      <td>0.0</td>\n",
       "      <td>0.0</td>\n",
       "      <td>0.0</td>\n",
       "      <td>0.0</td>\n",
       "      <td>0.0</td>\n",
       "      <td>0.0</td>\n",
       "      <td>0.0</td>\n",
       "      <td>0.0</td>\n",
       "      <td>0.0</td>\n",
       "      <td>0.0</td>\n",
       "      <td>...</td>\n",
       "      <td>0.0</td>\n",
       "      <td>0.0</td>\n",
       "      <td>0.0</td>\n",
       "      <td>0.0</td>\n",
       "      <td>0.0</td>\n",
       "      <td>0.0</td>\n",
       "      <td>0.0</td>\n",
       "      <td>0.0</td>\n",
       "      <td>0.0</td>\n",
       "      <td>0.0</td>\n",
       "    </tr>\n",
       "    <tr>\n",
       "      <th>1</th>\n",
       "      <td>0.0</td>\n",
       "      <td>0.0</td>\n",
       "      <td>0.0</td>\n",
       "      <td>0.0</td>\n",
       "      <td>0.0</td>\n",
       "      <td>0.0</td>\n",
       "      <td>0.0</td>\n",
       "      <td>0.0</td>\n",
       "      <td>0.0</td>\n",
       "      <td>0.0</td>\n",
       "      <td>...</td>\n",
       "      <td>0.0</td>\n",
       "      <td>0.0</td>\n",
       "      <td>0.0</td>\n",
       "      <td>0.0</td>\n",
       "      <td>0.0</td>\n",
       "      <td>0.0</td>\n",
       "      <td>0.0</td>\n",
       "      <td>0.0</td>\n",
       "      <td>0.0</td>\n",
       "      <td>0.0</td>\n",
       "    </tr>\n",
       "    <tr>\n",
       "      <th>2</th>\n",
       "      <td>0.0</td>\n",
       "      <td>0.0</td>\n",
       "      <td>0.0</td>\n",
       "      <td>0.0</td>\n",
       "      <td>0.0</td>\n",
       "      <td>0.0</td>\n",
       "      <td>0.0</td>\n",
       "      <td>0.0</td>\n",
       "      <td>0.0</td>\n",
       "      <td>0.0</td>\n",
       "      <td>...</td>\n",
       "      <td>0.0</td>\n",
       "      <td>0.0</td>\n",
       "      <td>0.0</td>\n",
       "      <td>0.0</td>\n",
       "      <td>0.0</td>\n",
       "      <td>0.0</td>\n",
       "      <td>0.0</td>\n",
       "      <td>0.0</td>\n",
       "      <td>0.0</td>\n",
       "      <td>0.0</td>\n",
       "    </tr>\n",
       "    <tr>\n",
       "      <th>3</th>\n",
       "      <td>0.0</td>\n",
       "      <td>0.0</td>\n",
       "      <td>0.0</td>\n",
       "      <td>0.0</td>\n",
       "      <td>0.0</td>\n",
       "      <td>0.0</td>\n",
       "      <td>0.0</td>\n",
       "      <td>0.0</td>\n",
       "      <td>0.0</td>\n",
       "      <td>0.0</td>\n",
       "      <td>...</td>\n",
       "      <td>0.0</td>\n",
       "      <td>0.0</td>\n",
       "      <td>0.0</td>\n",
       "      <td>0.0</td>\n",
       "      <td>0.0</td>\n",
       "      <td>0.0</td>\n",
       "      <td>0.0</td>\n",
       "      <td>0.0</td>\n",
       "      <td>0.0</td>\n",
       "      <td>0.0</td>\n",
       "    </tr>\n",
       "    <tr>\n",
       "      <th>4</th>\n",
       "      <td>0.0</td>\n",
       "      <td>0.0</td>\n",
       "      <td>0.0</td>\n",
       "      <td>0.0</td>\n",
       "      <td>0.0</td>\n",
       "      <td>0.0</td>\n",
       "      <td>0.0</td>\n",
       "      <td>0.0</td>\n",
       "      <td>0.0</td>\n",
       "      <td>0.0</td>\n",
       "      <td>...</td>\n",
       "      <td>0.0</td>\n",
       "      <td>0.0</td>\n",
       "      <td>0.0</td>\n",
       "      <td>0.0</td>\n",
       "      <td>0.0</td>\n",
       "      <td>0.0</td>\n",
       "      <td>0.0</td>\n",
       "      <td>0.0</td>\n",
       "      <td>0.0</td>\n",
       "      <td>0.0</td>\n",
       "    </tr>\n",
       "  </tbody>\n",
       "</table>\n",
       "<p>5 rows × 5000 columns</p>\n",
       "</div>"
      ],
      "text/plain": [
       "   000   03   04  06366   10  100  1000  1001  105  1079302  ...  york  young  \\\n",
       "0  0.0  0.0  0.0    0.0  0.0  0.0   0.0   0.0  0.0      0.0  ...   0.0    0.0   \n",
       "1  0.0  0.0  0.0    0.0  0.0  0.0   0.0   0.0  0.0      0.0  ...   0.0    0.0   \n",
       "2  0.0  0.0  0.0    0.0  0.0  0.0   0.0   0.0  0.0      0.0  ...   0.0    0.0   \n",
       "3  0.0  0.0  0.0    0.0  0.0  0.0   0.0   0.0  0.0      0.0  ...   0.0    0.0   \n",
       "4  0.0  0.0  0.0    0.0  0.0  0.0   0.0   0.0  0.0      0.0  ...   0.0    0.0   \n",
       "\n",
       "   yrs  zenreach  zero  zeus   zf  zillow  zogsports  zurich  \n",
       "0  0.0       0.0   0.0   0.0  0.0     0.0        0.0     0.0  \n",
       "1  0.0       0.0   0.0   0.0  0.0     0.0        0.0     0.0  \n",
       "2  0.0       0.0   0.0   0.0  0.0     0.0        0.0     0.0  \n",
       "3  0.0       0.0   0.0   0.0  0.0     0.0        0.0     0.0  \n",
       "4  0.0       0.0   0.0   0.0  0.0     0.0        0.0     0.0  \n",
       "\n",
       "[5 rows x 5000 columns]"
      ]
     },
     "execution_count": 17,
     "metadata": {},
     "output_type": "execute_result"
    }
   ],
   "source": [
    "##### Your Code Here #####\n",
    "from sklearn.feature_extraction.text import TfidfVectorizer\n",
    "\n",
    "# Instantiate vectorizer object\n",
    "tfidf = TfidfVectorizer(stop_words=STOP_WORDS, max_features=5000)\n",
    "\n",
    "# Create a vocabulary and get word counts per document\n",
    "dtm = tfidf.fit_transform(df['description'])\n",
    "\n",
    "# View Feature Matrix as DataFrame\n",
    "docs = pd.DataFrame(dtm.todense(), columns = tfidf.get_feature_names())\n",
    "docs.head()"
   ]
  },
  {
   "cell_type": "markdown",
   "metadata": {},
   "source": [
    "## 6) Create a NearestNeighbor Model. Write the description of your ideal datascience job and query your job listings. "
   ]
  },
  {
   "cell_type": "code",
   "execution_count": 18,
   "metadata": {
    "collapsed": false,
    "inputHidden": false,
    "jupyter": {
     "outputs_hidden": false
    },
    "outputHidden": false
   },
   "outputs": [
    {
     "data": {
      "text/plain": [
       "NearestNeighbors(algorithm='ball_tree', leaf_size=30, metric='minkowski',\n",
       "         metric_params=None, n_jobs=None, n_neighbors=5, p=2, radius=1.0)"
      ]
     },
     "execution_count": 18,
     "metadata": {},
     "output_type": "execute_result"
    }
   ],
   "source": [
    "# Instantiate\n",
    "from sklearn.neighbors import NearestNeighbors\n",
    "\n",
    "nn = NearestNeighbors(n_neighbors=5, algorithm='ball_tree')\n",
    "\n",
    "# Fit on TF-IDF Vectors\n",
    "nn.fit(dtm.todense())"
   ]
  },
  {
   "cell_type": "code",
   "execution_count": 19,
   "metadata": {},
   "outputs": [
    {
     "data": {
      "text/plain": [
       "(array([[0.        , 0.87365974, 0.88951925, 0.89836889, 0.90382974]]),\n",
       " array([[  0, 276, 301, 264,  71]]))"
      ]
     },
     "execution_count": 19,
     "metadata": {},
     "output_type": "execute_result"
    }
   ],
   "source": [
    "# Query Using kneighbors \n",
    "nn.kneighbors(dtm.todense()[0])\n",
    "\n",
    "# bottom array represents locations of documents with similar content"
   ]
  },
  {
   "cell_type": "code",
   "execution_count": 20,
   "metadata": {},
   "outputs": [
    {
     "data": {
      "text/plain": [
       "'b\"<div><div><div>Facebook\\'s mission is to give people the power to build community and bring the world closer together. Through our family of apps and services, we\\'re building a different kind of company that connects billions of people around the world, gives them ways to share what matters most to'"
      ]
     },
     "execution_count": 20,
     "metadata": {},
     "output_type": "execute_result"
    }
   ],
   "source": [
    "df['description'].iloc[276][:300]"
   ]
  },
  {
   "cell_type": "code",
   "execution_count": 21,
   "metadata": {},
   "outputs": [],
   "source": [
    "ideal_job = [\"\"\"We are all about the comfort of our employes,\n",
    "as based on Maslow's theory. We conduct research for clients on\n",
    "a great range of projects. Working here, you will have the opportunity\n",
    "to develop and apply your data science skills on a variety of topics. \n",
    "Become a specialist in the domain you choose. Switch when you want \n",
    "something new. This is the freedom we promise you at org...\n",
    "\"\"\"]"
   ]
  },
  {
   "cell_type": "code",
   "execution_count": 22,
   "metadata": {},
   "outputs": [
    {
     "data": {
      "text/plain": [
       "(array([[1.33146559, 1.33527733, 1.33670367, 1.34981474, 1.35549483]]),\n",
       " array([[135,  25, 405, 403,  14]]))"
      ]
     },
     "execution_count": 22,
     "metadata": {},
     "output_type": "execute_result"
    }
   ],
   "source": [
    "new = tfidf.transform(ideal_job)\n",
    "nn.kneighbors(new.todense())"
   ]
  },
  {
   "cell_type": "code",
   "execution_count": 23,
   "metadata": {},
   "outputs": [
    {
     "data": {
      "text/plain": [
       "\"b'<div><ul><li>Experience with guiding R&amp;D strategy for your organization</li><li>Outstanding written and verbal communication skills</li><li>Proficiency in statistical computing (R, Python, Matlab, SAS)</li><li>2+ years of applying algorithm design/multivariate statistics/machine learning to solving real-world problems</li><li>MS in a quantitative research discipline (e.g., Statistics, Machine Learning, Economics, Applied Math, Operations Research), or 5+ years of applied experience in lieu of degree</li><li>Ability to work independently and as part of a diverse, cross-functional team</li></ul></div>\\\\n<br/>\\\\n<div>Amazon aims to exceed the expectations of our customers by ensuring that their orders, no matter how large or small, are delivered as quickly, accurately, and cost effectively as possible. To meet this goal, Amazon has invested in Amazon Logistics, a world class last mile operation. We are looking for a dynamic, resourceful, and organized Data Scientist within Amazon Logistics\\\\xe2\\\\x80\\\\x99 Amazon Flex organization to develop new, data-driven solutions to support the most critical components of this rapidly scaling operation.<br/>\\\\n<br/>\\\\nAs part of the Last Mile Science &amp; Technology organization, you\\\\xe2\\\\x80\\\\x99ll partner closely with Science, Product, Tech, and Program teams to design innovative solutions to organizational and business problems, using statistical best practices to justify design decisions using data. You will be expected to be a subject matter expert in quantitative analysis and to communicate highly complex findings to multiple audiences. You may come from any one of a variety of quantitative backgrounds, but you must be comfortable with multiple modeling techniques, be able to acquire new techniques with practice, and be willing to show flexibility in finding the right technique to match the research problem. Modeling techniques are highly valued for this problem space include a broad range of ML approaches, as well as regulariza\""
      ]
     },
     "execution_count": 23,
     "metadata": {},
     "output_type": "execute_result"
    }
   ],
   "source": [
    "df['description'].iloc[14][:2000]"
   ]
  },
  {
   "cell_type": "markdown",
   "metadata": {},
   "source": [
    "So what companies do we have here? \n",
    "\n",
    "1) Paradigm Inc.\n",
    "2) Ads Measurement (of Partners of Pinterest)\n",
    "3) Clarkston Consulting\n",
    "4) 1904Labs\n",
    "5) Amazon [Logistics]"
   ]
  },
  {
   "cell_type": "code",
   "execution_count": 24,
   "metadata": {},
   "outputs": [
    {
     "name": "stdout",
     "output_type": "stream",
     "text": [
      "[-6.82669580e-02  1.30686238e-01 -9.27567407e-02  1.86644569e-02\n",
      "  9.05009136e-02  1.23302259e-01  3.53182293e-02 -6.30395263e-02\n",
      " -1.15252286e-03  1.43324709e+00 -1.90940335e-01 -2.35368554e-02\n",
      "  7.46296346e-02 -3.27828526e-02 -1.07050240e-01  1.08650448e-02\n",
      " -4.92214821e-02  1.17113698e+00 -1.55671969e-01 -1.86079610e-02\n",
      "  1.75716984e-03  5.40204421e-02 -1.21214263e-01 -8.14812109e-02\n",
      "  2.96540707e-02 -1.92577695e-03  6.00637384e-02  6.66015781e-03\n",
      "  1.76010266e-01 -9.42165703e-02 -4.15372327e-02  1.56595558e-02\n",
      "  2.69883089e-02  3.02586164e-02  9.35147926e-02 -4.50735651e-02\n",
      "  1.30048199e-02  7.07333237e-02 -6.47911876e-02 -4.00465503e-02\n",
      " -2.86844932e-02  2.55251322e-02 -4.71204966e-02  3.50463577e-02\n",
      " -6.61097616e-02  7.57142380e-02 -3.31030264e-02  3.94859537e-02\n",
      "  9.01501253e-02 -3.65183353e-02  1.51329930e-03  3.12870331e-02\n",
      " -2.63166763e-02 -9.77174100e-03 -8.69368687e-02  5.30527048e-02\n",
      " -3.19176577e-02 -8.12683627e-02 -9.23807826e-03 -4.20991071e-02\n",
      " -2.31068563e-02 -3.14946398e-02 -2.35714931e-02  9.16187093e-02\n",
      "  1.68937042e-01 -2.68636886e-02 -4.83361119e-03  7.16453642e-02\n",
      "  8.16648826e-02  8.68725255e-02  4.04122099e-02  9.37546641e-02\n",
      "  6.52851537e-02 -1.85825713e-02  9.77106690e-02  7.11653382e-02\n",
      " -2.82683037e-02 -7.03639314e-02  1.97918098e-02  1.38538271e-01\n",
      " -1.13719210e-01  1.15040839e-02 -3.04671749e-02  1.15415342e-02\n",
      " -2.36681085e-02 -1.12623528e-01 -5.38675003e-02  1.27235539e-02\n",
      "  1.67664707e-01  5.24311252e-02 -1.18965127e-01  3.04804742e-02\n",
      " -4.72159078e-03 -7.02278242e-02  9.82453674e-02 -4.74203862e-02\n",
      " -3.40319462e-02  4.73680394e-03  3.94048169e-04  2.43249983e-02\n",
      " -3.46547142e-02  6.38632253e-02 -1.02185264e-01  2.60857884e-02\n",
      "  1.23543985e-01 -4.90478992e-01  5.28477952e-02  6.81392774e-02\n",
      "  1.30775660e-01  1.04961216e-01 -2.49611074e-03 -1.41456023e-01\n",
      "  1.06216609e-01 -1.52513772e-01 -5.17035984e-02 -5.47387227e-02\n",
      "  9.63334665e-02 -7.44162053e-02 -1.35946786e-02 -4.93095964e-02\n",
      "  1.03964895e-01 -7.16435239e-02  4.83247153e-02 -4.47514802e-02\n",
      " -1.91753823e-02  3.61550562e-02 -4.90797944e-02  6.74670488e-02\n",
      "  4.33989875e-02 -2.54892856e-02  1.15459934e-01  4.33465764e-02\n",
      " -1.00717351e-01 -2.66592279e-02  9.49574858e-02  8.57552961e-02\n",
      "  8.54083430e-03 -7.08964095e-02  2.67374087e-02  8.20856169e-02\n",
      " -4.93329078e-01  1.56891160e-02  7.08800107e-02 -6.05714768e-02\n",
      " -4.14619818e-02 -1.29482234e-02 -3.10252933e-03 -9.17237699e-02\n",
      " -7.02835340e-03  1.71327963e-02  7.28171021e-02 -7.59002194e-03\n",
      "  6.40706569e-02  5.69272265e-02 -6.57034516e-02 -9.31834395e-04\n",
      " -4.10328805e-02 -1.56657659e-02  6.74054995e-02 -5.04469536e-02\n",
      "  4.23857942e-02  6.68411702e-02 -3.73569392e-02 -4.78657968e-02\n",
      " -8.43227580e-02 -1.19292818e-01 -4.15903479e-02 -1.27095908e-01\n",
      "  5.02062663e-02  2.38771401e-02  2.64325254e-02  1.06778681e-01\n",
      "  1.20353568e-02  3.83123732e-03 -1.18398918e-02  1.49435088e-01\n",
      " -3.77055332e-02 -1.04384413e-02  1.28436401e-01 -8.78468305e-02\n",
      "  6.79351464e-02 -3.31912488e-02 -4.69674058e-02 -3.63591462e-02\n",
      " -5.32026179e-02 -7.21996091e-03 -6.25035614e-02  8.12219232e-02\n",
      "  1.57296229e-02 -1.28022963e-02 -4.07074019e-02  1.67869199e-02\n",
      " -8.18741247e-02  5.45347482e-03 -8.94101709e-03  7.41787702e-02\n",
      " -5.62925637e-02 -9.55105647e-02 -1.37293469e-02  1.34207904e-01\n",
      " -9.36628133e-02 -8.12322125e-02 -3.08069829e-02  7.27406815e-02\n",
      "  6.07543625e-02 -4.93734591e-02 -2.43387977e-03 -2.01572105e-02\n",
      "  1.80577114e-02 -3.09414417e-02 -7.24715963e-02 -1.32907674e-01\n",
      "  1.08627584e-02 -1.84785873e-01  3.69383469e-02 -2.32541878e-02\n",
      " -5.63073121e-02 -3.60461487e-03 -2.31303886e-01  3.53411050e-03\n",
      "  7.02855587e-02  1.16080515e-01 -5.25261685e-02 -1.53277218e-02\n",
      "  3.21886428e-02  9.21462700e-02  2.99255978e-02  4.63886298e-02\n",
      "  7.21895620e-02  5.60540780e-02 -1.60909995e-01  3.82668115e-02\n",
      "  5.81757277e-02  8.47264230e-02 -1.03751622e-01 -3.90961207e-02\n",
      " -9.25868154e-02 -6.96151778e-02 -3.79426628e-02  3.82314585e-02\n",
      "  5.34103438e-02  8.61678831e-03  6.52030483e-02 -6.28582388e-02\n",
      "  9.85944569e-02 -1.54810965e-01 -4.98103090e-02 -9.04338807e-02\n",
      " -1.12999611e-01  8.53455365e-02  4.44491170e-02  3.19577418e-02\n",
      " -1.05629735e-01 -7.32194334e-02  4.25853543e-02  1.15586586e-01\n",
      "  3.47036608e-02 -1.15664966e-01  4.21372503e-02 -1.57182682e-02\n",
      "  9.23636183e-02  1.29005834e-01  5.11214733e-02  1.22821912e-01\n",
      "  8.70370306e-03 -5.87023608e-02 -7.64644071e-02  3.59767340e-02\n",
      "  3.93540561e-01 -3.89785245e-02 -8.90369266e-02 -4.50916253e-02\n",
      "  5.37282042e-02 -1.24514647e-01 -1.42044678e-01 -4.08589095e-02\n",
      "  8.72784778e-02  1.20622359e-01 -1.09500512e-01  9.79420915e-02\n",
      "  1.32563785e-01  1.21459207e-02  8.90828446e-02 -4.50819246e-02\n",
      "  2.50175912e-02 -1.97401851e-01  4.22737040e-02 -1.59966722e-01\n",
      "  1.36123940e-01 -1.32224634e-01 -7.99882635e-02  1.31910518e-02\n",
      " -5.39151132e-02  3.89305018e-02 -4.93016094e-02 -5.09574590e-03\n",
      " -6.06579008e-03 -4.99715917e-02 -1.73295122e-02  1.09092481e-01]\n"
     ]
    }
   ],
   "source": [
    "# Process a text using Spacy's word-to-vec \n",
    "doc = nlp(df['description'][0])\n",
    "\n",
    "doc_vector = doc.vector\n",
    "print(doc_vector)"
   ]
  },
  {
   "cell_type": "code",
   "execution_count": 25,
   "metadata": {},
   "outputs": [
    {
     "data": {
      "text/plain": [
       "300"
      ]
     },
     "execution_count": 25,
     "metadata": {},
     "output_type": "execute_result"
    }
   ],
   "source": [
    "len(doc_vector)"
   ]
  },
  {
   "cell_type": "code",
   "execution_count": 26,
   "metadata": {},
   "outputs": [
    {
     "name": "stdout",
     "output_type": "stream",
     "text": [
      "0.9754150453847172\n"
     ]
    }
   ],
   "source": [
    "# similarity of two docs example\n",
    "doc1 = nlp(df['description'][1])\n",
    "doc2 = nlp(df['description'][2])\n",
    "\n",
    "similarity = doc1.similarity(doc2)\n",
    "print(similarity)"
   ]
  },
  {
   "cell_type": "code",
   "execution_count": 27,
   "metadata": {},
   "outputs": [
    {
     "data": {
      "text/plain": [
       "array([[ 5.85268027e-01, -1.65239229e+00],\n",
       "       [ 5.85268027e-01, -1.65239229e+00],\n",
       "       [-2.15470081e+00,  6.38438739e-01],\n",
       "       [-1.32181274e+00,  1.04173309e+00],\n",
       "       [-2.26763952e+00,  2.83568912e-01],\n",
       "       [-1.43435896e+00,  1.55141238e+00],\n",
       "       [-1.81787962e+00,  3.37268707e-03],\n",
       "       [ 5.85268027e-01, -1.65239229e+00],\n",
       "       [ 3.64324104e+00, -4.46522159e-01],\n",
       "       [ 5.85268027e-01, -1.65239229e+00],\n",
       "       [ 4.81472553e+00, -1.03638486e-01],\n",
       "       [ 3.31497080e+00, -1.28531946e+00],\n",
       "       [ 2.60973715e-01,  2.17808263e+00],\n",
       "       [ 1.04370278e+00,  1.60188985e+00],\n",
       "       [ 1.29001106e+00,  2.98812376e+00],\n",
       "       [ 6.10112078e-03,  1.89922956e+00],\n",
       "       [-6.99507073e-01,  1.06114922e+00],\n",
       "       [-1.18728484e+00, -4.29322564e-01],\n",
       "       [-1.89419145e+00,  2.59476420e-02],\n",
       "       [-5.01186962e-01,  9.45924244e-01],\n",
       "       [ 3.26904526e+00, -2.07426748e+00],\n",
       "       [ 1.81564520e+00, -2.16231808e+00],\n",
       "       [-2.98927347e+00,  3.39528852e-01],\n",
       "       [-1.01367692e+00, -1.33446786e+00],\n",
       "       [ 5.85268027e-01, -1.65239229e+00],\n",
       "       [-1.70792265e+00,  9.46730409e-02],\n",
       "       [-2.25453355e+00,  8.43865645e-01],\n",
       "       [-4.08757428e-01,  2.03658544e+00],\n",
       "       [-2.34183951e+00,  3.97787541e-01],\n",
       "       [ 5.85268027e-01, -1.65239229e+00],\n",
       "       [-2.54064013e+00,  9.76139170e-01],\n",
       "       [-1.55582006e+00,  4.45848047e-01],\n",
       "       [-1.08562354e+00,  2.66375151e+00],\n",
       "       [-1.62347651e+00,  6.06752799e-02],\n",
       "       [-1.83099491e+00,  1.23593531e+00],\n",
       "       [ 1.49565389e+00,  7.23420692e-03],\n",
       "       [-6.98132963e-01,  1.19501098e+00],\n",
       "       [-1.20374831e+00, -1.77952506e-01],\n",
       "       [ 5.85268027e-01, -1.65239229e+00],\n",
       "       [-4.01577672e-01,  1.48184863e+00],\n",
       "       [-1.81787962e+00,  3.37268707e-03],\n",
       "       [ 5.84285119e+00,  3.27522681e+00],\n",
       "       [ 6.24024577e+00,  2.56844022e+00],\n",
       "       [ 4.44539157e-01, -1.19446961e+00],\n",
       "       [ 6.14003979e+00,  2.19738862e+00],\n",
       "       [-1.03362560e+00,  6.80421500e-03],\n",
       "       [ 2.48113219e+00,  2.65114061e+00],\n",
       "       [ 5.54735297e+00,  2.73926599e-01],\n",
       "       [ 5.85268027e-01, -1.65239229e+00],\n",
       "       [ 5.85268027e-01, -1.65239229e+00],\n",
       "       [ 5.85268027e-01, -1.65239229e+00],\n",
       "       [-2.10439787e+00,  4.44450504e-01],\n",
       "       [-1.43435896e+00,  1.55141238e+00],\n",
       "       [-1.84573758e+00,  2.70805080e-01],\n",
       "       [-2.16270312e+00,  5.15157132e-01],\n",
       "       [ 1.29830973e+00, -1.85910412e+00],\n",
       "       [-1.04900323e+00, -1.73246615e+00],\n",
       "       [ 5.85268027e-01, -1.65239229e+00],\n",
       "       [-2.98927347e+00,  3.39528852e-01],\n",
       "       [ 5.85268027e-01, -1.65239229e+00],\n",
       "       [-1.57956849e+00,  6.47830537e-01],\n",
       "       [-1.80634070e+00, -3.63654585e-01],\n",
       "       [ 5.85268027e-01, -1.65239229e+00],\n",
       "       [-2.05117186e+00, -4.89253402e-01],\n",
       "       [-2.25853966e+00,  5.90106601e-01],\n",
       "       [ 3.25110146e+00,  1.08851085e+00],\n",
       "       [ 5.85268027e-01, -1.65239229e+00],\n",
       "       [-1.01778152e+00, -1.99614393e-01],\n",
       "       [ 5.85268027e-01, -1.65239229e+00],\n",
       "       [-2.47205037e+00,  8.19055422e-03],\n",
       "       [ 5.85268027e-01, -1.65239229e+00],\n",
       "       [-1.80662403e+00,  4.30254326e-01],\n",
       "       [ 1.66939583e+00, -7.20742164e-01],\n",
       "       [-2.04022727e+00,  1.45587132e+00],\n",
       "       [ 5.85268027e-01, -1.65239229e+00],\n",
       "       [ 5.85268027e-01, -1.65239229e+00]])"
      ]
     },
     "execution_count": 27,
     "metadata": {},
     "output_type": "execute_result"
    }
   ],
   "source": [
    "# PCA example \n",
    "from sklearn.decomposition import PCA\n",
    "def get_word_vectors(words):\n",
    "    return [nlp(word).vector for word in words]\n",
    "\n",
    "words = df['lemmas'][0]\n",
    "\n",
    "# n_components specifies number of dimensions to project onto\n",
    "pca = PCA(n_components = 2)\n",
    "\n",
    "pca.fit(get_word_vectors(words))\n",
    "\n",
    "word_vecs_2d = pca.transform(get_word_vectors(words))\n",
    "\n",
    "word_vecs_2d"
   ]
  },
  {
   "cell_type": "code",
   "execution_count": 28,
   "metadata": {},
   "outputs": [
    {
     "data": {
      "image/png": "[encoded data removed]",
      "text/plain": [
       "<Figure size 1440x1080 with 1 Axes>"
      ]
     },
     "metadata": {
      "needs_background": "light"
     },
     "output_type": "display_data"
    }
   ],
   "source": [
    "# create a nice big plot \n",
    "plt.figure(figsize=(20,15))\n",
    "\n",
    "# plot the scatter plot of where the words will be\n",
    "plt.scatter(word_vecs_2d[:,0], word_vecs_2d[:,1])\n",
    "\n",
    "# for each word and coordinate pair: draw the text on the plot\n",
    "for word, coord in zip(words, word_vecs_2d):\n",
    "    x, y = coord\n",
    "    plt.text(x, y, word, size= 15)\n",
    "\n",
    "# show the plot\n",
    "plt.show()"
   ]
  },
  {
   "cell_type": "code",
   "execution_count": 29,
   "metadata": {},
   "outputs": [],
   "source": [
    "# Extract Document Vectors\n",
    "X = [nlp(str(d)).vector for d in df['description']]"
   ]
  },
  {
   "cell_type": "code",
   "execution_count": 30,
   "metadata": {},
   "outputs": [
    {
     "data": {
      "text/plain": [
       "array([-6.82669580e-02,  1.30686238e-01, -9.27567407e-02,  1.86644569e-02,\n",
       "        9.05009136e-02,  1.23302259e-01,  3.53182293e-02, -6.30395263e-02,\n",
       "       -1.15252286e-03,  1.43324709e+00, -1.90940335e-01, -2.35368554e-02,\n",
       "        7.46296346e-02, -3.27828526e-02, -1.07050240e-01,  1.08650448e-02,\n",
       "       -4.92214821e-02,  1.17113698e+00, -1.55671969e-01, -1.86079610e-02,\n",
       "        1.75716984e-03,  5.40204421e-02, -1.21214263e-01, -8.14812109e-02,\n",
       "        2.96540707e-02, -1.92577695e-03,  6.00637384e-02,  6.66015781e-03,\n",
       "        1.76010266e-01, -9.42165703e-02, -4.15372327e-02,  1.56595558e-02,\n",
       "        2.69883089e-02,  3.02586164e-02,  9.35147926e-02, -4.50735651e-02,\n",
       "        1.30048199e-02,  7.07333237e-02, -6.47911876e-02, -4.00465503e-02,\n",
       "       -2.86844932e-02,  2.55251322e-02, -4.71204966e-02,  3.50463577e-02,\n",
       "       -6.61097616e-02,  7.57142380e-02, -3.31030264e-02,  3.94859537e-02,\n",
       "        9.01501253e-02, -3.65183353e-02,  1.51329930e-03,  3.12870331e-02,\n",
       "       -2.63166763e-02, -9.77174100e-03, -8.69368687e-02,  5.30527048e-02,\n",
       "       -3.19176577e-02, -8.12683627e-02, -9.23807826e-03, -4.20991071e-02,\n",
       "       -2.31068563e-02, -3.14946398e-02, -2.35714931e-02,  9.16187093e-02,\n",
       "        1.68937042e-01, -2.68636886e-02, -4.83361119e-03,  7.16453642e-02,\n",
       "        8.16648826e-02,  8.68725255e-02,  4.04122099e-02,  9.37546641e-02,\n",
       "        6.52851537e-02, -1.85825713e-02,  9.77106690e-02,  7.11653382e-02,\n",
       "       -2.82683037e-02, -7.03639314e-02,  1.97918098e-02,  1.38538271e-01,\n",
       "       -1.13719210e-01,  1.15040839e-02, -3.04671749e-02,  1.15415342e-02,\n",
       "       -2.36681085e-02, -1.12623528e-01, -5.38675003e-02,  1.27235539e-02,\n",
       "        1.67664707e-01,  5.24311252e-02, -1.18965127e-01,  3.04804742e-02,\n",
       "       -4.72159078e-03, -7.02278242e-02,  9.82453674e-02, -4.74203862e-02,\n",
       "       -3.40319462e-02,  4.73680394e-03,  3.94048169e-04,  2.43249983e-02,\n",
       "       -3.46547142e-02,  6.38632253e-02, -1.02185264e-01,  2.60857884e-02,\n",
       "        1.23543985e-01, -4.90478992e-01,  5.28477952e-02,  6.81392774e-02,\n",
       "        1.30775660e-01,  1.04961216e-01, -2.49611074e-03, -1.41456023e-01,\n",
       "        1.06216609e-01, -1.52513772e-01, -5.17035984e-02, -5.47387227e-02,\n",
       "        9.63334665e-02, -7.44162053e-02, -1.35946786e-02, -4.93095964e-02,\n",
       "        1.03964895e-01, -7.16435239e-02,  4.83247153e-02, -4.47514802e-02,\n",
       "       -1.91753823e-02,  3.61550562e-02, -4.90797944e-02,  6.74670488e-02,\n",
       "        4.33989875e-02, -2.54892856e-02,  1.15459934e-01,  4.33465764e-02,\n",
       "       -1.00717351e-01, -2.66592279e-02,  9.49574858e-02,  8.57552961e-02,\n",
       "        8.54083430e-03, -7.08964095e-02,  2.67374087e-02,  8.20856169e-02,\n",
       "       -4.93329078e-01,  1.56891160e-02,  7.08800107e-02, -6.05714768e-02,\n",
       "       -4.14619818e-02, -1.29482234e-02, -3.10252933e-03, -9.17237699e-02,\n",
       "       -7.02835340e-03,  1.71327963e-02,  7.28171021e-02, -7.59002194e-03,\n",
       "        6.40706569e-02,  5.69272265e-02, -6.57034516e-02, -9.31834395e-04,\n",
       "       -4.10328805e-02, -1.56657659e-02,  6.74054995e-02, -5.04469536e-02,\n",
       "        4.23857942e-02,  6.68411702e-02, -3.73569392e-02, -4.78657968e-02,\n",
       "       -8.43227580e-02, -1.19292818e-01, -4.15903479e-02, -1.27095908e-01,\n",
       "        5.02062663e-02,  2.38771401e-02,  2.64325254e-02,  1.06778681e-01,\n",
       "        1.20353568e-02,  3.83123732e-03, -1.18398918e-02,  1.49435088e-01,\n",
       "       -3.77055332e-02, -1.04384413e-02,  1.28436401e-01, -8.78468305e-02,\n",
       "        6.79351464e-02, -3.31912488e-02, -4.69674058e-02, -3.63591462e-02,\n",
       "       -5.32026179e-02, -7.21996091e-03, -6.25035614e-02,  8.12219232e-02,\n",
       "        1.57296229e-02, -1.28022963e-02, -4.07074019e-02,  1.67869199e-02,\n",
       "       -8.18741247e-02,  5.45347482e-03, -8.94101709e-03,  7.41787702e-02,\n",
       "       -5.62925637e-02, -9.55105647e-02, -1.37293469e-02,  1.34207904e-01,\n",
       "       -9.36628133e-02, -8.12322125e-02, -3.08069829e-02,  7.27406815e-02,\n",
       "        6.07543625e-02, -4.93734591e-02, -2.43387977e-03, -2.01572105e-02,\n",
       "        1.80577114e-02, -3.09414417e-02, -7.24715963e-02, -1.32907674e-01,\n",
       "        1.08627584e-02, -1.84785873e-01,  3.69383469e-02, -2.32541878e-02,\n",
       "       -5.63073121e-02, -3.60461487e-03, -2.31303886e-01,  3.53411050e-03,\n",
       "        7.02855587e-02,  1.16080515e-01, -5.25261685e-02, -1.53277218e-02,\n",
       "        3.21886428e-02,  9.21462700e-02,  2.99255978e-02,  4.63886298e-02,\n",
       "        7.21895620e-02,  5.60540780e-02, -1.60909995e-01,  3.82668115e-02,\n",
       "        5.81757277e-02,  8.47264230e-02, -1.03751622e-01, -3.90961207e-02,\n",
       "       -9.25868154e-02, -6.96151778e-02, -3.79426628e-02,  3.82314585e-02,\n",
       "        5.34103438e-02,  8.61678831e-03,  6.52030483e-02, -6.28582388e-02,\n",
       "        9.85944569e-02, -1.54810965e-01, -4.98103090e-02, -9.04338807e-02,\n",
       "       -1.12999611e-01,  8.53455365e-02,  4.44491170e-02,  3.19577418e-02,\n",
       "       -1.05629735e-01, -7.32194334e-02,  4.25853543e-02,  1.15586586e-01,\n",
       "        3.47036608e-02, -1.15664966e-01,  4.21372503e-02, -1.57182682e-02,\n",
       "        9.23636183e-02,  1.29005834e-01,  5.11214733e-02,  1.22821912e-01,\n",
       "        8.70370306e-03, -5.87023608e-02, -7.64644071e-02,  3.59767340e-02,\n",
       "        3.93540561e-01, -3.89785245e-02, -8.90369266e-02, -4.50916253e-02,\n",
       "        5.37282042e-02, -1.24514647e-01, -1.42044678e-01, -4.08589095e-02,\n",
       "        8.72784778e-02,  1.20622359e-01, -1.09500512e-01,  9.79420915e-02,\n",
       "        1.32563785e-01,  1.21459207e-02,  8.90828446e-02, -4.50819246e-02,\n",
       "        2.50175912e-02, -1.97401851e-01,  4.22737040e-02, -1.59966722e-01,\n",
       "        1.36123940e-01, -1.32224634e-01, -7.99882635e-02,  1.31910518e-02,\n",
       "       -5.39151132e-02,  3.89305018e-02, -4.93016094e-02, -5.09574590e-03,\n",
       "       -6.06579008e-03, -4.99715917e-02, -1.73295122e-02,  1.09092481e-01],\n",
       "      dtype=float32)"
      ]
     },
     "execution_count": 30,
     "metadata": {},
     "output_type": "execute_result"
    }
   ],
   "source": [
    "X[0]"
   ]
  },
  {
   "cell_type": "markdown",
   "metadata": {
    "colab_type": "text",
    "id": "FiDfTWceoRkH"
   },
   "source": [
    "## Stretch Goals\n",
    "\n",
    " - Try different visualizations for words and frequencies - what story do you want to tell with the data?\n",
    " - Scrape Job Listings for the job title \"Data Analyst\". How do these differ from Data Scientist Job Listings\n",
    " - Try and identify requirements for experience specific technologies that are asked for in the job listings. How are those distributed among the job listings?\n",
    " - Use a clustering algorithm to cluster documents by their most important terms. Do the clusters reveal any common themes?\n",
    "  - **Hint:** K-means might not be the best algorithm for this. Do a little bit of research to see what might be good for this. Also, remember that algorithms that depend on Euclidean distance break down with high dimensional data.\n",
    " - Create a labeled dataset - which jobs will you apply for? Train a model to select the jobs you are most likely to apply for. :) "
   ]
  }
 ],
 "metadata": {
  "colab": {
   "collapsed_sections": [],
   "name": "LS_DS_422_BOW_Assignment.ipynb",
   "provenance": [],
   "version": "0.3.2"
  },
  "kernel_info": {
   "name": "python3"
  },
  "kernelspec": {
   "display_name": "NLP",
   "language": "python",
   "name": "nlp"
  },
  "language_info": {
   "codemirror_mode": {
    "name": "ipython",
    "version": 3
   },
   "file_extension": ".py",
   "mimetype": "text/x-python",
   "name": "python",
   "nbconvert_exporter": "python",
   "pygments_lexer": "ipython3",
   "version": "3.7.0"
  },
  "nteract": {
   "version": "0.14.3"
  }
 },
 "nbformat": 4,
 "nbformat_minor": 4
}
