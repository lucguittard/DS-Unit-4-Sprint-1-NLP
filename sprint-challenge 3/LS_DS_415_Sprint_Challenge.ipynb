{
 "cells": [
  {
   "cell_type": "markdown",
   "metadata": {},
   "source": [
    "<img align=\"left\" src=\"https://lever-client-logos.s3.amazonaws.com/864372b1-534c-480e-acd5-9711f850815c-1524247202159.png\" width=200>\n",
    "<br></br>\n",
    "<br></br>\n",
    "\n",
    "# Sprint Challenge\n",
    "## *Data Science Unit 4 Sprint 1*\n",
    "\n",
    "After a week of Natural Language Processing, you've learned some cool new stuff: how to process text, how turn text into vectors, and how to model topics from documents. Apply your newly acquired skills to one of the most famous NLP datasets out there: [Yelp](https://www.yelp.com/dataset/challenge). As part of the job selection process, some of my friends have been asked to create analysis of this dataset, so I want to empower you to have a head start.  \n",
    "\n",
    "The real dataset is massive (almost 8 gigs uncompressed). I've sampled the data for you to something more managable for the Sprint Challenge. You can analyze the full dataset as a stretch goal or after the sprint challenge. As you work on the challenge, I suggest adding notes about your findings and things you want to analyze in the future.\n",
    "\n",
    "## Challenge Objectives\n",
    "*Successfully complete these all these objectives to earn a 2. There are more details on each objective further down in the notebook.*\n",
    "* <a href=\"#p1\">Part 1</a>: Write a function to tokenize the yelp reviews\n",
    "* <a href=\"#p2\">Part 2</a>: Create a vector representation of those tokens\n",
    "* <a href=\"#p3\">Part 3</a>: Use your tokens in a classification model on yelp rating\n",
    "* <a href=\"#p4\">Part 4</a>: Estimate & Interpret a topic model of the Yelp reviews"
   ]
  },
  {
   "cell_type": "code",
   "execution_count": 1,
   "metadata": {},
   "outputs": [],
   "source": [
    "import pandas as pd\n",
    "\n",
    "yelp = pd.read_json('./data/review_sample.json', lines=True)\n",
    "df = yelp"
   ]
  },
  {
   "cell_type": "code",
   "execution_count": 2,
   "metadata": {},
   "outputs": [
    {
     "data": {
      "text/html": [
       "<div>\n",
       "<style scoped>\n",
       "    .dataframe tbody tr th:only-of-type {\n",
       "        vertical-align: middle;\n",
       "    }\n",
       "\n",
       "    .dataframe tbody tr th {\n",
       "        vertical-align: top;\n",
       "    }\n",
       "\n",
       "    .dataframe thead th {\n",
       "        text-align: right;\n",
       "    }\n",
       "</style>\n",
       "<table border=\"1\" class=\"dataframe\">\n",
       "  <thead>\n",
       "    <tr style=\"text-align: right;\">\n",
       "      <th></th>\n",
       "      <th>business_id</th>\n",
       "      <th>cool</th>\n",
       "      <th>date</th>\n",
       "      <th>funny</th>\n",
       "      <th>review_id</th>\n",
       "      <th>stars</th>\n",
       "      <th>text</th>\n",
       "      <th>useful</th>\n",
       "      <th>user_id</th>\n",
       "    </tr>\n",
       "  </thead>\n",
       "  <tbody>\n",
       "    <tr>\n",
       "      <th>0</th>\n",
       "      <td>nDuEqIyRc8YKS1q1fX0CZg</td>\n",
       "      <td>1</td>\n",
       "      <td>2015-03-31 16:50:30</td>\n",
       "      <td>0</td>\n",
       "      <td>eZs2tpEJtXPwawvHnHZIgQ</td>\n",
       "      <td>1</td>\n",
       "      <td>BEWARE!!! FAKE, FAKE, FAKE....We also own a sm...</td>\n",
       "      <td>10</td>\n",
       "      <td>n1LM36qNg4rqGXIcvVXv8w</td>\n",
       "    </tr>\n",
       "    <tr>\n",
       "      <th>1</th>\n",
       "      <td>eMYeEapscbKNqUDCx705hg</td>\n",
       "      <td>0</td>\n",
       "      <td>2015-12-16 05:31:03</td>\n",
       "      <td>0</td>\n",
       "      <td>DoQDWJsNbU0KL1O29l_Xug</td>\n",
       "      <td>4</td>\n",
       "      <td>Came here for lunch Togo. Service was quick. S...</td>\n",
       "      <td>0</td>\n",
       "      <td>5CgjjDAic2-FAvCtiHpytA</td>\n",
       "    </tr>\n",
       "    <tr>\n",
       "      <th>2</th>\n",
       "      <td>6Q7-wkCPc1KF75jZLOTcMw</td>\n",
       "      <td>1</td>\n",
       "      <td>2010-06-20 19:14:48</td>\n",
       "      <td>1</td>\n",
       "      <td>DDOdGU7zh56yQHmUnL1idQ</td>\n",
       "      <td>3</td>\n",
       "      <td>I've been to Vegas dozens of times and had nev...</td>\n",
       "      <td>2</td>\n",
       "      <td>BdV-cf3LScmb8kZ7iiBcMA</td>\n",
       "    </tr>\n",
       "    <tr>\n",
       "      <th>3</th>\n",
       "      <td>k3zrItO4l9hwfLRwHBDc9w</td>\n",
       "      <td>3</td>\n",
       "      <td>2010-07-13 00:33:45</td>\n",
       "      <td>4</td>\n",
       "      <td>LfTMUWnfGFMOfOIyJcwLVA</td>\n",
       "      <td>1</td>\n",
       "      <td>We went here on a night where they closed off ...</td>\n",
       "      <td>5</td>\n",
       "      <td>cZZnBqh4gAEy4CdNvJailQ</td>\n",
       "    </tr>\n",
       "    <tr>\n",
       "      <th>4</th>\n",
       "      <td>6hpfRwGlOzbNv7k5eP9rsQ</td>\n",
       "      <td>1</td>\n",
       "      <td>2018-06-30 02:30:01</td>\n",
       "      <td>0</td>\n",
       "      <td>zJSUdI7bJ8PNJAg4lnl_Gg</td>\n",
       "      <td>4</td>\n",
       "      <td>3.5 to 4 stars\\n\\nNot bad for the price, $12.9...</td>\n",
       "      <td>5</td>\n",
       "      <td>n9QO4ClYAS7h9fpQwa5bhA</td>\n",
       "    </tr>\n",
       "  </tbody>\n",
       "</table>\n",
       "</div>"
      ],
      "text/plain": [
       "              business_id  cool                date  funny  \\\n",
       "0  nDuEqIyRc8YKS1q1fX0CZg     1 2015-03-31 16:50:30      0   \n",
       "1  eMYeEapscbKNqUDCx705hg     0 2015-12-16 05:31:03      0   \n",
       "2  6Q7-wkCPc1KF75jZLOTcMw     1 2010-06-20 19:14:48      1   \n",
       "3  k3zrItO4l9hwfLRwHBDc9w     3 2010-07-13 00:33:45      4   \n",
       "4  6hpfRwGlOzbNv7k5eP9rsQ     1 2018-06-30 02:30:01      0   \n",
       "\n",
       "                review_id  stars  \\\n",
       "0  eZs2tpEJtXPwawvHnHZIgQ      1   \n",
       "1  DoQDWJsNbU0KL1O29l_Xug      4   \n",
       "2  DDOdGU7zh56yQHmUnL1idQ      3   \n",
       "3  LfTMUWnfGFMOfOIyJcwLVA      1   \n",
       "4  zJSUdI7bJ8PNJAg4lnl_Gg      4   \n",
       "\n",
       "                                                text  useful  \\\n",
       "0  BEWARE!!! FAKE, FAKE, FAKE....We also own a sm...      10   \n",
       "1  Came here for lunch Togo. Service was quick. S...       0   \n",
       "2  I've been to Vegas dozens of times and had nev...       2   \n",
       "3  We went here on a night where they closed off ...       5   \n",
       "4  3.5 to 4 stars\\n\\nNot bad for the price, $12.9...       5   \n",
       "\n",
       "                  user_id  \n",
       "0  n1LM36qNg4rqGXIcvVXv8w  \n",
       "1  5CgjjDAic2-FAvCtiHpytA  \n",
       "2  BdV-cf3LScmb8kZ7iiBcMA  \n",
       "3  cZZnBqh4gAEy4CdNvJailQ  \n",
       "4  n9QO4ClYAS7h9fpQwa5bhA  "
      ]
     },
     "execution_count": 2,
     "metadata": {},
     "output_type": "execute_result"
    }
   ],
   "source": [
    "yelp.head()"
   ]
  },
  {
   "cell_type": "markdown",
   "metadata": {},
   "source": [
    "## Part 1: Tokenize Function\n",
    "<a id=\"#p1\"></a>\n",
    "\n",
    "Complete the function `tokenize`. Your function should\n",
    "- accept one document at a time\n",
    "- return a list of tokens\n",
    "\n",
    "You are free to use any method you have learned this week."
   ]
  },
  {
   "cell_type": "code",
   "execution_count": 3,
   "metadata": {},
   "outputs": [
    {
     "name": "stdout",
     "output_type": "stream",
     "text": [
      "Requirement already up-to-date: gensim in /Users/Person/anaconda3/envs/NLP/lib/python3.7/site-packages (3.8.1)\n",
      "Requirement already satisfied, skipping upgrade: six>=1.5.0 in /Users/Person/anaconda3/envs/NLP/lib/python3.7/site-packages (from gensim) (1.12.0)\n",
      "Requirement already satisfied, skipping upgrade: numpy>=1.11.3 in /Users/Person/anaconda3/envs/NLP/lib/python3.7/site-packages (from gensim) (1.15.4)\n",
      "Requirement already satisfied, skipping upgrade: scipy>=0.18.1 in /Users/Person/anaconda3/envs/NLP/lib/python3.7/site-packages (from gensim) (1.1.0)\n",
      "Requirement already satisfied, skipping upgrade: smart-open>=1.8.1 in /Users/Person/anaconda3/envs/NLP/lib/python3.7/site-packages (from gensim) (1.8.4)\n",
      "Requirement already satisfied, skipping upgrade: requests in /Users/Person/anaconda3/envs/NLP/lib/python3.7/site-packages (from smart-open>=1.8.1->gensim) (2.22.0)\n",
      "Requirement already satisfied, skipping upgrade: boto3 in /Users/Person/anaconda3/envs/NLP/lib/python3.7/site-packages (from smart-open>=1.8.1->gensim) (1.10.2)\n",
      "Requirement already satisfied, skipping upgrade: boto>=2.32 in /Users/Person/anaconda3/envs/NLP/lib/python3.7/site-packages (from smart-open>=1.8.1->gensim) (2.49.0)\n",
      "Requirement already satisfied, skipping upgrade: urllib3!=1.25.0,!=1.25.1,<1.26,>=1.21.1 in /Users/Person/anaconda3/envs/NLP/lib/python3.7/site-packages (from requests->smart-open>=1.8.1->gensim) (1.25.6)\n",
      "Requirement already satisfied, skipping upgrade: idna<2.9,>=2.5 in /Users/Person/anaconda3/envs/NLP/lib/python3.7/site-packages (from requests->smart-open>=1.8.1->gensim) (2.8)\n",
      "Requirement already satisfied, skipping upgrade: certifi>=2017.4.17 in /Users/Person/anaconda3/envs/NLP/lib/python3.7/site-packages (from requests->smart-open>=1.8.1->gensim) (2019.9.11)\n",
      "Requirement already satisfied, skipping upgrade: chardet<3.1.0,>=3.0.2 in /Users/Person/anaconda3/envs/NLP/lib/python3.7/site-packages (from requests->smart-open>=1.8.1->gensim) (3.0.4)\n",
      "Requirement already satisfied, skipping upgrade: s3transfer<0.3.0,>=0.2.0 in /Users/Person/anaconda3/envs/NLP/lib/python3.7/site-packages (from boto3->smart-open>=1.8.1->gensim) (0.2.1)\n",
      "Requirement already satisfied, skipping upgrade: jmespath<1.0.0,>=0.7.1 in /Users/Person/anaconda3/envs/NLP/lib/python3.7/site-packages (from boto3->smart-open>=1.8.1->gensim) (0.9.4)\n",
      "Requirement already satisfied, skipping upgrade: botocore<1.14.0,>=1.13.2 in /Users/Person/anaconda3/envs/NLP/lib/python3.7/site-packages (from boto3->smart-open>=1.8.1->gensim) (1.13.2)\n",
      "Requirement already satisfied, skipping upgrade: python-dateutil<3.0.0,>=2.1; python_version >= \"2.7\" in /Users/Person/anaconda3/envs/NLP/lib/python3.7/site-packages (from botocore<1.14.0,>=1.13.2->boto3->smart-open>=1.8.1->gensim) (2.8.0)\n",
      "Requirement already satisfied, skipping upgrade: docutils<0.16,>=0.10 in /Users/Person/anaconda3/envs/NLP/lib/python3.7/site-packages (from botocore<1.14.0,>=1.13.2->boto3->smart-open>=1.8.1->gensim) (0.15.2)\n",
      "Note: you may need to restart the kernel to use updated packages.\n"
     ]
    }
   ],
   "source": [
    "pip install -U gensim"
   ]
  },
  {
   "cell_type": "code",
   "execution_count": 4,
   "metadata": {},
   "outputs": [],
   "source": [
    "import re\n",
    "import numpy as np\n",
    "import pandas as pd\n",
    "from pprint import pprint\n",
    "\n",
    "# Gensim\n",
    "import gensim\n",
    "import gensim.corpora as corpora\n",
    "from gensim.parsing.preprocessing import STOPWORDS\n",
    "from gensim.utils import simple_preprocess\n",
    "from gensim.models import CoherenceModel\n",
    "from gensim.models.ldamulticore import LdaMulticore\n",
    "\n",
    "# spacy for lemmatization\n",
    "import spacy\n",
    "\n",
    "# Plotting tools\n",
    "import pyLDAvis\n",
    "import pyLDAvis.gensim  # don't skip this\n",
    "import matplotlib.pyplot as plt\n",
    "%matplotlib inline"
   ]
  },
  {
   "cell_type": "code",
   "execution_count": 5,
   "metadata": {},
   "outputs": [
    {
     "name": "stderr",
     "output_type": "stream",
     "text": [
      "<>:9: DeprecationWarning: invalid escape sequence \\s\n",
      "<>:9: DeprecationWarning: invalid escape sequence \\s\n",
      "<>:9: DeprecationWarning: invalid escape sequence \\s\n",
      "<ipython-input-5-5975f11db9db>:9: DeprecationWarning: invalid escape sequence \\s\n",
      "  data = [re.sub('\\s+', ' ', sent) for sent in data]\n"
     ]
    },
    {
     "name": "stdout",
     "output_type": "stream",
     "text": [
      "['BEWARE!!! FAKE, FAKE, FAKE....We also own a small business in Los Alamitos, CA and received what looked like a legitimate bill for $70 with an account number and all. I called the phone number listed (866) 273-7934. The wait time on hold said 20 minutes and to leave a message. I could not get a live person on the phone no matter what number I selected. I left a very FIRM message that I would be contacting the BBB and my attorney regarding their company trying to scam businesses. This has to be illegal!!!!!']\n"
     ]
    }
   ],
   "source": [
    "# To remove emails and newline characters: \n",
    "# Convert to list\n",
    "data = df.text.values.tolist()\n",
    "\n",
    "# Remove Emails\n",
    "#data = [re.sub('\\S*@\\S*\\s?', '', sent) for sent in data]\n",
    "\n",
    "# Remove new line characters\n",
    "data = [re.sub('\\s+', ' ', sent) for sent in data]\n",
    "\n",
    "# Remove distracting single quotes\n",
    "data = [re.sub(\"\\'\", \"\", sent) for sent in data]\n",
    "\n",
    "print(data[:1])"
   ]
  },
  {
   "cell_type": "code",
   "execution_count": 6,
   "metadata": {},
   "outputs": [],
   "source": [
    "# Write a function to tokenize the Yelp reviews from the called dataset\n",
    "def tokenize(doc):\n",
    "    for sentence in doc:\n",
    "        yield(gensim.utils.simple_preprocess(str(sentence), deacc=True))  # deacc=True removes punctuations\n",
    "\n",
    "data_words = list(tokenize(data))"
   ]
  },
  {
   "cell_type": "code",
   "execution_count": 7,
   "metadata": {},
   "outputs": [
    {
     "name": "stdout",
     "output_type": "stream",
     "text": [
      "['beware', 'fake', 'fake', 'fake', 'we', 'also', 'own', 'small', 'business', 'in', 'los', 'alamitos', 'ca', 'and', 'received', 'what', 'looked', 'like', 'legitimate', 'bill', 'for', 'with', 'an', 'account', 'number', 'and', 'all', 'called', 'the', 'phone', 'number', 'listed', 'the', 'wait', 'time', 'on', 'hold', 'said', 'minutes', 'and', 'to', 'leave', 'message', 'could', 'not', 'get', 'live', 'person', 'on', 'the', 'phone', 'no', 'matter', 'what', 'number', 'selected', 'left', 'very', 'firm', 'message', 'that', 'would', 'be', 'contacting', 'the', 'bbb', 'and', 'my', 'attorney', 'regarding', 'their', 'company', 'trying', 'to', 'scam', 'businesses', 'this', 'has', 'to', 'be', 'illegal']\n"
     ]
    }
   ],
   "source": [
    "# To create bigram and trigram models:\n",
    "# Build the bigram and trigram models\n",
    "bigram = gensim.models.Phrases(data_words, min_count=5, threshold=100) # higher threshold fewer phrases.\n",
    "trigram = gensim.models.Phrases(bigram[data_words], threshold=100)  \n",
    "\n",
    "# Faster way to get a sentence clubbed as a trigram/bigram\n",
    "bigram_mod = gensim.models.phrases.Phraser(bigram)\n",
    "trigram_mod = gensim.models.phrases.Phraser(trigram)\n",
    "\n",
    "# See trigram example\n",
    "print(trigram_mod[bigram_mod[data_words[0]]])"
   ]
  },
  {
   "cell_type": "code",
   "execution_count": 8,
   "metadata": {},
   "outputs": [],
   "source": [
    "# To remove stopwords, make bigrams and lemmatize:\n",
    "# Define functions for stopwords, bigrams, trigrams and lemmatization\n",
    "def remove_stopwords(texts):\n",
    "    return [[word for word in simple_preprocess(str(doc)) if word not in STOPWORDS] for doc in texts]\n",
    "\n",
    "def make_bigrams(texts):\n",
    "    return [bigram_mod[doc] for doc in texts]\n",
    "\n",
    "def make_trigrams(texts):\n",
    "    return [trigram_mod[bigram_mod[doc]] for doc in texts]\n",
    "\n",
    "# Write a function to lemmatize tokens\n",
    "def lemmatization(texts, allowed_postags=['NOUN', 'ADJ', 'VERB', 'ADV']):\n",
    "    \"\"\"https://spacy.io/api/annotation\"\"\"\n",
    "    texts_out = []\n",
    "    for sent in texts:\n",
    "        doc = nlp(\" \".join(sent)) \n",
    "        texts_out.append([token.lemma_ for token in doc if token.pos_ in allowed_postags])\n",
    "    return texts_out"
   ]
  },
  {
   "cell_type": "code",
   "execution_count": 9,
   "metadata": {},
   "outputs": [],
   "source": [
    "# Remove Stop Words\n",
    "data_words_nostops = remove_stopwords(data_words)\n",
    "\n",
    "# Form Bigrams\n",
    "data_words_bigrams = make_bigrams(data_words_nostops)\n",
    "\n",
    "# Initialize spacy 'en' model, keeping only tagger component (for efficiency)\n",
    "# python3 -m spacy download en\n",
    "nlp = spacy.load('en_core_web_lg', disable=['parser', 'ner'])\n",
    "\n",
    "# Do lemmatization keeping only noun, adj, vb, adv\n",
    "data_lemmatized = lemmatization(data_words_bigrams, allowed_postags=['NOUN', 'ADJ', 'VERB', 'ADV'])"
   ]
  },
  {
   "cell_type": "code",
   "execution_count": 10,
   "metadata": {},
   "outputs": [],
   "source": [
    "#data_words[0]\n",
    "data_lemmatized[1]"
   ]
  },
  {
   "cell_type": "markdown",
   "metadata": {},
   "source": [
    "## Part 2: Vector Representation\n",
    "<a id=\"#p2\"></a>\n",
    "1. Create a vector representation of the reviews\n",
    "2. Write a fake review and query for the 10 most similiar reviews, print the text of the reviews. Do you notice any patterns?\n",
    "    - Given the size of the dataset, it will probably be best to use a `NearestNeighbors` model for this. "
   ]
  },
  {
   "cell_type": "code",
   "execution_count": 11,
   "metadata": {},
   "outputs": [],
   "source": [
    "# Use spacy for stop words\n",
    "nlp = spacy.load(\"en_core_web_lg\")\n",
    "\n",
    "STOP_WORDS = nlp.Defaults.stop_words.union('and','or','of','to','a','for','with','be','in','you','we','on','our',' ','<>')"
   ]
  },
  {
   "cell_type": "code",
   "execution_count": 12,
   "metadata": {},
   "outputs": [
    {
     "name": "stderr",
     "output_type": "stream",
     "text": [
      "/Users/Person/anaconda3/envs/NLP/lib/python3.7/site-packages/sklearn/feature_extraction/text.py:300: UserWarning: Your stop_words may be inconsistent with your preprocessing. Tokenizing the stop words generated tokens ['ll', 've'] not in stop_words.\n",
      "  'stop_words.' % sorted(inconsistent))\n"
     ]
    },
    {
     "data": {
      "text/html": [
       "<div>\n",
       "<style scoped>\n",
       "    .dataframe tbody tr th:only-of-type {\n",
       "        vertical-align: middle;\n",
       "    }\n",
       "\n",
       "    .dataframe tbody tr th {\n",
       "        vertical-align: top;\n",
       "    }\n",
       "\n",
       "    .dataframe thead th {\n",
       "        text-align: right;\n",
       "    }\n",
       "</style>\n",
       "<table border=\"1\" class=\"dataframe\">\n",
       "  <thead>\n",
       "    <tr style=\"text-align: right;\">\n",
       "      <th></th>\n",
       "      <th>00</th>\n",
       "      <th>000</th>\n",
       "      <th>00pm</th>\n",
       "      <th>07</th>\n",
       "      <th>10</th>\n",
       "      <th>100</th>\n",
       "      <th>1000</th>\n",
       "      <th>101</th>\n",
       "      <th>10pm</th>\n",
       "      <th>11</th>\n",
       "      <th>...</th>\n",
       "      <th>yuck</th>\n",
       "      <th>yuk</th>\n",
       "      <th>yum</th>\n",
       "      <th>yummy</th>\n",
       "      <th>yup</th>\n",
       "      <th>zero</th>\n",
       "      <th>zone</th>\n",
       "      <th>zoo</th>\n",
       "      <th>zucchini</th>\n",
       "      <th>était</th>\n",
       "    </tr>\n",
       "  </thead>\n",
       "  <tbody>\n",
       "    <tr>\n",
       "      <th>0</th>\n",
       "      <td>0.0</td>\n",
       "      <td>0.0</td>\n",
       "      <td>0.0</td>\n",
       "      <td>0.0</td>\n",
       "      <td>0.0</td>\n",
       "      <td>0.0</td>\n",
       "      <td>0.0</td>\n",
       "      <td>0.0</td>\n",
       "      <td>0.0</td>\n",
       "      <td>0.0</td>\n",
       "      <td>...</td>\n",
       "      <td>0.0</td>\n",
       "      <td>0.0</td>\n",
       "      <td>0.0</td>\n",
       "      <td>0.0</td>\n",
       "      <td>0.0</td>\n",
       "      <td>0.0</td>\n",
       "      <td>0.0</td>\n",
       "      <td>0.0</td>\n",
       "      <td>0.0</td>\n",
       "      <td>0.0</td>\n",
       "    </tr>\n",
       "    <tr>\n",
       "      <th>1</th>\n",
       "      <td>0.0</td>\n",
       "      <td>0.0</td>\n",
       "      <td>0.0</td>\n",
       "      <td>0.0</td>\n",
       "      <td>0.0</td>\n",
       "      <td>0.0</td>\n",
       "      <td>0.0</td>\n",
       "      <td>0.0</td>\n",
       "      <td>0.0</td>\n",
       "      <td>0.0</td>\n",
       "      <td>...</td>\n",
       "      <td>0.0</td>\n",
       "      <td>0.0</td>\n",
       "      <td>0.0</td>\n",
       "      <td>0.0</td>\n",
       "      <td>0.0</td>\n",
       "      <td>0.0</td>\n",
       "      <td>0.0</td>\n",
       "      <td>0.0</td>\n",
       "      <td>0.0</td>\n",
       "      <td>0.0</td>\n",
       "    </tr>\n",
       "    <tr>\n",
       "      <th>2</th>\n",
       "      <td>0.0</td>\n",
       "      <td>0.0</td>\n",
       "      <td>0.0</td>\n",
       "      <td>0.0</td>\n",
       "      <td>0.0</td>\n",
       "      <td>0.0</td>\n",
       "      <td>0.0</td>\n",
       "      <td>0.0</td>\n",
       "      <td>0.0</td>\n",
       "      <td>0.0</td>\n",
       "      <td>...</td>\n",
       "      <td>0.0</td>\n",
       "      <td>0.0</td>\n",
       "      <td>0.0</td>\n",
       "      <td>0.0</td>\n",
       "      <td>0.0</td>\n",
       "      <td>0.0</td>\n",
       "      <td>0.0</td>\n",
       "      <td>0.0</td>\n",
       "      <td>0.0</td>\n",
       "      <td>0.0</td>\n",
       "    </tr>\n",
       "    <tr>\n",
       "      <th>3</th>\n",
       "      <td>0.0</td>\n",
       "      <td>0.0</td>\n",
       "      <td>0.0</td>\n",
       "      <td>0.0</td>\n",
       "      <td>0.0</td>\n",
       "      <td>0.0</td>\n",
       "      <td>0.0</td>\n",
       "      <td>0.0</td>\n",
       "      <td>0.0</td>\n",
       "      <td>0.0</td>\n",
       "      <td>...</td>\n",
       "      <td>0.0</td>\n",
       "      <td>0.0</td>\n",
       "      <td>0.0</td>\n",
       "      <td>0.0</td>\n",
       "      <td>0.0</td>\n",
       "      <td>0.0</td>\n",
       "      <td>0.0</td>\n",
       "      <td>0.0</td>\n",
       "      <td>0.0</td>\n",
       "      <td>0.0</td>\n",
       "    </tr>\n",
       "    <tr>\n",
       "      <th>4</th>\n",
       "      <td>0.0</td>\n",
       "      <td>0.0</td>\n",
       "      <td>0.0</td>\n",
       "      <td>0.0</td>\n",
       "      <td>0.0</td>\n",
       "      <td>0.0</td>\n",
       "      <td>0.0</td>\n",
       "      <td>0.0</td>\n",
       "      <td>0.0</td>\n",
       "      <td>0.0</td>\n",
       "      <td>...</td>\n",
       "      <td>0.0</td>\n",
       "      <td>0.0</td>\n",
       "      <td>0.0</td>\n",
       "      <td>0.0</td>\n",
       "      <td>0.0</td>\n",
       "      <td>0.0</td>\n",
       "      <td>0.0</td>\n",
       "      <td>0.0</td>\n",
       "      <td>0.0</td>\n",
       "      <td>0.0</td>\n",
       "    </tr>\n",
       "  </tbody>\n",
       "</table>\n",
       "<p>5 rows × 5000 columns</p>\n",
       "</div>"
      ],
      "text/plain": [
       "    00  000  00pm   07   10  100  1000  101  10pm   11  ...  yuck  yuk  yum  \\\n",
       "0  0.0  0.0   0.0  0.0  0.0  0.0   0.0  0.0   0.0  0.0  ...   0.0  0.0  0.0   \n",
       "1  0.0  0.0   0.0  0.0  0.0  0.0   0.0  0.0   0.0  0.0  ...   0.0  0.0  0.0   \n",
       "2  0.0  0.0   0.0  0.0  0.0  0.0   0.0  0.0   0.0  0.0  ...   0.0  0.0  0.0   \n",
       "3  0.0  0.0   0.0  0.0  0.0  0.0   0.0  0.0   0.0  0.0  ...   0.0  0.0  0.0   \n",
       "4  0.0  0.0   0.0  0.0  0.0  0.0   0.0  0.0   0.0  0.0  ...   0.0  0.0  0.0   \n",
       "\n",
       "   yummy  yup  zero  zone  zoo  zucchini  était  \n",
       "0    0.0  0.0   0.0   0.0  0.0       0.0    0.0  \n",
       "1    0.0  0.0   0.0   0.0  0.0       0.0    0.0  \n",
       "2    0.0  0.0   0.0   0.0  0.0       0.0    0.0  \n",
       "3    0.0  0.0   0.0   0.0  0.0       0.0    0.0  \n",
       "4    0.0  0.0   0.0   0.0  0.0       0.0    0.0  \n",
       "\n",
       "[5 rows x 5000 columns]"
      ]
     },
     "execution_count": 12,
     "metadata": {},
     "output_type": "execute_result"
    }
   ],
   "source": [
    "from sklearn.feature_extraction.text import TfidfVectorizer\n",
    "\n",
    "# Instantiate vectorizer object\n",
    "tfidf = TfidfVectorizer(stop_words=STOP_WORDS, max_features=5000)\n",
    "\n",
    "# Create a vocabulary and get word counts per document\n",
    "dtm = tfidf.fit_transform(df['text'])\n",
    "\n",
    "# View Feature Matrix as DataFrame\n",
    "docs = pd.DataFrame(dtm.todense(), columns = tfidf.get_feature_names())\n",
    "docs.head()"
   ]
  },
  {
   "cell_type": "code",
   "execution_count": 13,
   "metadata": {},
   "outputs": [
    {
     "data": {
      "text/plain": [
       "NearestNeighbors(algorithm='ball_tree', leaf_size=30, metric='minkowski',\n",
       "         metric_params=None, n_jobs=None, n_neighbors=10, p=2, radius=1.0)"
      ]
     },
     "execution_count": 13,
     "metadata": {},
     "output_type": "execute_result"
    }
   ],
   "source": [
    "# Instantiate\n",
    "from sklearn.neighbors import NearestNeighbors\n",
    "\n",
    "nn = NearestNeighbors(n_neighbors=10, algorithm='ball_tree')\n",
    "\n",
    "# Fit on TF-IDF Vectors\n",
    "nn.fit(dtm.todense())"
   ]
  },
  {
   "cell_type": "code",
   "execution_count": 14,
   "metadata": {},
   "outputs": [
    {
     "data": {
      "text/plain": [
       "'Loved it. As close as you will get to an east coast seafood boil. Just missing the beach.\\n\\nThe food was outstanding.  The service was even better. \\nOur table was not on a budget so we pretty much ordered the seafood menu for the bag boil.\\nAll the seafood was fresh, cooked, and seasoned perfectly. We'"
      ]
     },
     "execution_count": 14,
     "metadata": {},
     "output_type": "execute_result"
    }
   ],
   "source": [
    "df['text'].iloc[276][:300]"
   ]
  },
  {
   "cell_type": "code",
   "execution_count": 15,
   "metadata": {},
   "outputs": [],
   "source": [
    "# Instantiate a fake review\n",
    "fake_review = [\"\"\"The food was bizare, truly out of this world. The colors were just so.. engorging. \n",
    "I was stuck in a trance by the smell of the joint. But the fries! Oooooo, the fries. What I could say \n",
    "and keep saying and keep saying about that curry too. Garnish your life with a trip to this place. \n",
    "\"\"\"]"
   ]
  },
  {
   "cell_type": "code",
   "execution_count": 16,
   "metadata": {},
   "outputs": [
    {
     "data": {
      "text/plain": [
       "(array([[1.        , 1.        , 1.2329492 , 1.25762965, 1.26524762,\n",
       "         1.27767143, 1.28027841, 1.28690364, 1.28831161, 1.28874536]]),\n",
       " array([[6204, 6311, 9033, 7704, 4735, 8353,  114, 8913, 2336, 5811]]))"
      ]
     },
     "execution_count": 16,
     "metadata": {},
     "output_type": "execute_result"
    }
   ],
   "source": [
    "new = tfidf.transform(fake_review)\n",
    "nn.kneighbors(new.todense())"
   ]
  },
  {
   "cell_type": "code",
   "execution_count": 17,
   "metadata": {},
   "outputs": [
    {
     "name": "stdout",
     "output_type": "stream",
     "text": [
      "旅行でラスベガスに来ましたがネイルがはげてるのが気になり、探したお店でした。\n",
      "質問にも丁寧に答えてくれましたし、日本人の方も日本語が話せる方も居て、とても綺麗で居心地のいいお店でした。 \n",
      "ネイルはちはるさんと言う綺麗な方が丁寧にしてくれとても気に入りました。\n",
      "予定になかったまつ毛エクステもお願いし、日本ではまだあまりないブラウンカラーのエクステをしてもらい、とても気に入りました。\n",
      "また是非マッサージなどで伺いたいと思います。\n",
      "天氣很熱吃不下東西，今天我點了一個韓國冷面湯、餐後點了甜點，冰沙系列不會太甜膩，覺得店家很用心製作，包含擺盤精緻、佐料衛生，夏日想開胃，這是一個不錯的選擇，服務人員也很敬業，以後會常常來\n",
      "If I lived closer, this would be a place that I'd like to visit more often to try everything. \n",
      "\n",
      "The Fez Burger was really good, but I felt it to be a tad too sweet. \n",
      "\n",
      "I didn't like how they substituted the salad for fries and charged me the full price for a side of fries anyways. Otherwise this would be 4 stars. \n",
      "\n",
      "The way the menu looked it was if you could substitute for fries or for an extra fee add fries not both for the same price. On the upside, the fries were pretty good. I tried my friend's salad and it was really good too.\n",
      "Tasty burgers, shake and fries. Fries weren't hot, just warm.\n",
      "I'll start off by letting you this is not a fast food joint.  You can get your burger and fries to go, but you'll enjoy it much more if you eat in the restaurant.  This is head and shoulders above In and Out and Five Guys.\n",
      "\n",
      "The menu has something for just about everyone, but it not too big.  I enjoy the Smash Burger most: Burger with lettuce, tomato, cheese, bacon, and a fried egg.  I guess it's probably a little overboard, but it's a great burger to have every now and then.  The fries are good, but I recommend the sweet potato fries and the smash fries (regular fries with evoo and rosemary).\n",
      "\n",
      "If you're near this location or one of the other Smash Burgers, stop by.  You'll be happy you did.\n",
      "Vinyl is ALL OVER PRICED...then I figured it out..dude sells memberships and with that you get 50% off but even after that it's still over priced. I'm not saying that they don't have any good vinyl. I'm just saying that you will get 10$ worth of wax for 30$ and you better know your records or it's gonna be a waste of a trip to this place.\n",
      "The curry was so good I got the vegetables curry. Yummy. Satified my craving and made me full too. The server was nice as well. I would so recommend this place.\n",
      "Absolutely great burgers. Onion rings were good.  Fries were not great, not sure how you can not make great fries. Love the condiment bar.\n",
      "We tried this place for the first time tonight and it was one of the best decisions ever!! Everything we had was superb. I had the beef massaman curry, my husband had the pad Thai, and our friends got the red curry with chicken. Each dish was better than the last, although my favorite was the massaman curry. It was creamy and spicy and filling. I couldn't even eat half of it! So much yummy food. \n",
      "\n",
      "In addition, the service was incredible and the decor was really fun and upbeat. We were certainly not the only people that have heard how good this place is, because every table was full, even on a Monday night! \n",
      "\n",
      "Can't recommend this place enough. It is truly delicious, and some of the best Thai food I have had outside of Thailand.\n",
      "Being that I work in the area, I had to try Steakenburger after reading good reviews on here.  My first visit last month was awesome.  I ordered a steaken (philly cheesesteak) sandwich with cheese whiz which was mighty tasty and very generous with the meat.  The fries were wonderful large cut steak fries and extremely fresh.\n",
      "\n",
      "Because of this marvelous experience, I decided to go there again last week.  This time I tried the 2x2 which is a double cheese burger.  The burger was wonderful - perfectly cooked, fresh lettuce, tomato and red onion and very fresh bun, although I wish it would have been better toasted.  The fries this time...a disaster.  It was obvious that whoever the fry cook was, put old fries back into the fryer to warm them up.  They were disgusting.  I brought them back through the drive thru and the woman cut me off as I was explaining to her that you should never re-heat old fries back in the oil.  She just said pull ahead and she would give me new fries.  So I did.  And I waited at the window for over 5 minutes thinking oh good, I'm going to get new fresh fries.  I got another basket of old, hard rocks.\n",
      "\n",
      "The gentleman who wrote the review and had feedback from the owner has it spot on.  The owner needs to take account of his employees.  This concept is such a good one and could thrive in this town, just so long as the employees give a fraction of a sh*t.\n",
      "\n",
      "Dear Mr. Owner, re-train your fry cook or fire him!\n"
     ]
    }
   ],
   "source": [
    "# Print the 10 most-like reviews\n",
    "similar_reviews = 6204, 6311, 9033, 7704, 4735, 8353,  114, 8913, 2336, 5811\n",
    "for review in similar_reviews:\n",
    "    print(df['text'].iloc[review][:2000])"
   ]
  },
  {
   "cell_type": "markdown",
   "metadata": {},
   "source": [
    "### Patterns from above? Two words: 'curry' and 'fries' \n",
    "Many of the subjects of the reviews are American-fare type restaurants, presumably featuring menus with a heavy bias towards burgers and sides. At least two of the 10 reviews from above mentioned curry. "
   ]
  },
  {
   "cell_type": "markdown",
   "metadata": {},
   "source": [
    "## Part 3: Classification\n",
    "<a id=\"#p3\"></a>\n",
    "Your goal in this section will be to predict `stars` from the review dataset. \n",
    "\n",
    "1. Create a piepline object with a sklearn `CountVectorizer` or `TfidfVector` and any sklearn classifier. Use that pipeline to estimate a model to predict `stars`. Use the Pipeline to predict a star rating for your fake review from Part 2. \n",
    "2. Tune the entire pipeline with a GridSearch"
   ]
  },
  {
   "cell_type": "code",
   "execution_count": 40,
   "metadata": {},
   "outputs": [],
   "source": [
    "# Import Statements\n",
    "from sklearn.pipeline import Pipeline\n",
    "from sklearn.datasets import fetch_20newsgroups\n",
    "from sklearn.ensemble import RandomForestClassifier\n",
    "from sklearn.model_selection import GridSearchCV, train_test_split\n",
    "from sklearn.feature_extraction.text import TfidfVectorizer"
   ]
  },
  {
   "cell_type": "code",
   "execution_count": 41,
   "metadata": {},
   "outputs": [],
   "source": [
    "# Create Pipeline Components\n",
    "vect = TfidfVectorizer(stop_words='english')\n",
    "rfc = RandomForestClassifier()"
   ]
  },
  {
   "cell_type": "code",
   "execution_count": 42,
   "metadata": {},
   "outputs": [],
   "source": [
    "# Define the Pipeline\n",
    "pipe = Pipeline([\n",
    "                 #Vectorizer\n",
    "                 ('vect', vect), \n",
    "                 # Classifier\n",
    "                 ('clf', rfc)\n",
    "                ])"
   ]
  },
  {
   "cell_type": "code",
   "execution_count": 43,
   "metadata": {},
   "outputs": [
    {
     "name": "stdout",
     "output_type": "stream",
     "text": [
      "Fitting 5 folds for each of 32 candidates, totalling 160 fits\n"
     ]
    },
    {
     "name": "stderr",
     "output_type": "stream",
     "text": [
      "[Parallel(n_jobs=-1)]: Using backend LokyBackend with 4 concurrent workers.\n",
      "[Parallel(n_jobs=-1)]: Done  42 tasks      | elapsed:   44.3s\n",
      "[Parallel(n_jobs=-1)]: Done 160 out of 160 | elapsed:  2.8min finished\n"
     ]
    },
    {
     "data": {
      "text/plain": [
       "GridSearchCV(cv=5, error_score='raise-deprecating',\n",
       "       estimator=Pipeline(memory=None,\n",
       "     steps=[('vect', TfidfVectorizer(analyzer='word', binary=False, decode_error='strict',\n",
       "        dtype=<class 'numpy.float64'>, encoding='utf-8', input='content',\n",
       "        lowercase=True, max_df=1.0, max_features=None, min_df=1,\n",
       "        ngram_range=(1, 1), norm='l2', preprocessor=None, smooth_idf=True,\n",
       "...obs=None,\n",
       "            oob_score=False, random_state=None, verbose=0,\n",
       "            warm_start=False))]),\n",
       "       fit_params=None, iid='warn', n_jobs=-1,\n",
       "       param_grid={'vect__max_df': (0.75, 1.0), 'vect__min_df': (0.02, 0.05), 'vect__max_features': (500, 1000), 'clf__n_estimators': (5, 10), 'clf__max_depth': (15, 20)},\n",
       "       pre_dispatch='2*n_jobs', refit=True, return_train_score='warn',\n",
       "       scoring=None, verbose=1)"
      ]
     },
     "execution_count": 43,
     "metadata": {},
     "output_type": "execute_result"
    }
   ],
   "source": [
    "parameters = {\n",
    "    'vect__max_df': ( 0.75, 1.0),\n",
    "    'vect__min_df': (.02, .05),\n",
    "    'vect__max_features': (500,1000),\n",
    "    'clf__n_estimators':(5, 10,),\n",
    "    'clf__max_depth':(15,20)\n",
    "}\n",
    "\n",
    "grid_search = GridSearchCV(pipe,parameters, cv=5, n_jobs=-1, verbose=1)\n",
    "grid_search.fit(df.text, df.stars)"
   ]
  },
  {
   "cell_type": "code",
   "execution_count": 44,
   "metadata": {},
   "outputs": [
    {
     "data": {
      "text/plain": [
       "0.5376"
      ]
     },
     "execution_count": 44,
     "metadata": {},
     "output_type": "execute_result"
    }
   ],
   "source": [
    "grid_search.best_score_"
   ]
  },
  {
   "cell_type": "code",
   "execution_count": 45,
   "metadata": {},
   "outputs": [],
   "source": [
    "pred = grid_search.predict(df.text)\n",
    "submission = pd.DataFrame({'id': df.stars, 'category':pred})\n",
    "submission['category'] = submission['category'].astype('int64')"
   ]
  },
  {
   "cell_type": "code",
   "execution_count": 46,
   "metadata": {},
   "outputs": [
    {
     "name": "stdout",
     "output_type": "stream",
     "text": [
      "[5]\n"
     ]
    }
   ],
   "source": [
    "# Get a star-rating prediction for your fake review\n",
    "pred_fake = grid_search.predict(fake_review)\n",
    "print(pred_fake)  # output > 5 star"
   ]
  },
  {
   "cell_type": "code",
   "execution_count": null,
   "metadata": {},
   "outputs": [],
   "source": [
    "# Try improving with latent semantic indexing (LSI) -> spoiler: doesn't offer improvement\n",
    "from sklearn.decomposition import TruncatedSVD\n",
    "\n",
    "#singular value decomposition component\n",
    "svd = TruncatedSVD(n_components=100, \n",
    "                   algorithm='randomized',\n",
    "                   n_iter=10)"
   ]
  },
  {
   "cell_type": "code",
   "execution_count": null,
   "metadata": {},
   "outputs": [],
   "source": [
    "params = { \n",
    "    'lsi__svd__n_components': [10,100,250],\n",
    "    'lsi__vect__max_df':[.9, .95, 1.0]\n",
    "}"
   ]
  },
  {
   "cell_type": "code",
   "execution_count": null,
   "metadata": {},
   "outputs": [],
   "source": [
    "# LSI\n",
    "lsi = Pipeline([('vect', vect), ('svd', svd)])\n",
    "\n",
    "\n",
    "# Pipe\n",
    "pipe = Pipeline([('lsi', lsi), ('clf', rfc)])"
   ]
  },
  {
   "cell_type": "code",
   "execution_count": null,
   "metadata": {},
   "outputs": [],
   "source": [
    "# Fit\n",
    "grid_search = GridSearchCV(pipe,params, cv=5, n_jobs=4, verbose=1)\n",
    "grid_search.fit(df.text, df.stars)"
   ]
  },
  {
   "cell_type": "code",
   "execution_count": null,
   "metadata": {},
   "outputs": [],
   "source": [
    "grid_search.best_score_"
   ]
  },
  {
   "cell_type": "code",
   "execution_count": null,
   "metadata": {},
   "outputs": [],
   "source": [
    "# Get prediction for fake_review\n",
    "fake_pred = grid_search.predict(fake_review)\n",
    "print(fake_pred) # output > 5 star again"
   ]
  },
  {
   "cell_type": "markdown",
   "metadata": {},
   "source": [
    "## Part 4: Topic Modeling\n",
    "\n",
    "Let's find out what those yelp reviews are saying! :D\n",
    "\n",
    "1. Estimate a LDA topic model of the review text\n",
    "    - Keep the `iterations` parameter at or below 5 to reduce run time\n",
    "    - The `workers` parameter should match the number of physical cores on your machine.\n",
    "2. Create 1-2 visualizations of the results\n",
    "    - You can use the most important 3 words of a topic in relevant visualizations. Refer to yesterday's notebook to extract. \n",
    "3. In markdown, write 1-2 paragraphs of analysis on the results of your topic model\n",
    "\n",
    "__*Note*__: You can pass the DataFrame column of text reviews to gensim. You do not have to use a generator."
   ]
  },
  {
   "cell_type": "code",
   "execution_count": 31,
   "metadata": {
    "collapsed": false,
    "inputHidden": false,
    "jupyter": {
     "outputs_hidden": false
    },
    "outputHidden": false
   },
   "outputs": [],
   "source": [
    "from gensim.models import LdaMulticore\n",
    "from gensim.corpora import Dictionary"
   ]
  },
  {
   "cell_type": "markdown",
   "metadata": {},
   "source": [
    "Learn the vocubalary of the yelp data:"
   ]
  },
  {
   "cell_type": "code",
   "execution_count": 76,
   "metadata": {},
   "outputs": [
    {
     "name": "stdout",
     "output_type": "stream",
     "text": [
      "[[(0, 1), (1, 1), (2, 1), (3, 1), (4, 1), (5, 2), (6, 1), (7, 1), (8, 1), (9, 1), (10, 3), (11, 1), (12, 1), (13, 1), (14, 2), (15, 1), (16, 1), (17, 1), (18, 1), (19, 1), (20, 1), (21, 2), (22, 1), (23, 3), (24, 1), (25, 2), (26, 1), (27, 1), (28, 1), (29, 1), (30, 1), (31, 1), (32, 1), (33, 1)]]\n"
     ]
    }
   ],
   "source": [
    "# To create the dictionary and corpus needed for topic modeling\n",
    "# Create Dictionary\n",
    "id2word = corpora.Dictionary(data_lemmatized)\n",
    "\n",
    "# Create Corpus\n",
    "texts = data_lemmatized\n",
    "\n",
    "# Term Document Frequency\n",
    "corpus = [id2word.doc2bow(text) for text in texts]\n",
    "\n",
    "# View\n",
    "print(corpus[:1])"
   ]
  },
  {
   "cell_type": "code",
   "execution_count": 33,
   "metadata": {},
   "outputs": [
    {
     "data": {
      "text/plain": [
       "[[('account', 1),\n",
       "  ('alamitos', 1),\n",
       "  ('attorney', 1),\n",
       "  ('bbb', 1),\n",
       "  ('beware', 1),\n",
       "  ('business', 2),\n",
       "  ('ca', 1),\n",
       "  ('call', 1),\n",
       "  ('company', 1),\n",
       "  ('contact', 1),\n",
       "  ('fake', 3),\n",
       "  ('firm', 1),\n",
       "  ('hold', 1),\n",
       "  ('illegal', 1),\n",
       "  ('leave', 2),\n",
       "  ('legitimate', 1),\n",
       "  ('list', 1),\n",
       "  ('live', 1),\n",
       "  ('lo', 1),\n",
       "  ('look', 1),\n",
       "  ('matter', 1),\n",
       "  ('message', 2),\n",
       "  ('minute', 1),\n",
       "  ('number', 3),\n",
       "  ('person', 1),\n",
       "  ('phone', 2),\n",
       "  ('receive', 1),\n",
       "  ('say', 1),\n",
       "  ('scam', 1),\n",
       "  ('select', 1),\n",
       "  ('small', 1),\n",
       "  ('time', 1),\n",
       "  ('try', 1),\n",
       "  ('wait', 1)]]"
      ]
     },
     "execution_count": 33,
     "metadata": {},
     "output_type": "execute_result"
    }
   ],
   "source": [
    "# Human readable format of corpus (term-frequency)\n",
    "[[(id2word[id], freq) for id, freq in cp] for cp in corpus[:1]]"
   ]
  },
  {
   "cell_type": "markdown",
   "metadata": {},
   "source": [
    "Your LDA model should be ready for estimation: "
   ]
  },
  {
   "cell_type": "code",
   "execution_count": 34,
   "metadata": {
    "collapsed": false,
    "inputHidden": false,
    "jupyter": {
     "outputs_hidden": false
    },
    "outputHidden": false
   },
   "outputs": [],
   "source": [
    "lda_model = LdaMulticore(corpus=corpus,\n",
    "                   id2word=id2word,\n",
    "                   iterations=5,\n",
    "                   workers=4,\n",
    "                   num_topics = 10 # You can change this parameter\n",
    "                  )"
   ]
  },
  {
   "cell_type": "code",
   "execution_count": 35,
   "metadata": {},
   "outputs": [
    {
     "name": "stdout",
     "output_type": "stream",
     "text": [
      "[(0, '0.014*\"good\" + 0.014*\"food\" + 0.014*\"not\" + 0.011*\"time\" + 0.009*\"place\" + 0.008*\"get\" + 0.008*\"do\" + 0.007*\"order\" + 0.007*\"service\" + 0.007*\"great\"'), (1, '0.020*\"not\" + 0.011*\"good\" + 0.011*\"time\" + 0.010*\"do\" + 0.009*\"food\" + 0.009*\"come\" + 0.009*\"place\" + 0.008*\"go\" + 0.008*\"be\" + 0.008*\"great\"'), (2, '0.013*\"good\" + 0.012*\"not\" + 0.010*\"do\" + 0.009*\"place\" + 0.009*\"be\" + 0.009*\"food\" + 0.008*\"time\" + 0.008*\"order\" + 0.008*\"get\" + 0.008*\"come\"'), (3, '0.013*\"food\" + 0.013*\"good\" + 0.011*\"place\" + 0.010*\"time\" + 0.009*\"not\" + 0.009*\"be\" + 0.009*\"great\" + 0.008*\"service\" + 0.008*\"come\" + 0.007*\"try\"'), (4, '0.014*\"place\" + 0.013*\"good\" + 0.013*\"not\" + 0.011*\"food\" + 0.010*\"great\" + 0.008*\"go\" + 0.008*\"be\" + 0.008*\"come\" + 0.008*\"get\" + 0.007*\"service\"'), (5, '0.014*\"not\" + 0.011*\"good\" + 0.010*\"be\" + 0.009*\"food\" + 0.008*\"place\" + 0.008*\"great\" + 0.008*\"time\" + 0.008*\"service\" + 0.007*\"come\" + 0.007*\"order\"'), (6, '0.014*\"not\" + 0.014*\"good\" + 0.013*\"place\" + 0.011*\"great\" + 0.010*\"come\" + 0.009*\"do\" + 0.008*\"service\" + 0.008*\"time\" + 0.007*\"be\" + 0.007*\"order\"'), (7, '0.018*\"good\" + 0.013*\"great\" + 0.012*\"place\" + 0.011*\"food\" + 0.009*\"service\" + 0.008*\"order\" + 0.008*\"get\" + 0.008*\"come\" + 0.008*\"be\" + 0.008*\"time\"'), (8, '0.016*\"not\" + 0.013*\"do\" + 0.012*\"place\" + 0.012*\"good\" + 0.011*\"great\" + 0.011*\"food\" + 0.010*\"service\" + 0.009*\"come\" + 0.009*\"be\" + 0.008*\"time\"'), (9, '0.014*\"place\" + 0.013*\"not\" + 0.012*\"good\" + 0.011*\"food\" + 0.010*\"time\" + 0.009*\"go\" + 0.009*\"service\" + 0.008*\"come\" + 0.008*\"be\" + 0.007*\"do\"')]\n"
     ]
    }
   ],
   "source": [
    "# To view the topics in the LDA model:\n",
    "# Print the top 10 keywords in the topics\n",
    "print(lda_model.print_topics())\n",
    "doc_lda = lda_model[corpus]\n",
    "\n",
    "# output includes weights of each [key]word, \n",
    "#  reflecting their relative importance for each listed topic"
   ]
  },
  {
   "cell_type": "code",
   "execution_count": 47,
   "metadata": {},
   "outputs": [
    {
     "name": "stdout",
     "output_type": "stream",
     "text": [
      "\n",
      "Perplexity:  -8.469710725517169\n",
      "\n",
      "Coherence Score:  0.363135051741551\n"
     ]
    }
   ],
   "source": [
    "# To compute model perplexity and coherence scores:\n",
    "# Compute Perplexity\n",
    "print('\\nPerplexity: ', lda_model.log_perplexity(corpus))  # a measure of how good the model is. lower the better.\n",
    "\n",
    "# Compute Coherence-Score\n",
    "coherence_model_lda = CoherenceModel(model=lda_model,\n",
    "                                     texts=data_lemmatized,\n",
    "                                     dictionary=id2word, \n",
    "                                     coherence='c_v')\n",
    "coherence_lda = coherence_model_lda.get_coherence()\n",
    "print('\\nCoherence Score: ', coherence_lda)\n",
    "\n",
    "# they are measures of how good a topic model is; focus on coherence - \n",
    "#  coherence = .355, not great"
   ]
  },
  {
   "cell_type": "markdown",
   "metadata": {},
   "source": [
    "Create 1-2 visualizations of the results"
   ]
  },
  {
   "cell_type": "code",
   "execution_count": null,
   "metadata": {
    "inputHidden": false,
    "outputHidden": false
   },
   "outputs": [],
   "source": [
    "# To visualize the keywords of topics: (super taxing on my computer)\n",
    "pyLDAvis.enable_notebook()\n",
    "pyLDAvis.gensim.prepare(lda_model, corpus, id2word)\n",
    "\n",
    "# Each bubble represents a topic, with its size related to \n",
    "#  the topic's prevalence. Good topic models should have distinct, \n",
    "#  large, unclustered  bubbles"
   ]
  },
  {
   "cell_type": "code",
   "execution_count": null,
   "metadata": {},
   "outputs": [],
   "source": [
    "# To find optimal number of topics (for LDA):\n",
    "def compute_coherence_values(dictionary, corpus, texts, limit, start=2, step=3):\n",
    "    \"\"\"\n",
    "    Compute c_v coherence for various number of topics\n",
    "\n",
    "    Parameters:\n",
    "    ----------\n",
    "    dictionary : Gensim dictionary\n",
    "    corpus : Gensim corpus\n",
    "    texts : List of input texts\n",
    "    limit : Max num of topics\n",
    "\n",
    "    Returns:\n",
    "    -------\n",
    "    model_list : List of LDA topic models\n",
    "    coherence_values : Coherence values corresponding to the LDA model with respective number of topics\n",
    "    \"\"\"\n",
    "    coherence_values = []\n",
    "    model_list = []\n",
    "    \n",
    "    for num_topics in range(start, limit, step):\n",
    "        model = LdaMulticore(corpus=corpus, num_topics=num_topics, id2word=dictionary, workers=4)\n",
    "        model_list.append(model)\n",
    "        coherencemodel = CoherenceModel(model=model,\n",
    "                                        texts=texts,\n",
    "                                        dictionary=dictionary,\n",
    "                                        coherence='c_v')\n",
    "        coherence_values.append(coherencemodel.get_coherence())\n",
    "\n",
    "    return model_list, coherence_values"
   ]
  },
  {
   "cell_type": "code",
   "execution_count": null,
   "metadata": {},
   "outputs": [],
   "source": [
    "model_list, coherence_values = compute_coherence_values(dictionary=id2word,\n",
    "                                            corpus=corpus, \n",
    "                                            texts=data_lemmatized, \n",
    "                                            start=2, limit=40, step=6)"
   ]
  },
  {
   "cell_type": "code",
   "execution_count": 52,
   "metadata": {},
   "outputs": [
    {
     "data": {
      "image/png": "[encoded data removed]",
      "text/plain": [
       "<Figure size 432x288 with 1 Axes>"
      ]
     },
     "metadata": {
      "needs_background": "light"
     },
     "output_type": "display_data"
    }
   ],
   "source": [
    "# Graph number of topics against coherence score\n",
    "limit=40; start=2; step=6;\n",
    "x = range(start, limit, step)\n",
    "plt.plot(x, coherence_values)\n",
    "plt.xlabel(\"Num Topics\")\n",
    "plt.ylabel(\"Coherence score\")\n",
    "plt.legend((\"coherence_values\"), loc='best')\n",
    "plt.show();"
   ]
  },
  {
   "cell_type": "code",
   "execution_count": 53,
   "metadata": {},
   "outputs": [
    {
     "name": "stdout",
     "output_type": "stream",
     "text": [
      "Num Topics = 2  has Coherence Value of 0.3574\n",
      "Num Topics = 8  has Coherence Value of 0.3619\n",
      "Num Topics = 14  has Coherence Value of 0.3606\n",
      "Num Topics = 20  has Coherence Value of 0.3531\n",
      "Num Topics = 26  has Coherence Value of 0.3558\n",
      "Num Topics = 32  has Coherence Value of 0.3516\n",
      "Num Topics = 38  has Coherence Value of 0.3551\n"
     ]
    }
   ],
   "source": [
    "# Print coherence scores \n",
    "for m, cv in zip(x, coherence_values):\n",
    "    print(\"Num Topics =\", m, \" has Coherence Value of\", round(cv, 4))\n",
    "    \n",
    "# optimum model is that with 8 topics total"
   ]
  },
  {
   "cell_type": "code",
   "execution_count": 59,
   "metadata": {},
   "outputs": [
    {
     "name": "stdout",
     "output_type": "stream",
     "text": [
      "[(0,\n",
      "  '0.017*\"good\" + 0.015*\"service\" + 0.012*\"time\" + 0.011*\"love\" + '\n",
      "  '0.010*\"order\" + 0.009*\"not\" + 0.009*\"be\" + 0.008*\"great\" + 0.008*\"food\" + '\n",
      "  '0.007*\"place\"'),\n",
      " (1,\n",
      "  '0.021*\"not\" + 0.012*\"do\" + 0.011*\"good\" + 0.010*\"time\" + 0.009*\"place\" + '\n",
      "  '0.008*\"be\" + 0.008*\"food\" + 0.007*\"come\" + 0.007*\"great\" + 0.006*\"get\"'),\n",
      " (2,\n",
      "  '0.023*\"good\" + 0.018*\"place\" + 0.015*\"food\" + 0.015*\"great\" + 0.011*\"be\" + '\n",
      "  '0.010*\"not\" + 0.008*\"get\" + 0.008*\"go\" + 0.007*\"order\" + 0.007*\"time\"'),\n",
      " (3,\n",
      "  '0.016*\"not\" + 0.013*\"place\" + 0.012*\"great\" + 0.011*\"do\" + 0.009*\"be\" + '\n",
      "  '0.009*\"good\" + 0.009*\"come\" + 0.008*\"order\" + 0.008*\"time\" + 0.008*\"food\"'),\n",
      " (4,\n",
      "  '0.013*\"place\" + 0.013*\"good\" + 0.011*\"food\" + 0.010*\"time\" + 0.010*\"not\" + '\n",
      "  '0.010*\"come\" + 0.009*\"service\" + 0.008*\"have\" + 0.008*\"be\" + 0.007*\"great\"'),\n",
      " (5,\n",
      "  '0.011*\"place\" + 0.010*\"not\" + 0.008*\"food\" + 0.007*\"be\" + 0.007*\"good\" + '\n",
      "  '0.007*\"do\" + 0.007*\"time\" + 0.007*\"get\" + 0.006*\"come\" + 0.005*\"go\"'),\n",
      " (6,\n",
      "  '0.016*\"good\" + 0.012*\"place\" + 0.010*\"time\" + 0.010*\"not\" + 0.009*\"great\" + '\n",
      "  '0.008*\"get\" + 0.007*\"service\" + 0.007*\"food\" + 0.006*\"go\" + 0.006*\"have\"'),\n",
      " (7,\n",
      "  '0.015*\"not\" + 0.015*\"food\" + 0.011*\"good\" + 0.011*\"come\" + 0.011*\"service\" '\n",
      "  '+ 0.010*\"do\" + 0.010*\"order\" + 0.008*\"go\" + 0.008*\"be\" + 0.008*\"time\"')]\n"
     ]
    }
   ],
   "source": [
    "# Select best model from listing (here, it's the second model, with 8 topics)\n",
    "optimal_model = model_list[1]\n",
    "model_topics = optimal_model.show_topics(formatted=False)\n",
    "\n",
    "# output the topics of the selected LDA model\n",
    "pprint(optimal_model.print_topics(num_words=10))"
   ]
  },
  {
   "cell_type": "code",
   "execution_count": 78,
   "metadata": {},
   "outputs": [
    {
     "data": {
      "text/html": [
       "<div>\n",
       "<style scoped>\n",
       "    .dataframe tbody tr th:only-of-type {\n",
       "        vertical-align: middle;\n",
       "    }\n",
       "\n",
       "    .dataframe tbody tr th {\n",
       "        vertical-align: top;\n",
       "    }\n",
       "\n",
       "    .dataframe thead th {\n",
       "        text-align: right;\n",
       "    }\n",
       "</style>\n",
       "<table border=\"1\" class=\"dataframe\">\n",
       "  <thead>\n",
       "    <tr style=\"text-align: right;\">\n",
       "      <th></th>\n",
       "      <th>Document_No</th>\n",
       "      <th>Dominant_Topic</th>\n",
       "      <th>Topic_Perc_Contrib</th>\n",
       "      <th>Keywords</th>\n",
       "      <th>Text</th>\n",
       "    </tr>\n",
       "  </thead>\n",
       "  <tbody>\n",
       "    <tr>\n",
       "      <th>0</th>\n",
       "      <td>0</td>\n",
       "      <td>2.0</td>\n",
       "      <td>0.9796</td>\n",
       "      <td>good, place, food, great, be, not, get, go, or...</td>\n",
       "      <td>BEWARE!!! FAKE, FAKE, FAKE....We also own a sm...</td>\n",
       "    </tr>\n",
       "    <tr>\n",
       "      <th>1</th>\n",
       "      <td>1</td>\n",
       "      <td>0.0</td>\n",
       "      <td>0.9373</td>\n",
       "      <td>good, service, time, love, order, not, be, gre...</td>\n",
       "      <td>Came here for lunch Togo. Service was quick. S...</td>\n",
       "    </tr>\n",
       "    <tr>\n",
       "      <th>2</th>\n",
       "      <td>2</td>\n",
       "      <td>3.0</td>\n",
       "      <td>0.6678</td>\n",
       "      <td>not, place, great, do, be, good, come, order, ...</td>\n",
       "      <td>Ive been to Vegas dozens of times and had neve...</td>\n",
       "    </tr>\n",
       "    <tr>\n",
       "      <th>3</th>\n",
       "      <td>3</td>\n",
       "      <td>5.0</td>\n",
       "      <td>0.9538</td>\n",
       "      <td>place, not, food, be, good, do, time, get, com...</td>\n",
       "      <td>We went here on a night where they closed off ...</td>\n",
       "    </tr>\n",
       "    <tr>\n",
       "      <th>4</th>\n",
       "      <td>4</td>\n",
       "      <td>6.0</td>\n",
       "      <td>0.7537</td>\n",
       "      <td>good, place, time, not, great, get, service, f...</td>\n",
       "      <td>3.5 to 4 stars Not bad for the price, $12.99 f...</td>\n",
       "    </tr>\n",
       "    <tr>\n",
       "      <th>5</th>\n",
       "      <td>5</td>\n",
       "      <td>3.0</td>\n",
       "      <td>0.7903</td>\n",
       "      <td>not, place, great, do, be, good, come, order, ...</td>\n",
       "      <td>Tasty, fast casual Latin street food. The menu...</td>\n",
       "    </tr>\n",
       "    <tr>\n",
       "      <th>6</th>\n",
       "      <td>6</td>\n",
       "      <td>1.0</td>\n",
       "      <td>0.9848</td>\n",
       "      <td>not, do, good, time, place, be, food, come, gr...</td>\n",
       "      <td>This show is absolutely amazing!! What an incr...</td>\n",
       "    </tr>\n",
       "    <tr>\n",
       "      <th>7</th>\n",
       "      <td>7</td>\n",
       "      <td>2.0</td>\n",
       "      <td>0.9346</td>\n",
       "      <td>good, place, food, great, be, not, get, go, or...</td>\n",
       "      <td>Came for the Pho and really enjoyed it! We got...</td>\n",
       "    </tr>\n",
       "  </tbody>\n",
       "</table>\n",
       "</div>"
      ],
      "text/plain": [
       "   Document_No  Dominant_Topic  Topic_Perc_Contrib  \\\n",
       "0            0             2.0              0.9796   \n",
       "1            1             0.0              0.9373   \n",
       "2            2             3.0              0.6678   \n",
       "3            3             5.0              0.9538   \n",
       "4            4             6.0              0.7537   \n",
       "5            5             3.0              0.7903   \n",
       "6            6             1.0              0.9848   \n",
       "7            7             2.0              0.9346   \n",
       "\n",
       "                                            Keywords  \\\n",
       "0  good, place, food, great, be, not, get, go, or...   \n",
       "1  good, service, time, love, order, not, be, gre...   \n",
       "2  not, place, great, do, be, good, come, order, ...   \n",
       "3  place, not, food, be, good, do, time, get, com...   \n",
       "4  good, place, time, not, great, get, service, f...   \n",
       "5  not, place, great, do, be, good, come, order, ...   \n",
       "6  not, do, good, time, place, be, food, come, gr...   \n",
       "7  good, place, food, great, be, not, get, go, or...   \n",
       "\n",
       "                                                Text  \n",
       "0  BEWARE!!! FAKE, FAKE, FAKE....We also own a sm...  \n",
       "1  Came here for lunch Togo. Service was quick. S...  \n",
       "2  Ive been to Vegas dozens of times and had neve...  \n",
       "3  We went here on a night where they closed off ...  \n",
       "4  3.5 to 4 stars Not bad for the price, $12.99 f...  \n",
       "5  Tasty, fast casual Latin street food. The menu...  \n",
       "6  This show is absolutely amazing!! What an incr...  \n",
       "7  Came for the Pho and really enjoyed it! We got...  "
      ]
     },
     "execution_count": 78,
     "metadata": {},
     "output_type": "execute_result"
    }
   ],
   "source": [
    "# To find dominant topic in each doc:\n",
    "def format_topics_sentences(ldamodel=lda_model, corpus=corpus, texts=data):\n",
    "    # Init output\n",
    "    sent_topics_df = pd.DataFrame()\n",
    "\n",
    "    # Get main topic in each document\n",
    "    for i, row in enumerate(ldamodel[corpus]):\n",
    "        row = sorted(row, key=lambda x: (x[1]), reverse=True)\n",
    "        # Get the Dominant topic, Perc Contribution and Keywords for each document\n",
    "        for j, (topic_num, prop_topic) in enumerate(row):\n",
    "            if j == 0:  # => dominant topic\n",
    "                wp = ldamodel.show_topic(topic_num)\n",
    "                topic_keywords = \", \".join([word for word, prop in wp])\n",
    "                sent_topics_df = sent_topics_df.append(pd.Series([int(topic_num), round(prop_topic,4), topic_keywords]), ignore_index=True)\n",
    "            else:\n",
    "                break\n",
    "    sent_topics_df.columns = ['Dominant_Topic', 'Perc_Contribution', 'Topic_Keywords']\n",
    "\n",
    "    # Add original text to the end of the output\n",
    "    contents = pd.Series(texts)\n",
    "    sent_topics_df = pd.concat([sent_topics_df, contents], axis=1)\n",
    "    return(sent_topics_df)\n",
    "\n",
    "\n",
    "df_topic_sents_keywords = format_topics_sentences(ldamodel=optimal_model, corpus=corpus, texts=data)\n",
    "\n",
    "# Format\n",
    "df_dominant_topic = df_topic_sents_keywords.reset_index()\n",
    "df_dominant_topic.columns = ['Document_No', 'Dominant_Topic', 'Topic_Perc_Contrib', 'Keywords', 'Text']\n",
    "\n",
    "# Show\n",
    "df_dominant_topic.head(8)\n",
    "\n",
    "# Feature Dominant_Topic tells which of the topics is most dominant\n",
    "#  for a given document. In this case, as there are eight topics."
   ]
  },
  {
   "cell_type": "code",
   "execution_count": 79,
   "metadata": {},
   "outputs": [
    {
     "data": {
      "text/html": [
       "<div>\n",
       "<style scoped>\n",
       "    .dataframe tbody tr th:only-of-type {\n",
       "        vertical-align: middle;\n",
       "    }\n",
       "\n",
       "    .dataframe tbody tr th {\n",
       "        vertical-align: top;\n",
       "    }\n",
       "\n",
       "    .dataframe thead th {\n",
       "        text-align: right;\n",
       "    }\n",
       "</style>\n",
       "<table border=\"1\" class=\"dataframe\">\n",
       "  <thead>\n",
       "    <tr style=\"text-align: right;\">\n",
       "      <th></th>\n",
       "      <th>Topic_Num</th>\n",
       "      <th>Topic_Perc_Contrib</th>\n",
       "      <th>Keywords</th>\n",
       "      <th>Text</th>\n",
       "    </tr>\n",
       "  </thead>\n",
       "  <tbody>\n",
       "    <tr>\n",
       "      <th>0</th>\n",
       "      <td>0.0</td>\n",
       "      <td>0.9955</td>\n",
       "      <td>good, service, time, love, order, not, be, gre...</td>\n",
       "      <td>Call me crazy but I love this place! It makes ...</td>\n",
       "    </tr>\n",
       "    <tr>\n",
       "      <th>1</th>\n",
       "      <td>1.0</td>\n",
       "      <td>0.9953</td>\n",
       "      <td>not, do, good, time, place, be, food, come, gr...</td>\n",
       "      <td>Cant comment on after my root canal because it...</td>\n",
       "    </tr>\n",
       "    <tr>\n",
       "      <th>2</th>\n",
       "      <td>2.0</td>\n",
       "      <td>0.9959</td>\n",
       "      <td>good, place, food, great, be, not, get, go, or...</td>\n",
       "      <td>Really disappointed in my dinner at Bottiglia....</td>\n",
       "    </tr>\n",
       "    <tr>\n",
       "      <th>3</th>\n",
       "      <td>3.0</td>\n",
       "      <td>0.9949</td>\n",
       "      <td>not, place, great, do, be, good, come, order, ...</td>\n",
       "      <td>OH EM GEE!! This was some pretty damn good sus...</td>\n",
       "    </tr>\n",
       "    <tr>\n",
       "      <th>4</th>\n",
       "      <td>4.0</td>\n",
       "      <td>0.9953</td>\n",
       "      <td>place, good, food, time, not, come, service, h...</td>\n",
       "      <td>I brought my dog here because he was dragging ...</td>\n",
       "    </tr>\n",
       "    <tr>\n",
       "      <th>5</th>\n",
       "      <td>5.0</td>\n",
       "      <td>0.9974</td>\n",
       "      <td>place, not, food, be, good, do, time, get, com...</td>\n",
       "      <td>Like Brian T, I am surprised by the reviews. I...</td>\n",
       "    </tr>\n",
       "    <tr>\n",
       "      <th>6</th>\n",
       "      <td>6.0</td>\n",
       "      <td>0.9970</td>\n",
       "      <td>good, place, time, not, great, get, service, f...</td>\n",
       "      <td>For as much as we love both Vegas &amp; dance musi...</td>\n",
       "    </tr>\n",
       "    <tr>\n",
       "      <th>7</th>\n",
       "      <td>7.0</td>\n",
       "      <td>0.9968</td>\n",
       "      <td>not, food, good, come, service, do, order, go,...</td>\n",
       "      <td>At a mere six acres Esselmont Park is joined t...</td>\n",
       "    </tr>\n",
       "  </tbody>\n",
       "</table>\n",
       "</div>"
      ],
      "text/plain": [
       "   Topic_Num  Topic_Perc_Contrib  \\\n",
       "0        0.0              0.9955   \n",
       "1        1.0              0.9953   \n",
       "2        2.0              0.9959   \n",
       "3        3.0              0.9949   \n",
       "4        4.0              0.9953   \n",
       "5        5.0              0.9974   \n",
       "6        6.0              0.9970   \n",
       "7        7.0              0.9968   \n",
       "\n",
       "                                            Keywords  \\\n",
       "0  good, service, time, love, order, not, be, gre...   \n",
       "1  not, do, good, time, place, be, food, come, gr...   \n",
       "2  good, place, food, great, be, not, get, go, or...   \n",
       "3  not, place, great, do, be, good, come, order, ...   \n",
       "4  place, good, food, time, not, come, service, h...   \n",
       "5  place, not, food, be, good, do, time, get, com...   \n",
       "6  good, place, time, not, great, get, service, f...   \n",
       "7  not, food, good, come, service, do, order, go,...   \n",
       "\n",
       "                                                Text  \n",
       "0  Call me crazy but I love this place! It makes ...  \n",
       "1  Cant comment on after my root canal because it...  \n",
       "2  Really disappointed in my dinner at Bottiglia....  \n",
       "3  OH EM GEE!! This was some pretty damn good sus...  \n",
       "4  I brought my dog here because he was dragging ...  \n",
       "5  Like Brian T, I am surprised by the reviews. I...  \n",
       "6  For as much as we love both Vegas & dance musi...  \n",
       "7  At a mere six acres Esselmont Park is joined t...  "
      ]
     },
     "execution_count": 79,
     "metadata": {},
     "output_type": "execute_result"
    }
   ],
   "source": [
    "# To find the most representative document for each topic:\n",
    "#  can be used to get a better idea of what a topic is \n",
    "\n",
    "# Group top 5 under each topic\n",
    "sent_topics_sorteddf = pd.DataFrame()\n",
    "\n",
    "sent_topics_outdf_grpd = df_topic_sents_keywords.groupby('Dominant_Topic')\n",
    "\n",
    "for i, grp in sent_topics_outdf_grpd:\n",
    "    sent_topics_sorteddf = pd.concat([sent_topics_sorteddf, \n",
    "                                             grp.sort_values(['Perc_Contribution'], ascending=[0]).head(1)], \n",
    "                                            axis=0)\n",
    "\n",
    "# Reset Index    \n",
    "sent_topics_sorteddf.reset_index(drop=True, inplace=True)\n",
    "\n",
    "# Format\n",
    "sent_topics_sorteddf.columns = ['Topic_Num', \"Topic_Perc_Contrib\", \"Keywords\", \"Text\"]\n",
    "\n",
    "# Show\n",
    "sent_topics_sorteddf.head(8)"
   ]
  },
  {
   "cell_type": "code",
   "execution_count": 85,
   "metadata": {},
   "outputs": [
    {
     "data": {
      "text/plain": [
       "'Call me crazy but I love this place! It makes me kinda dance in my seat! Love anime but its funny while having a convo with hubby and our friend the random things I would hear coming from the TV...would make me almost repeat it and giggle :D http://www.yelp.com/user_local_photos?select=8HAUy7egm5Lgo2elWt2K_A&userid=zgV0ZroIF956gw4cul8MHA Here is why I love it: -the brown rice? hot tea -the mayu!!!!!!!!!! -the seafood udon -the kimchi -the green tea creme brûlée We ordered three hot teas and three waters they came out quickly and so we ordered edamame (they are just lightly salted) the calamari (tempura like fried, comes with mayo side and standard sweet chili side) and the chicken nugget like app (comes with ketchup and a soy like sauce?) I munched on the calamari and discovered all the sauces on the table I LOVE SPICY, I love how I immediately started dumping sriracha, mayu, chili oil, red pepper flakes, all on my side plate to smear my edamame and calamari in :) http://www.yelp.com/user_local_photos?userid=zgV0ZroIF956gw4cul8MHA I really wanted kimchi fried rice but did not want to ask for it without the pork belly (I dont eat pork) so I went for the other choice I wanted anyway SEAFOOD UDON! And I ordered a side of kimchi :) Hubby \"the non spicy\" ordered a chicken teriyaki and our friend ordered the beef ramen. Our order came out perfect and timely. We were refilled with hot water or tea quickly when out Hubby liked his huge portion of teriyaki dinner and I snatched a little bite of the ginger salad it came with and it was very good! friend liked his beef ramen! I LOVED my seafood udon! it was a very light broth, with baby bok choy, whitefish, squid, fish balls, tons of udon and very very yummy. Of course after trying the udon \"as is\" I dumped all my additives and even kimchi right into my bowl!!!! the pic of brown broth is what I should have posted :) YUM! photo: http://www.yelp.com/user_local_photos?select=fHtinRztDImiTMNdLBs1IA&userid=zgV0ZroIF956gw4cul8MHA We made sure to get something sweet :) green tea creme brulee for our friend (I tried it and it was very good) and tempura green tea ice cream for hubby and I :) photo: http://www.yelp.com/user_local_photos?select=oWjosK_785_h3LBZSSgHeg&userid=zgV0ZroIF956gw4cul8MHA Service here was perfect the girls were cute and smiley, it was not busy when we were there, maybe two other tables. I will def go back with a few anime fam/friends fans :)'"
      ]
     },
     "execution_count": 85,
     "metadata": {},
     "output_type": "execute_result"
    }
   ],
   "source": [
    "# Gain insight into what the topics are\n",
    "\n",
    "sent_topics_sorteddf.Text[7] # Hints at being tailored to parks or communal/recreational spaces \n",
    "\n",
    "sent_topics_sorteddf.Text[5] # Momofuku. Really. This topic hints at next-level, foodie havens\n",
    "\n",
    "sent_topics_sorteddf.Text[0]\n",
    "\n",
    "# Reading these two topics, one can make out that one is representative \n",
    "# of negative reviews while the other is representative of positive reviews"
   ]
  },
  {
   "cell_type": "code",
   "execution_count": 63,
   "metadata": {},
   "outputs": [
    {
     "data": {
      "text/html": [
       "<div>\n",
       "<style scoped>\n",
       "    .dataframe tbody tr th:only-of-type {\n",
       "        vertical-align: middle;\n",
       "    }\n",
       "\n",
       "    .dataframe tbody tr th {\n",
       "        vertical-align: top;\n",
       "    }\n",
       "\n",
       "    .dataframe thead th {\n",
       "        text-align: right;\n",
       "    }\n",
       "</style>\n",
       "<table border=\"1\" class=\"dataframe\">\n",
       "  <thead>\n",
       "    <tr style=\"text-align: right;\">\n",
       "      <th></th>\n",
       "      <th>Dominant_Topic</th>\n",
       "      <th>Topic_Keywords</th>\n",
       "      <th>Num_Documents</th>\n",
       "      <th>Perc_Documents</th>\n",
       "    </tr>\n",
       "  </thead>\n",
       "  <tbody>\n",
       "    <tr>\n",
       "      <th>0</th>\n",
       "      <td>0.0</td>\n",
       "      <td>good, service, time, love, order, not, be, gre...</td>\n",
       "      <td>1321</td>\n",
       "      <td>0.1321</td>\n",
       "    </tr>\n",
       "    <tr>\n",
       "      <th>1</th>\n",
       "      <td>1.0</td>\n",
       "      <td>not, do, good, time, place, be, food, come, gr...</td>\n",
       "      <td>973</td>\n",
       "      <td>0.0973</td>\n",
       "    </tr>\n",
       "    <tr>\n",
       "      <th>2</th>\n",
       "      <td>2.0</td>\n",
       "      <td>good, place, food, great, be, not, get, go, or...</td>\n",
       "      <td>1450</td>\n",
       "      <td>0.1450</td>\n",
       "    </tr>\n",
       "    <tr>\n",
       "      <th>3</th>\n",
       "      <td>3.0</td>\n",
       "      <td>not, place, great, do, be, good, come, order, ...</td>\n",
       "      <td>1505</td>\n",
       "      <td>0.1505</td>\n",
       "    </tr>\n",
       "    <tr>\n",
       "      <th>4</th>\n",
       "      <td>4.0</td>\n",
       "      <td>place, good, food, time, not, come, service, h...</td>\n",
       "      <td>1215</td>\n",
       "      <td>0.1215</td>\n",
       "    </tr>\n",
       "    <tr>\n",
       "      <th>5</th>\n",
       "      <td>5.0</td>\n",
       "      <td>place, not, food, be, good, do, time, get, com...</td>\n",
       "      <td>409</td>\n",
       "      <td>0.0409</td>\n",
       "    </tr>\n",
       "    <tr>\n",
       "      <th>6</th>\n",
       "      <td>6.0</td>\n",
       "      <td>good, place, time, not, great, get, service, f...</td>\n",
       "      <td>976</td>\n",
       "      <td>0.0976</td>\n",
       "    </tr>\n",
       "    <tr>\n",
       "      <th>7</th>\n",
       "      <td>7.0</td>\n",
       "      <td>not, food, good, come, service, do, order, go,...</td>\n",
       "      <td>2151</td>\n",
       "      <td>0.2151</td>\n",
       "    </tr>\n",
       "  </tbody>\n",
       "</table>\n",
       "</div>"
      ],
      "text/plain": [
       "   Dominant_Topic                                     Topic_Keywords  \\\n",
       "0             0.0  good, service, time, love, order, not, be, gre...   \n",
       "1             1.0  not, do, good, time, place, be, food, come, gr...   \n",
       "2             2.0  good, place, food, great, be, not, get, go, or...   \n",
       "3             3.0  not, place, great, do, be, good, come, order, ...   \n",
       "4             4.0  place, good, food, time, not, come, service, h...   \n",
       "5             5.0  place, not, food, be, good, do, time, get, com...   \n",
       "6             6.0  good, place, time, not, great, get, service, f...   \n",
       "7             7.0  not, food, good, come, service, do, order, go,...   \n",
       "\n",
       "   Num_Documents  Perc_Documents  \n",
       "0           1321          0.1321  \n",
       "1            973          0.0973  \n",
       "2           1450          0.1450  \n",
       "3           1505          0.1505  \n",
       "4           1215          0.1215  \n",
       "5            409          0.0409  \n",
       "6            976          0.0976  \n",
       "7           2151          0.2151  "
      ]
     },
     "execution_count": 63,
     "metadata": {},
     "output_type": "execute_result"
    }
   ],
   "source": [
    "# To get the distribution of topics across documents:\n",
    "# Number of Documents for Each Topic\n",
    "topic_counts = df_topic_sents_keywords['Dominant_Topic'].value_counts()\n",
    "\n",
    "# Percentage of Documents for Each Topic\n",
    "topic_contribution = round(topic_counts/topic_counts.sum(), 4)\n",
    "\n",
    "# Topic Number and Keywords\n",
    "topic_num_keywords = sent_topics_sorteddf[['Topic_Num', 'Keywords']]\n",
    "\n",
    "# Concatenate Column wise\n",
    "df_dominant_topics = pd.concat([topic_num_keywords, topic_counts.sort_index(), topic_contribution.sort_index()], axis=1)\n",
    "\n",
    "# Change Column names\n",
    "df_dominant_topics.columns = ['Dominant_Topic', 'Topic_Keywords', 'Num_Documents', 'Perc_Documents']\n",
    "\n",
    "# Show\n",
    "df_dominant_topics"
   ]
  },
  {
   "cell_type": "code",
   "execution_count": 75,
   "metadata": {},
   "outputs": [
    {
     "data": {
      "image/png": "[encoded data removed]",
      "text/plain": [
       "<Figure size 432x288 with 1 Axes>"
      ]
     },
     "metadata": {
      "needs_background": "light"
     },
     "output_type": "display_data"
    }
   ],
   "source": [
    "# Visualize the distribution of topics\n",
    "import seaborn as sns\n",
    "\n",
    "sns.barplot(x=\"Dominant_Topic\", y=\"Num_Documents\", palette=\"ch:.60\", data=df_dominant_topics);"
   ]
  },
  {
   "cell_type": "markdown",
   "metadata": {},
   "source": [
    "### Takeaway:\n",
    "From the topic model conducted above, there are several takeaways. The first is that eight topics makes for an optimum lda-model. A visualization of the distribution of these topics, over the entire dataset used, is provided just above, and shows that the eighth topic is the most dominant in terms of the number of documents which may be classified as such. Alternatively, the sixth topic represents the fewest number of documents. But what exactly are these topics? \n",
    "\n",
    "Closer analysis of the text of each topic's most representative document can introduce insight into what the topics are. In the case of the eighth topic, the topic may have to do with parks and communal/recreational spaces. The fifth topic appears to be about upper-tier gastronomical institutions/experiences. The second topic may well just have to do with negative reviews of restaurants. Indeed, most of the topics appear to concern reviews of restaurants. "
   ]
  },
  {
   "cell_type": "markdown",
   "metadata": {},
   "source": [
    "## Stretch Goals\n",
    "\n",
    "Complete one of more of these to push your score towards a three: \n",
    "* Incorporate named entity recognition into your analysis\n",
    "* Compare vectorization methods in the classification section\n",
    "* Analyze more (or all) of the yelp dataset - this one is v. hard. \n",
    "* Use a generator object on the reviews file - this would help you with the analyzing the whole dataset.\n",
    "* Incorporate any of the other yelp dataset entities in your analysis (business, users, etc.)"
   ]
  }
 ],
 "metadata": {
  "kernel_info": {
   "name": "u4-s1-nlp"
  },
  "kernelspec": {
   "display_name": "NLP",
   "language": "python",
   "name": "nlp"
  },
  "language_info": {
   "codemirror_mode": {
    "name": "ipython",
    "version": 3
   },
   "file_extension": ".py",
   "mimetype": "text/x-python",
   "name": "python",
   "nbconvert_exporter": "python",
   "pygments_lexer": "ipython3",
   "version": "3.7.0"
  },
  "nteract": {
   "version": "0.14.5"
  },
  "toc-autonumbering": false
 },
 "nbformat": 4,
 "nbformat_minor": 4
}
